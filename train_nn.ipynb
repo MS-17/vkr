{
 "cells": [
  {
   "cell_type": "code",
   "execution_count": null,
   "metadata": {
    "id": "ACISDipu4cYB"
   },
   "outputs": [],
   "source": [
    "%%bash\n",
    "data_path=/content/drive/MyDrive/vkr/second_practice/fires_data\n",
    "# unzip $data_path/non_fires.zip\n",
    "# unzip $data_path/forest_fires.zip\n",
    "# cp $data_path/Irkutsk_region.geojson .\n",
    "cp -r $data_path/train_data ."
   ]
  },
  {
   "cell_type": "code",
   "execution_count": null,
   "metadata": {
    "colab": {
     "base_uri": "https://localhost:8080/"
    },
    "id": "uaf5inNfa1Iz",
    "outputId": "4ff9254a-e56f-48cd-a2d1-a226b358105e"
   },
   "outputs": [
    {
     "name": "stdout",
     "output_type": "stream",
     "text": [
      "Requirement already satisfied: graphviz in /usr/local/lib/python3.11/dist-packages (0.20.3)\n"
     ]
    }
   ],
   "source": [
    "!pip install graphviz"
   ]
  },
  {
   "cell_type": "code",
   "execution_count": null,
   "metadata": {
    "id": "YmnpXMqW4mJR"
   },
   "outputs": [],
   "source": [
    "# !pip install mapclassify\n",
    "import geopandas as gpd\n",
    "import folium\n",
    "\n",
    "import pandas as pd\n",
    "import matplotlib.pyplot as plt\n",
    "import numpy as np\n",
    "import seaborn as sns\n",
    "import graphviz\n",
    "\n",
    "from calendar import monthrange\n",
    "import os, json\n",
    "\n",
    "import tensorflow as tf\n",
    "from tensorflow.keras import Sequential\n",
    "from tensorflow.keras.layers import Input, Dense\n",
    "\n",
    "from sklearn.metrics import classification_report, confusion_matrix, roc_auc_score, roc_curve\n",
    "from sklearn.model_selection import train_test_split\n",
    "import scipy.stats as st\n"
   ]
  },
  {
   "cell_type": "code",
   "execution_count": null,
   "metadata": {
    "id": "uQ23-rqQ5viJ"
   },
   "outputs": [],
   "source": [
    "train_files_path = \"train_data/\""
   ]
  },
  {
   "cell_type": "markdown",
   "metadata": {
    "id": "Xj13KBMDU1N0"
   },
   "source": [
    "##### Do not run"
   ]
  },
  {
   "cell_type": "code",
   "execution_count": null,
   "metadata": {
    "colab": {
     "base_uri": "https://localhost:8080/",
     "height": 141
    },
    "id": "fKPVWpwQy8WH",
    "outputId": "a38d43dd-20db-44cb-d9f4-c5156dc9cbe9"
   },
   "outputs": [
    {
     "ename": "NameError",
     "evalue": "name 'features' is not defined",
     "output_type": "error",
     "traceback": [
      "\u001b[0;31m---------------------------------------------------------------------------\u001b[0m",
      "\u001b[0;31mNameError\u001b[0m                                 Traceback (most recent call last)",
      "\u001b[0;32m<ipython-input-5-a3142a2283dc>\u001b[0m in \u001b[0;36m<cell line: 0>\u001b[0;34m()\u001b[0m\n\u001b[0;32m----> 1\u001b[0;31m \u001b[0mfeatures\u001b[0m\u001b[0;34m,\u001b[0m \u001b[0mtarget\u001b[0m\u001b[0;34m.\u001b[0m\u001b[0mhist\u001b[0m\u001b[0;34m(\u001b[0m\u001b[0;34m)\u001b[0m\u001b[0;34m\u001b[0m\u001b[0;34m\u001b[0m\u001b[0m\n\u001b[0m",
      "\u001b[0;31mNameError\u001b[0m: name 'features' is not defined"
     ]
    }
   ],
   "source": [
    "features, target.hist()"
   ]
  },
  {
   "cell_type": "code",
   "execution_count": null,
   "metadata": {
    "id": "duSxH6635mGu"
   },
   "outputs": [],
   "source": [
    "X_train_ds, X_val_ds, y_train_ds, y_val_ds = train_test_split(features, target, test_size=0.33, random_state=64)\n",
    "X_train_ds.head(5), y_train_ds.head(5)"
   ]
  },
  {
   "cell_type": "code",
   "execution_count": null,
   "metadata": {
    "id": "saky7_Em4l0N"
   },
   "outputs": [],
   "source": [
    "# prepare the test dataset\n",
    "\n",
    "train_ds_cols = train_ds.columns\n",
    "test_ds_ = test_ds.loc[:, test_ds.columns.isin(train_ds_cols)]\n",
    "print(test_ds_.columns, test_ds_.head(1))\n",
    "test_ds_.is_fire.hist()\n",
    "\n",
    "X_test_ds = test_ds_.loc[:, ~test_ds_.columns.isin([\"is_fire\"])]\n",
    "print(X_test_ds.columns)\n",
    "# arrange X_test_ds so that its columns order corresponds to the X_train_ds (carefull! pd.DataFrame)\n",
    "X_test_ds = X_test_ds.reindex(X_train_ds.columns, axis=\"columns\")\n",
    "# assert that no NaN columns appeared after the reindex\n",
    "assert X_test_ds.isnull().sum().sum() == 0\n",
    "y_test_ds = test_ds_.loc[:, \"is_fire\"]\n",
    "\n",
    "# normalize X_test using z-score (like X_train)\n",
    "X_test_ds = (X_test_ds - X_test_ds.mean()) / X_test_ds.std()\n",
    "\n",
    "print(X_test_ds.head(2), y_test_ds, sep=\"\\n\")"
   ]
  },
  {
   "cell_type": "code",
   "execution_count": null,
   "metadata": {
    "id": "h7eNEkOqv4gF"
   },
   "outputs": [],
   "source": [
    "# convert x and y train, validation and test datasets to numpy arrays\n",
    "l = [X_train_ds, y_train_ds, X_val_ds, y_val_ds, X_test_ds, y_test_ds]\n",
    "# !!! Attention: preserve the order, it's important\n",
    "X_train, y_train, X_val, y_val, X_test, y_test = map(lambda x: x.to_numpy(), l)\n",
    "print(X_train.shape, y_train.shape, X_val.shape, y_val.shape, X_test.shape, y_test.shape)\n",
    "assert X_train.shape[1] == X_val.shape[1]\n",
    "assert X_train.shape[1] == X_test.shape[1]\n",
    "# transpose y so that it works with the keras methods\n",
    "y_train = y_train.reshape(-1, 1)\n",
    "y_val = y_val.reshape(-1, 1)\n",
    "y_test = y_test.reshape(-1, 1)\n",
    "print(y_train.shape, y_val.shape, y_test.shape)"
   ]
  },
  {
   "cell_type": "code",
   "execution_count": null,
   "metadata": {
    "id": "WXtrHfjua5WF"
   },
   "outputs": [],
   "source": [
    "from tensorflow.keras import regularizers as rg\n",
    "rg.L1()\n",
    "input_shape = (X_train.shape[1], )\n",
    "print(\"Model input shape:\", input_shape)\n",
    "model = Sequential()\n",
    "model.add(Input(input_shape))\n",
    "# model.add(Dense(256, activation=\"relu\"))\n",
    "# model.add(Dense(128, activation=\"relu\", kernel_regularizer=rg.L1(0.01)))\n",
    "# model.add(Dense(64, activation=\"relu\",  kernel_regularizer=rg.L1(0.01)))\n",
    "model.add(Dense(512, activation=\"relu\", bias_regularizer=rg.L2(0.01))) #kernel_regularizer=rg.L1L2(l1=0.01, l2=0.01)))\n",
    "model.add(Dense(64, activation=\"relu\", bias_regularizer=rg.L2(0.01))) #kernel_regularizer=rg.L1L2(l1=0.01, l2=0.01)))\n",
    "model.add(Dense(8, activation=\"relu\", bias_regularizer=rg.L2(0.01))) #kernel_regularizer=rg.L1L2(l1=0.01, l2=0.01)))\n",
    "model.add(Dense(1, activation=\"sigmoid\"))\n",
    "model.summary()\n",
    "model.compile(optimizer=\"adam\", loss=\"binary_crossentropy\", metrics=[\"accuracy\", \"f1_score\"]) #, \"precision\", \"recall\", \"f1_score\", \"auc\"])\n",
    "tf.keras.utils.plot_model(\n",
    "    model=model, to_file=\"a.png\",\n",
    "    show_layer_activations=True, show_layer_names=True, show_shapes=True,\n",
    "    dpi=100\n",
    ")\n",
    "# a = tf.keras.utils.vis_utils.model_to_dot(model=model, show_layer_activations=True, show_layer_names=True, show_shapes=True, )"
   ]
  },
  {
   "cell_type": "code",
   "execution_count": null,
   "metadata": {
    "id": "USTZayOpa5Tu"
   },
   "outputs": [],
   "source": [
    "model.optimizer.learning_rate.assign(0.0001)\n",
    "callback_ = tf.keras.callbacks.EarlyStopping(monitor=\"val_loss\", patience=3, mode=\"min\", start_from_epoch=3)\n",
    "# to validate provide either the validation_data = (x_val, y_val) or the validation_split = (float)\n",
    "# if both provided the validation_data overrides the validation_split\n",
    "model.fit(\n",
    "    X_train, y_train,\n",
    "    batch_size=64, epochs=100,\n",
    "    # validation_split=0.2,\n",
    "    validation_data=[X_val, y_val],\n",
    "    callbacks=callback_,\n",
    ")"
   ]
  },
  {
   "cell_type": "code",
   "execution_count": null,
   "metadata": {
    "id": "D-C8PiLAcGIN"
   },
   "outputs": [],
   "source": [
    "model.evaluate(X_test, y_test)"
   ]
  },
  {
   "cell_type": "code",
   "execution_count": null,
   "metadata": {
    "id": "yDt8T9Y6a5RC"
   },
   "outputs": [],
   "source": [
    "y_pred = model.predict(X_test)\n",
    "print(y_pred.shape)\n",
    "y_pred = (y_pred > 0.5)\n",
    "print(y_pred.shape)\n",
    "np.unique(y_pred)"
   ]
  },
  {
   "cell_type": "code",
   "execution_count": null,
   "metadata": {
    "id": "EZiZwvMCWl0O"
   },
   "outputs": [],
   "source": [
    "print(classification_report(y_test, y_pred.astype(int)))\n",
    "cm = confusion_matrix(y_test, y_pred.astype(int))\n",
    "sns.heatmap(cm, annot=True, fmt=\"g\")"
   ]
  },
  {
   "cell_type": "code",
   "execution_count": null,
   "metadata": {
    "id": "wvnsiPwFWloz"
   },
   "outputs": [],
   "source": [
    "# 60 epochs, batch_size = 64, train:val split = 0.25\n",
    "# 3 layers 0.66 0.74, 0.69\n",
    "# 2 layers 0.69 0.57 0.72\n",
    "# 2 layers + L1 0.64 0.72 0.68\n",
    "# 1 layer 0.71 0.72 0.71\n",
    "\n",
    "# 100 ep, batch_size = 64, split = 0.25\n",
    "# 2 layers 0.68 0.74 0.71\n",
    "\n",
    "# 100 ep batch = 64 split = 0.33 r_state = 64\n",
    "# 3 layers 0.72 0.76 0.74\n",
    "# 3 layers + L1 (0.001)  0.69 0.75 0.72\n",
    "# 3 layers + L1 + L1 0.56 0.69 0.63\n",
    "# 3 layers + L1 + L1 + L1 0.49 0.66 0.57\n",
    "# 3 layers + L2 + L2 + L2 0.65 0.74 0.69\n",
    "# 3 layers + L1L2 + L1L2 + L1L2(0.01, 0.01) 0.56 0.69 0.63\n",
    "\n",
    "# above is regs on kernel\n",
    "\n",
    "# below is regs on output\n",
    "# 100 ep batch = 64 split = 0.33 r_state = 64\n",
    "# 3 layers + L1L2 + L1L2 + L1L2(0.01, 0.001) stopped\n",
    "# 3 layers + L1 + L1 + L1(0.01) stopped\n",
    "# 3 layers + L2 + L2 + L2(0.01) 0.76 0.58 0.67\n",
    "\n",
    "# below is regs on bias\n",
    "# 100 ep batch = 64 split = 0.33 r_state = 64\n",
    "# 3 layers (512, 64, 8) + bias + L2 + L2 + L2(0.01) 0.73 0.77 0.75\n",
    "\n",
    "#"
   ]
  },
  {
   "cell_type": "code",
   "execution_count": null,
   "metadata": {
    "id": "JoBlkQUnWlgP"
   },
   "outputs": [],
   "source": []
  },
  {
   "cell_type": "code",
   "execution_count": null,
   "metadata": {
    "id": "0woiJ69O-Sy7"
   },
   "outputs": [],
   "source": [
    "print(classification_report(y_test, y_pred.astype(int)))\n",
    "cm = confusion_matrix(y_test, y_pred.astype(int))\n",
    "sns.heatmap(cm, annot=True, fmt=\"g\")"
   ]
  },
  {
   "cell_type": "code",
   "execution_count": null,
   "metadata": {
    "id": "UveeOYgFzD2I"
   },
   "outputs": [],
   "source": []
  },
  {
   "cell_type": "code",
   "execution_count": null,
   "metadata": {
    "id": "KvEdSOQOzDvZ"
   },
   "outputs": [],
   "source": []
  },
  {
   "cell_type": "code",
   "execution_count": null,
   "metadata": {
    "id": "IwEG4dgUzEU8"
   },
   "outputs": [],
   "source": []
  },
  {
   "cell_type": "markdown",
   "metadata": {
    "id": "oByOMJZ5zCXX"
   },
   "source": [
    "##### Train with all features"
   ]
  },
  {
   "cell_type": "code",
   "execution_count": null,
   "metadata": {
    "colab": {
     "base_uri": "https://localhost:8080/"
    },
    "id": "WyFH2C7A-yJQ",
    "outputId": "fb5c6e66-b8cf-44c1-dda2-2db97ba7e710"
   },
   "outputs": [
    {
     "name": "stdout",
     "output_type": "stream",
     "text": [
      "year                 int64\n",
      "is_fire              int64\n",
      "T                  float64\n",
      "RH                 float64\n",
      "WIND_DIR_STD       float64\n",
      "WIND_SPEED         float64\n",
      "APCP               float64\n",
      "elevation          float64\n",
      "slope              float64\n",
      "aspect             float64\n",
      "vegetation_type      int64\n",
      "road_dist          float64\n",
      "river_dist         float64\n",
      "locality_dist      float64\n",
      "techno_obj_dist    float64\n",
      "dtype: object    year  is_fire          T         RH  WIND_DIR_STD  WIND_SPEED      APCP  \\\n",
      "0  2024        1  16.133750  50.912500    129.970944    1.725000  0.025000   \n",
      "1  2024        1  24.109375  46.468750    119.376992    2.028125  0.025000   \n",
      "2  2024        1  23.584375  47.534375    141.419912    2.093750  0.015625   \n",
      "3  2024        1  19.822812  57.487500    100.166043    1.984375  0.118750   \n",
      "4  2024        1  24.206562  40.284375     67.711544    2.431250  0.025000   \n",
      "\n",
      "    elevation     slope      aspect  vegetation_type      road_dist  \\\n",
      "0  351.109375  0.862569  217.516313               18  422363.693609   \n",
      "1  362.041667  0.860739  300.709934               18  426784.065997   \n",
      "2  283.482759  1.586822  214.297013               18  614839.740231   \n",
      "3  301.443662  1.479039  184.112328                1  602526.185900   \n",
      "4  345.325581  1.416153  183.756185               18  403076.886945   \n",
      "\n",
      "     river_dist  locality_dist  techno_obj_dist  \n",
      "0  40989.628659  139923.175317    772714.174606  \n",
      "1  42449.312116  140882.262596    771923.913271  \n",
      "2   2886.425311  125454.827189    804036.438063  \n",
      "3      0.000000  119364.982175    798698.850251  \n",
      "4  49023.719105  136235.692492    746352.437032  \n"
     ]
    }
   ],
   "source": [
    "# read the test dataset and drop columns to correspond to the training dataset\n",
    "test_ds = pd.read_csv(train_files_path + \"test_dataset_2024.csv\", sep=\";\").drop(columns=[\"Unnamed: 0\"])\n",
    "test_ds[\"vegetation_type\"] = test_ds[\"vegetation_type\"].astype(int)\n",
    "print(test_ds.dtypes, test_ds.head(5))"
   ]
  },
  {
   "cell_type": "code",
   "execution_count": null,
   "metadata": {
    "colab": {
     "base_uri": "https://localhost:8080/",
     "height": 591
    },
    "id": "jq4Z4z9E4mDD",
    "outputId": "5160c7fd-47d2-4648-e20c-a5eaa02bf38a"
   },
   "outputs": [
    {
     "name": "stdout",
     "output_type": "stream",
     "text": [
      "T                  float64\n",
      "RH                 float64\n",
      "WIND_DIR_STD       float64\n",
      "WIND_SPEED         float64\n",
      "APCP               float64\n",
      "elevation          float64\n",
      "slope              float64\n",
      "aspect             float64\n",
      "road_dist          float64\n",
      "river_dist         float64\n",
      "locality_dist      float64\n",
      "techno_obj_dist    float64\n",
      "vegetation_type      int64\n",
      "is_fire              int64\n",
      "dtype: object\n",
      "(18314, 14)\n",
      "Index(['T', 'RH', 'WIND_DIR_STD', 'WIND_SPEED', 'APCP', 'elevation', 'slope',\n",
      "       'aspect', 'road_dist', 'river_dist', 'locality_dist', 'techno_obj_dist',\n",
      "       'vegetation_type', 'is_fire'],\n",
      "      dtype='object')\n",
      "RangeIndex(start=0, stop=18314, step=1)\n"
     ]
    },
    {
     "data": {
      "application/vnd.google.colaboratory.intrinsic+json": {
       "summary": "{\n  \"name\": \"train_ds\",\n  \"rows\": 18314,\n  \"fields\": [\n    {\n      \"column\": \"T\",\n      \"properties\": {\n        \"dtype\": \"number\",\n        \"std\": 0.999999999999998,\n        \"min\": -3.91404813822064,\n        \"max\": 1.995290785284042,\n        \"num_unique_values\": 16168,\n        \"samples\": [\n          -0.1995803942667427,\n          -1.442181224447305,\n          -0.9696796482652\n        ],\n        \"semantic_type\": \"\",\n        \"description\": \"\"\n      }\n    },\n    {\n      \"column\": \"RH\",\n      \"properties\": {\n        \"dtype\": \"number\",\n        \"std\": 0.9999999999999986,\n        \"min\": -2.558691816219444,\n        \"max\": 1.5817652569691925,\n        \"num_unique_values\": 11685,\n        \"samples\": [\n          0.6659466619685596,\n          -1.1237257945690644,\n          1.3020636624355135\n        ],\n        \"semantic_type\": \"\",\n        \"description\": \"\"\n      }\n    },\n    {\n      \"column\": \"WIND_DIR_STD\",\n      \"properties\": {\n        \"dtype\": \"number\",\n        \"std\": 1.0000000000000009,\n        \"min\": -2.984924170992129,\n        \"max\": 3.4081173878156386,\n        \"num_unique_values\": 17309,\n        \"samples\": [\n          -0.2542249174622152,\n          -0.21873257127408,\n          0.2681438004079056\n        ],\n        \"semantic_type\": \"\",\n        \"description\": \"\"\n      }\n    },\n    {\n      \"column\": \"WIND_SPEED\",\n      \"properties\": {\n        \"dtype\": \"number\",\n        \"std\": 1.0000000000000036,\n        \"min\": -2.3938085480120543,\n        \"max\": 5.22148404702674,\n        \"num_unique_values\": 1727,\n        \"samples\": [\n          1.2987946410340223,\n          -2.1581104721154967,\n          -0.974008233682788\n        ],\n        \"semantic_type\": \"\",\n        \"description\": \"\"\n      }\n    },\n    {\n      \"column\": \"APCP\",\n      \"properties\": {\n        \"dtype\": \"number\",\n        \"std\": 0.9999999999999962,\n        \"min\": -0.9999546411301812,\n        \"max\": 12.386979652713508,\n        \"num_unique_values\": 1786,\n        \"samples\": [\n          4.370925522110206,\n          1.449184554293445,\n          2.117091600531261\n        ],\n        \"semantic_type\": \"\",\n        \"description\": \"\"\n      }\n    },\n    {\n      \"column\": \"elevation\",\n      \"properties\": {\n        \"dtype\": \"number\",\n        \"std\": 0.9999999999999999,\n        \"min\": -1.565654928666171,\n        \"max\": 7.066830745910355,\n        \"num_unique_values\": 8082,\n        \"samples\": [\n          -1.011168020377954,\n          -0.630147963017335,\n          -0.2434602638216798\n        ],\n        \"semantic_type\": \"\",\n        \"description\": \"\"\n      }\n    },\n    {\n      \"column\": \"slope\",\n      \"properties\": {\n        \"dtype\": \"number\",\n        \"std\": 0.9999999999999996,\n        \"min\": -0.9704051977797384,\n        \"max\": 8.730675273644152,\n        \"num_unique_values\": 14755,\n        \"samples\": [\n          0.0165520494936095,\n          5.436992592300734,\n          2.88190403951349\n        ],\n        \"semantic_type\": \"\",\n        \"description\": \"\"\n      }\n    },\n    {\n      \"column\": \"aspect\",\n      \"properties\": {\n        \"dtype\": \"number\",\n        \"std\": 0.9999999999999979,\n        \"min\": -2.0112483492275457,\n        \"max\": 2.093957902381637,\n        \"num_unique_values\": 15977,\n        \"samples\": [\n          -0.3145139356575562,\n          0.7679543883420892,\n          -0.649836927942206\n        ],\n        \"semantic_type\": \"\",\n        \"description\": \"\"\n      }\n    },\n    {\n      \"column\": \"road_dist\",\n      \"properties\": {\n        \"dtype\": \"number\",\n        \"std\": 1.0000000000000016,\n        \"min\": -1.0373599426945856,\n        \"max\": 2.9986491941446,\n        \"num_unique_values\": 18152,\n        \"samples\": [\n          -0.7932373724201947,\n          2.2814566059919503,\n          -1.0060232042782875\n        ],\n        \"semantic_type\": \"\",\n        \"description\": \"\"\n      }\n    },\n    {\n      \"column\": \"river_dist\",\n      \"properties\": {\n        \"dtype\": \"number\",\n        \"std\": 0.9999999999999964,\n        \"min\": -1.1021859545737265,\n        \"max\": 6.161478567188731,\n        \"num_unique_values\": 17477,\n        \"samples\": [\n          -0.2250501626647146,\n          -0.3851820309874335,\n          1.7556660552613708\n        ],\n        \"semantic_type\": \"\",\n        \"description\": \"\"\n      }\n    },\n    {\n      \"column\": \"locality_dist\",\n      \"properties\": {\n        \"dtype\": \"number\",\n        \"std\": 0.9999999999999976,\n        \"min\": -1.098391656416515,\n        \"max\": 4.208118402234605,\n        \"num_unique_values\": 18314,\n        \"samples\": [\n          -0.6523500298600122,\n          -0.6473663045000076,\n          -0.2542398044483221\n        ],\n        \"semantic_type\": \"\",\n        \"description\": \"\"\n      }\n    },\n    {\n      \"column\": \"techno_obj_dist\",\n      \"properties\": {\n        \"dtype\": \"number\",\n        \"std\": 0.999999999999999,\n        \"min\": -0.7927010387654377,\n        \"max\": 5.1108068950205405,\n        \"num_unique_values\": 18313,\n        \"samples\": [\n          -0.6031612578046742,\n          -0.5964312034740624,\n          -0.5917709026459479\n        ],\n        \"semantic_type\": \"\",\n        \"description\": \"\"\n      }\n    },\n    {\n      \"column\": \"vegetation_type\",\n      \"properties\": {\n        \"dtype\": \"number\",\n        \"std\": 5,\n        \"min\": 1,\n        \"max\": 25,\n        \"num_unique_values\": 12,\n        \"samples\": [\n          10,\n          8,\n          21\n        ],\n        \"semantic_type\": \"\",\n        \"description\": \"\"\n      }\n    },\n    {\n      \"column\": \"is_fire\",\n      \"properties\": {\n        \"dtype\": \"number\",\n        \"std\": 0,\n        \"min\": 0,\n        \"max\": 1,\n        \"num_unique_values\": 2,\n        \"samples\": [\n          0,\n          1\n        ],\n        \"semantic_type\": \"\",\n        \"description\": \"\"\n      }\n    }\n  ]\n}",
       "type": "dataframe",
       "variable_name": "train_ds"
      },
      "text/html": [
       "\n",
       "  <div id=\"df-e837301d-9809-4fb2-b21d-501bfa3223d5\" class=\"colab-df-container\">\n",
       "    <div>\n",
       "<style scoped>\n",
       "    .dataframe tbody tr th:only-of-type {\n",
       "        vertical-align: middle;\n",
       "    }\n",
       "\n",
       "    .dataframe tbody tr th {\n",
       "        vertical-align: top;\n",
       "    }\n",
       "\n",
       "    .dataframe thead th {\n",
       "        text-align: right;\n",
       "    }\n",
       "</style>\n",
       "<table border=\"1\" class=\"dataframe\">\n",
       "  <thead>\n",
       "    <tr style=\"text-align: right;\">\n",
       "      <th></th>\n",
       "      <th>T</th>\n",
       "      <th>RH</th>\n",
       "      <th>WIND_DIR_STD</th>\n",
       "      <th>WIND_SPEED</th>\n",
       "      <th>APCP</th>\n",
       "      <th>elevation</th>\n",
       "      <th>slope</th>\n",
       "      <th>aspect</th>\n",
       "      <th>road_dist</th>\n",
       "      <th>river_dist</th>\n",
       "      <th>locality_dist</th>\n",
       "      <th>techno_obj_dist</th>\n",
       "      <th>vegetation_type</th>\n",
       "      <th>is_fire</th>\n",
       "    </tr>\n",
       "  </thead>\n",
       "  <tbody>\n",
       "    <tr>\n",
       "      <th>0</th>\n",
       "      <td>1.117702</td>\n",
       "      <td>-0.480393</td>\n",
       "      <td>0.952862</td>\n",
       "      <td>-0.216407</td>\n",
       "      <td>0.839897</td>\n",
       "      <td>0.592592</td>\n",
       "      <td>0.391917</td>\n",
       "      <td>0.603082</td>\n",
       "      <td>-0.106400</td>\n",
       "      <td>-0.129627</td>\n",
       "      <td>0.926929</td>\n",
       "      <td>2.392782</td>\n",
       "      <td>21</td>\n",
       "      <td>1</td>\n",
       "    </tr>\n",
       "    <tr>\n",
       "      <th>1</th>\n",
       "      <td>0.910026</td>\n",
       "      <td>-0.708636</td>\n",
       "      <td>1.047870</td>\n",
       "      <td>-1.378062</td>\n",
       "      <td>-0.411450</td>\n",
       "      <td>0.726857</td>\n",
       "      <td>0.646070</td>\n",
       "      <td>1.177261</td>\n",
       "      <td>0.072706</td>\n",
       "      <td>-0.066609</td>\n",
       "      <td>2.805027</td>\n",
       "      <td>1.691132</td>\n",
       "      <td>1</td>\n",
       "      <td>1</td>\n",
       "    </tr>\n",
       "    <tr>\n",
       "      <th>2</th>\n",
       "      <td>-0.929746</td>\n",
       "      <td>0.385106</td>\n",
       "      <td>1.468098</td>\n",
       "      <td>-0.042440</td>\n",
       "      <td>-0.603488</td>\n",
       "      <td>-0.265768</td>\n",
       "      <td>1.565744</td>\n",
       "      <td>1.537563</td>\n",
       "      <td>0.314132</td>\n",
       "      <td>-1.025357</td>\n",
       "      <td>2.144765</td>\n",
       "      <td>1.116375</td>\n",
       "      <td>11</td>\n",
       "      <td>1</td>\n",
       "    </tr>\n",
       "    <tr>\n",
       "      <th>3</th>\n",
       "      <td>-0.843529</td>\n",
       "      <td>0.329279</td>\n",
       "      <td>1.863494</td>\n",
       "      <td>0.120304</td>\n",
       "      <td>-0.572514</td>\n",
       "      <td>-0.262266</td>\n",
       "      <td>0.029107</td>\n",
       "      <td>0.466084</td>\n",
       "      <td>0.465508</td>\n",
       "      <td>0.044484</td>\n",
       "      <td>1.428999</td>\n",
       "      <td>0.912215</td>\n",
       "      <td>15</td>\n",
       "      <td>1</td>\n",
       "    </tr>\n",
       "    <tr>\n",
       "      <th>4</th>\n",
       "      <td>1.208797</td>\n",
       "      <td>-0.599954</td>\n",
       "      <td>0.317706</td>\n",
       "      <td>-0.421694</td>\n",
       "      <td>-0.283758</td>\n",
       "      <td>1.094569</td>\n",
       "      <td>1.091687</td>\n",
       "      <td>0.581935</td>\n",
       "      <td>0.483859</td>\n",
       "      <td>-0.405281</td>\n",
       "      <td>1.718110</td>\n",
       "      <td>0.913903</td>\n",
       "      <td>1</td>\n",
       "      <td>1</td>\n",
       "    </tr>\n",
       "  </tbody>\n",
       "</table>\n",
       "</div>\n",
       "    <div class=\"colab-df-buttons\">\n",
       "\n",
       "  <div class=\"colab-df-container\">\n",
       "    <button class=\"colab-df-convert\" onclick=\"convertToInteractive('df-e837301d-9809-4fb2-b21d-501bfa3223d5')\"\n",
       "            title=\"Convert this dataframe to an interactive table.\"\n",
       "            style=\"display:none;\">\n",
       "\n",
       "  <svg xmlns=\"http://www.w3.org/2000/svg\" height=\"24px\" viewBox=\"0 -960 960 960\">\n",
       "    <path d=\"M120-120v-720h720v720H120Zm60-500h600v-160H180v160Zm220 220h160v-160H400v160Zm0 220h160v-160H400v160ZM180-400h160v-160H180v160Zm440 0h160v-160H620v160ZM180-180h160v-160H180v160Zm440 0h160v-160H620v160Z\"/>\n",
       "  </svg>\n",
       "    </button>\n",
       "\n",
       "  <style>\n",
       "    .colab-df-container {\n",
       "      display:flex;\n",
       "      gap: 12px;\n",
       "    }\n",
       "\n",
       "    .colab-df-convert {\n",
       "      background-color: #E8F0FE;\n",
       "      border: none;\n",
       "      border-radius: 50%;\n",
       "      cursor: pointer;\n",
       "      display: none;\n",
       "      fill: #1967D2;\n",
       "      height: 32px;\n",
       "      padding: 0 0 0 0;\n",
       "      width: 32px;\n",
       "    }\n",
       "\n",
       "    .colab-df-convert:hover {\n",
       "      background-color: #E2EBFA;\n",
       "      box-shadow: 0px 1px 2px rgba(60, 64, 67, 0.3), 0px 1px 3px 1px rgba(60, 64, 67, 0.15);\n",
       "      fill: #174EA6;\n",
       "    }\n",
       "\n",
       "    .colab-df-buttons div {\n",
       "      margin-bottom: 4px;\n",
       "    }\n",
       "\n",
       "    [theme=dark] .colab-df-convert {\n",
       "      background-color: #3B4455;\n",
       "      fill: #D2E3FC;\n",
       "    }\n",
       "\n",
       "    [theme=dark] .colab-df-convert:hover {\n",
       "      background-color: #434B5C;\n",
       "      box-shadow: 0px 1px 3px 1px rgba(0, 0, 0, 0.15);\n",
       "      filter: drop-shadow(0px 1px 2px rgba(0, 0, 0, 0.3));\n",
       "      fill: #FFFFFF;\n",
       "    }\n",
       "  </style>\n",
       "\n",
       "    <script>\n",
       "      const buttonEl =\n",
       "        document.querySelector('#df-e837301d-9809-4fb2-b21d-501bfa3223d5 button.colab-df-convert');\n",
       "      buttonEl.style.display =\n",
       "        google.colab.kernel.accessAllowed ? 'block' : 'none';\n",
       "\n",
       "      async function convertToInteractive(key) {\n",
       "        const element = document.querySelector('#df-e837301d-9809-4fb2-b21d-501bfa3223d5');\n",
       "        const dataTable =\n",
       "          await google.colab.kernel.invokeFunction('convertToInteractive',\n",
       "                                                    [key], {});\n",
       "        if (!dataTable) return;\n",
       "\n",
       "        const docLinkHtml = 'Like what you see? Visit the ' +\n",
       "          '<a target=\"_blank\" href=https://colab.research.google.com/notebooks/data_table.ipynb>data table notebook</a>'\n",
       "          + ' to learn more about interactive tables.';\n",
       "        element.innerHTML = '';\n",
       "        dataTable['output_type'] = 'display_data';\n",
       "        await google.colab.output.renderOutput(dataTable, element);\n",
       "        const docLink = document.createElement('div');\n",
       "        docLink.innerHTML = docLinkHtml;\n",
       "        element.appendChild(docLink);\n",
       "      }\n",
       "    </script>\n",
       "  </div>\n",
       "\n",
       "\n",
       "    <div id=\"df-9aaf7ec9-a76c-4484-bcac-488aadd30e9d\">\n",
       "      <button class=\"colab-df-quickchart\" onclick=\"quickchart('df-9aaf7ec9-a76c-4484-bcac-488aadd30e9d')\"\n",
       "                title=\"Suggest charts\"\n",
       "                style=\"display:none;\">\n",
       "\n",
       "<svg xmlns=\"http://www.w3.org/2000/svg\" height=\"24px\"viewBox=\"0 0 24 24\"\n",
       "     width=\"24px\">\n",
       "    <g>\n",
       "        <path d=\"M19 3H5c-1.1 0-2 .9-2 2v14c0 1.1.9 2 2 2h14c1.1 0 2-.9 2-2V5c0-1.1-.9-2-2-2zM9 17H7v-7h2v7zm4 0h-2V7h2v10zm4 0h-2v-4h2v4z\"/>\n",
       "    </g>\n",
       "</svg>\n",
       "      </button>\n",
       "\n",
       "<style>\n",
       "  .colab-df-quickchart {\n",
       "      --bg-color: #E8F0FE;\n",
       "      --fill-color: #1967D2;\n",
       "      --hover-bg-color: #E2EBFA;\n",
       "      --hover-fill-color: #174EA6;\n",
       "      --disabled-fill-color: #AAA;\n",
       "      --disabled-bg-color: #DDD;\n",
       "  }\n",
       "\n",
       "  [theme=dark] .colab-df-quickchart {\n",
       "      --bg-color: #3B4455;\n",
       "      --fill-color: #D2E3FC;\n",
       "      --hover-bg-color: #434B5C;\n",
       "      --hover-fill-color: #FFFFFF;\n",
       "      --disabled-bg-color: #3B4455;\n",
       "      --disabled-fill-color: #666;\n",
       "  }\n",
       "\n",
       "  .colab-df-quickchart {\n",
       "    background-color: var(--bg-color);\n",
       "    border: none;\n",
       "    border-radius: 50%;\n",
       "    cursor: pointer;\n",
       "    display: none;\n",
       "    fill: var(--fill-color);\n",
       "    height: 32px;\n",
       "    padding: 0;\n",
       "    width: 32px;\n",
       "  }\n",
       "\n",
       "  .colab-df-quickchart:hover {\n",
       "    background-color: var(--hover-bg-color);\n",
       "    box-shadow: 0 1px 2px rgba(60, 64, 67, 0.3), 0 1px 3px 1px rgba(60, 64, 67, 0.15);\n",
       "    fill: var(--button-hover-fill-color);\n",
       "  }\n",
       "\n",
       "  .colab-df-quickchart-complete:disabled,\n",
       "  .colab-df-quickchart-complete:disabled:hover {\n",
       "    background-color: var(--disabled-bg-color);\n",
       "    fill: var(--disabled-fill-color);\n",
       "    box-shadow: none;\n",
       "  }\n",
       "\n",
       "  .colab-df-spinner {\n",
       "    border: 2px solid var(--fill-color);\n",
       "    border-color: transparent;\n",
       "    border-bottom-color: var(--fill-color);\n",
       "    animation:\n",
       "      spin 1s steps(1) infinite;\n",
       "  }\n",
       "\n",
       "  @keyframes spin {\n",
       "    0% {\n",
       "      border-color: transparent;\n",
       "      border-bottom-color: var(--fill-color);\n",
       "      border-left-color: var(--fill-color);\n",
       "    }\n",
       "    20% {\n",
       "      border-color: transparent;\n",
       "      border-left-color: var(--fill-color);\n",
       "      border-top-color: var(--fill-color);\n",
       "    }\n",
       "    30% {\n",
       "      border-color: transparent;\n",
       "      border-left-color: var(--fill-color);\n",
       "      border-top-color: var(--fill-color);\n",
       "      border-right-color: var(--fill-color);\n",
       "    }\n",
       "    40% {\n",
       "      border-color: transparent;\n",
       "      border-right-color: var(--fill-color);\n",
       "      border-top-color: var(--fill-color);\n",
       "    }\n",
       "    60% {\n",
       "      border-color: transparent;\n",
       "      border-right-color: var(--fill-color);\n",
       "    }\n",
       "    80% {\n",
       "      border-color: transparent;\n",
       "      border-right-color: var(--fill-color);\n",
       "      border-bottom-color: var(--fill-color);\n",
       "    }\n",
       "    90% {\n",
       "      border-color: transparent;\n",
       "      border-bottom-color: var(--fill-color);\n",
       "    }\n",
       "  }\n",
       "</style>\n",
       "\n",
       "      <script>\n",
       "        async function quickchart(key) {\n",
       "          const quickchartButtonEl =\n",
       "            document.querySelector('#' + key + ' button');\n",
       "          quickchartButtonEl.disabled = true;  // To prevent multiple clicks.\n",
       "          quickchartButtonEl.classList.add('colab-df-spinner');\n",
       "          try {\n",
       "            const charts = await google.colab.kernel.invokeFunction(\n",
       "                'suggestCharts', [key], {});\n",
       "          } catch (error) {\n",
       "            console.error('Error during call to suggestCharts:', error);\n",
       "          }\n",
       "          quickchartButtonEl.classList.remove('colab-df-spinner');\n",
       "          quickchartButtonEl.classList.add('colab-df-quickchart-complete');\n",
       "        }\n",
       "        (() => {\n",
       "          let quickchartButtonEl =\n",
       "            document.querySelector('#df-9aaf7ec9-a76c-4484-bcac-488aadd30e9d button');\n",
       "          quickchartButtonEl.style.display =\n",
       "            google.colab.kernel.accessAllowed ? 'block' : 'none';\n",
       "        })();\n",
       "      </script>\n",
       "    </div>\n",
       "    </div>\n",
       "  </div>\n"
      ],
      "text/plain": [
       "          T        RH  WIND_DIR_STD  WIND_SPEED      APCP  elevation  \\\n",
       "0  1.117702 -0.480393      0.952862   -0.216407  0.839897   0.592592   \n",
       "1  0.910026 -0.708636      1.047870   -1.378062 -0.411450   0.726857   \n",
       "2 -0.929746  0.385106      1.468098   -0.042440 -0.603488  -0.265768   \n",
       "3 -0.843529  0.329279      1.863494    0.120304 -0.572514  -0.262266   \n",
       "4  1.208797 -0.599954      0.317706   -0.421694 -0.283758   1.094569   \n",
       "\n",
       "      slope    aspect  road_dist  river_dist  locality_dist  techno_obj_dist  \\\n",
       "0  0.391917  0.603082  -0.106400   -0.129627       0.926929         2.392782   \n",
       "1  0.646070  1.177261   0.072706   -0.066609       2.805027         1.691132   \n",
       "2  1.565744  1.537563   0.314132   -1.025357       2.144765         1.116375   \n",
       "3  0.029107  0.466084   0.465508    0.044484       1.428999         0.912215   \n",
       "4  1.091687  0.581935   0.483859   -0.405281       1.718110         0.913903   \n",
       "\n",
       "   vegetation_type  is_fire  \n",
       "0               21        1  \n",
       "1                1        1  \n",
       "2               11        1  \n",
       "3               15        1  \n",
       "4                1        1  "
      ]
     },
     "execution_count": 7,
     "metadata": {},
     "output_type": "execute_result"
    }
   ],
   "source": [
    "train_ds = pd.read_csv(train_files_path + \"dataset.csv\", sep=\";\").drop(columns=[\"Unnamed: 0\"])\n",
    "print(train_ds.dtypes, train_ds.shape, train_ds.columns, train_ds.index, sep=\"\\n\")\n",
    "train_ds.head(5)"
   ]
  },
  {
   "cell_type": "code",
   "execution_count": null,
   "metadata": {
    "colab": {
     "base_uri": "https://localhost:8080/",
     "height": 621
    },
    "id": "50Db7Q8BzKZs",
    "outputId": "82c15b05-1e47-451c-cba9-6af6f34726e0"
   },
   "outputs": [
    {
     "name": "stdout",
     "output_type": "stream",
     "text": [
      "Index([ 1097,  1098,  1099,  1100,  1101,  1102,  1103,  1104,  1105,  1106,\n",
      "       ...\n",
      "       18304, 18305, 18306, 18307, 18308, 18309, 18310, 18311, 18312, 18313],\n",
      "      dtype='int64', length=10653)\n",
      "2777 18314\n",
      "(2777,)\n"
     ]
    },
    {
     "data": {
      "text/plain": [
       "(is_fire\n",
       " 0    7876\n",
       " 1    7661\n",
       " Name: count, dtype: int64,\n",
       " <Axes: >)"
      ]
     },
     "execution_count": 8,
     "metadata": {},
     "output_type": "execute_result"
    },
    {
     "data": {
      "image/png": "[encoded data removed]",
      "text/plain": [
       "<Figure size 640x480 with 1 Axes>"
      ]
     },
     "metadata": {},
     "output_type": "display_data"
    }
   ],
   "source": [
    "# drop nonfires\n",
    "drop_nonfires_idx = train_ds[(train_ds.is_fire == 0)].index\n",
    "assert drop_nonfires_idx.duplicated().sum() == 0\n",
    "print(drop_nonfires_idx)\n",
    "idx = drop_nonfires_idx.to_numpy()\n",
    "np.random.shuffle(idx)\n",
    "vc = train_ds.is_fire.value_counts()\n",
    "a = -215\n",
    "diff = vc[0] - vc[1] + a\n",
    "print(diff, train_ds.shape[0])\n",
    "drop_idx = idx[:diff]\n",
    "print(drop_idx.shape)\n",
    "\n",
    "train_ds = train_ds.drop(index=drop_idx)\n",
    "train_ds.is_fire.value_counts(), train_ds.is_fire.hist()"
   ]
  },
  {
   "cell_type": "code",
   "execution_count": null,
   "metadata": {
    "colab": {
     "base_uri": "https://localhost:8080/"
    },
    "id": "hAEfnV__E-nz",
    "outputId": "8e2036f6-8811-4af3-9244-a89f8fadbf64"
   },
   "outputs": [
    {
     "data": {
      "text/plain": [
       "(          T        RH  WIND_DIR_STD  WIND_SPEED      APCP  elevation  \\\n",
       " 0  1.117702 -0.480393      0.952862   -0.216407  0.839897   0.592592   \n",
       " \n",
       "       slope    aspect  road_dist  river_dist  locality_dist  techno_obj_dist  \\\n",
       " 0  0.391917  0.603082    -0.1064   -0.129627       0.926929         2.392782   \n",
       " \n",
       "    vegetation_type  \n",
       " 0               21  ,\n",
       " 0        1\n",
       " 1        1\n",
       " 2        1\n",
       " 3        1\n",
       " 4        1\n",
       "         ..\n",
       " 18309    0\n",
       " 18310    0\n",
       " 18311    0\n",
       " 18312    0\n",
       " 18313    0\n",
       " Name: is_fire, Length: 15537, dtype: int64)"
      ]
     },
     "execution_count": 9,
     "metadata": {},
     "output_type": "execute_result"
    }
   ],
   "source": [
    "features = train_ds.loc[:, ~train_ds.columns.isin([\"is_fire\"])]\n",
    "target = train_ds[\"is_fire\"]\n",
    "features.head(1), target"
   ]
  },
  {
   "cell_type": "code",
   "execution_count": null,
   "metadata": {
    "colab": {
     "base_uri": "https://localhost:8080/",
     "height": 447
    },
    "id": "1KI764YB0YUj",
    "outputId": "dcc9a783-2d33-47ec-b2d0-eddcf57dd2e0"
   },
   "outputs": [
    {
     "data": {
      "text/plain": [
       "<Axes: >"
      ]
     },
     "execution_count": 10,
     "metadata": {},
     "output_type": "execute_result"
    },
    {
     "data": {
      "image/png": "[encoded data removed]",
      "text/plain": [
       "<Figure size 640x480 with 1 Axes>"
      ]
     },
     "metadata": {},
     "output_type": "display_data"
    }
   ],
   "source": [
    "features = features.reset_index(drop=True)\n",
    "target = target.reset_index(drop=True)\n",
    "target.hist()"
   ]
  },
  {
   "cell_type": "code",
   "execution_count": null,
   "metadata": {
    "id": "jJXbmN0dHynT"
   },
   "outputs": [],
   "source": [
    "# lets test if vegetation type normalization works\n",
    "# from sklearn.preprocessing import MinMaxScaler\n",
    "# import scipy\n",
    "\n",
    "# # plt.hist(features.vegetation_type)\n",
    "# sc = MinMaxScaler()\n",
    "# vt = features.vegetation_type.to_numpy().reshape(-1, 1)\n",
    "# tr = sc.fit_transform(vt).reshape(1, -1)[0]\n",
    "# transform_ = tr\n",
    "\n",
    "# transform_ = scipy.special.boxcox1p(tr, 3)\n",
    "# print(transform_)\n",
    "# plt.hist(transform_)\n",
    "\n",
    "vt = features.vegetation_type\n",
    "transform_ = (vt - vt.mean()) / vt.std()\n",
    "# transform_ = vt"
   ]
  },
  {
   "cell_type": "code",
   "execution_count": null,
   "metadata": {
    "colab": {
     "base_uri": "https://localhost:8080/"
    },
    "id": "sxI4EYqHz6MX",
    "outputId": "55e2c1c8-7b90-4ea3-d8c6-1af42b89d3a0"
   },
   "outputs": [
    {
     "data": {
      "text/plain": [
       "(Index(['T', 'RH', 'WIND_DIR_STD', 'WIND_SPEED', 'APCP', 'elevation', 'slope',\n",
       "        'aspect', 'road_dist', 'river_dist', 'locality_dist', 'techno_obj_dist',\n",
       "        'vegetation_type'],\n",
       "       dtype='object'),)"
      ]
     },
     "execution_count": 12,
     "metadata": {},
     "output_type": "execute_result"
    }
   ],
   "source": [
    "# ex_cols = [\"RH\", \"techno_obj_dist\"]\n",
    "# features_ex = features.loc[:, ~features.columns.isin(ex_cols)]\n",
    "features_ex = features.copy()\n",
    "features_ex.vegetation_type = transform_\n",
    "features_ex.columns, #features_ex.vegetation_type"
   ]
  },
  {
   "cell_type": "code",
   "execution_count": null,
   "metadata": {
    "id": "NbVMucd-T44p"
   },
   "outputs": [],
   "source": [
    "# randomly permute train dataset\n",
    "# rand_idx = np.random.permutation(len(features_ex))\n",
    "# print(rand_idx)\n",
    "# # Carefull !!! iloc, that doesn't mean that index will correspond, check if it's not the RangeIndex\n",
    "# features_ex = features_ex.iloc[rand_idx]\n",
    "# target = target.iloc[rand_idx]"
   ]
  },
  {
   "cell_type": "code",
   "execution_count": null,
   "metadata": {
    "colab": {
     "base_uri": "https://localhost:8080/"
    },
    "id": "Vj_pMatQadSh",
    "outputId": "3de9ba6b-f4d5-4989-b999-975ff133db91"
   },
   "outputs": [
    {
     "data": {
      "text/plain": [
       "(              T        RH  WIND_DIR_STD  WIND_SPEED      APCP  elevation  \\\n",
       " 0      1.117702 -0.480393      0.952862   -0.216407  0.839897   0.592592   \n",
       " 1      0.910026 -0.708636      1.047870   -1.378062 -0.411450   0.726857   \n",
       " 2     -0.929746  0.385106      1.468098   -0.042440 -0.603488  -0.265768   \n",
       " 3     -0.843529  0.329279      1.863494    0.120304 -0.572514  -0.262266   \n",
       " 4      1.208797 -0.599954      0.317706   -0.421694 -0.283758   1.094569   \n",
       " ...         ...       ...           ...         ...       ...        ...   \n",
       " 15532 -0.739814  0.747218      0.252631    0.316719 -0.473398  -0.388975   \n",
       " 15533 -0.386020  1.069264     -0.606648    1.489598  0.449625   0.167846   \n",
       " 15534  1.084118 -1.646481      1.484304   -0.356704 -0.337112  -0.585089   \n",
       " 15535  0.711522 -0.187400      0.071249   -1.052574 -0.207022   0.476024   \n",
       " 15536  0.683547 -0.006059      0.546301   -0.620461  0.059354  -0.728672   \n",
       " \n",
       "           slope    aspect  road_dist  river_dist  locality_dist  \\\n",
       " 0      0.391917  0.603082  -0.106400   -0.129627       0.926929   \n",
       " 1      0.646070  1.177261   0.072706   -0.066609       2.805027   \n",
       " 2      1.565744  1.537563   0.314132   -1.025357       2.144765   \n",
       " 3      0.029107  0.466084   0.465508    0.044484       1.428999   \n",
       " 4      1.091687  0.581935   0.483859   -0.405281       1.718110   \n",
       " ...         ...       ...        ...         ...            ...   \n",
       " 15532 -0.324704  0.487671  -0.928937   -1.089054      -1.073893   \n",
       " 15533 -0.812949  0.935509  -0.818676    0.343163      -0.814085   \n",
       " 15534 -0.826934  0.583641  -0.849483   -0.995173      -0.442226   \n",
       " 15535  0.267202 -0.185677  -0.665673   -0.384618      -0.636548   \n",
       " 15536 -0.544696  0.049972  -0.976360   -0.925364      -1.036275   \n",
       " \n",
       "        techno_obj_dist  vegetation_type  \n",
       " 0             2.392782         1.475893  \n",
       " 1             1.691132        -2.364461  \n",
       " 2             1.116375        -0.444284  \n",
       " 3             0.912215         0.323787  \n",
       " 4             0.913903        -2.364461  \n",
       " ...                ...              ...  \n",
       " 15532        -0.756730        -2.364461  \n",
       " 15533        -0.643804        -0.252267  \n",
       " 15534        -0.375240        -0.252267  \n",
       " 15535        -0.448592        -2.364461  \n",
       " 15536        -0.783749        -0.252267  \n",
       " \n",
       " [15537 rows x 13 columns],\n",
       " 0        1\n",
       " 1        1\n",
       " 2        1\n",
       " 3        1\n",
       " 4        1\n",
       "         ..\n",
       " 15532    0\n",
       " 15533    0\n",
       " 15534    0\n",
       " 15535    0\n",
       " 15536    0\n",
       " Name: is_fire, Length: 15537, dtype: int64)"
      ]
     },
     "execution_count": 14,
     "metadata": {},
     "output_type": "execute_result"
    }
   ],
   "source": [
    "features_ex, target"
   ]
  },
  {
   "cell_type": "code",
   "execution_count": null,
   "metadata": {
    "colab": {
     "base_uri": "https://localhost:8080/",
     "height": 934
    },
    "id": "0m03VDYS0Hh6",
    "outputId": "b8b42327-97a3-4b88-de5c-2fc7852b80b3"
   },
   "outputs": [
    {
     "data": {
      "text/plain": [
       "(          T        RH  WIND_DIR_STD  WIND_SPEED      APCP  elevation  \\\n",
       " 0  1.117702 -0.480393      0.952862   -0.216407  0.839897   0.592592   \n",
       " 1  0.910026 -0.708636      1.047870   -1.378062 -0.411450   0.726857   \n",
       " 2 -0.929746  0.385106      1.468098   -0.042440 -0.603488  -0.265768   \n",
       " 3 -0.843529  0.329279      1.863494    0.120304 -0.572514  -0.262266   \n",
       " 4  1.208797 -0.599954      0.317706   -0.421694 -0.283758   1.094569   \n",
       " \n",
       "       slope    aspect  road_dist  river_dist  locality_dist  techno_obj_dist  \\\n",
       " 0  0.391917  0.603082  -0.106400   -0.129627       0.926929         2.392782   \n",
       " 1  0.646070  1.177261   0.072706   -0.066609       2.805027         1.691132   \n",
       " 2  1.565744  1.537563   0.314132   -1.025357       2.144765         1.116375   \n",
       " 3  0.029107  0.466084   0.465508    0.044484       1.428999         0.912215   \n",
       " 4  1.091687  0.581935   0.483859   -0.405281       1.718110         0.913903   \n",
       " \n",
       "    vegetation_type  \n",
       " 0         1.475893  \n",
       " 1        -2.364461  \n",
       " 2        -0.444284  \n",
       " 3         0.323787  \n",
       " 4        -2.364461  ,\n",
       " 0    1\n",
       " 1    1\n",
       " 2    1\n",
       " 3    1\n",
       " 4    1\n",
       " Name: is_fire, dtype: int64,\n",
       " (15537, 13),\n",
       " (15537,),\n",
       " <Axes: >)"
      ]
     },
     "execution_count": 15,
     "metadata": {},
     "output_type": "execute_result"
    },
    {
     "data": {
      "image/png": "[encoded data removed]",
      "text/plain": [
       "<Figure size 640x480 with 1 Axes>"
      ]
     },
     "metadata": {},
     "output_type": "display_data"
    }
   ],
   "source": [
    "# X_train_ds, X_val_ds, y_train_ds, y_val_ds = train_test_split(features_ex, target, test_size=0.1, random_state=4)\n",
    "X_train_ds = features_ex.copy()\n",
    "y_train_ds = target.copy()\n",
    "X_train_ds.head(5), y_train_ds.head(5), X_train_ds.shape, y_train_ds.shape, y_train_ds.hist()"
   ]
  },
  {
   "cell_type": "code",
   "execution_count": null,
   "metadata": {
    "colab": {
     "base_uri": "https://localhost:8080/",
     "height": 1000
    },
    "id": "QLCNcuXg0Hh_",
    "outputId": "c25bd503-2502-4f63-da4c-f5c581fdd52a"
   },
   "outputs": [
    {
     "name": "stdout",
     "output_type": "stream",
     "text": [
      "Index(['is_fire', 'T', 'RH', 'WIND_DIR_STD', 'WIND_SPEED', 'APCP', 'elevation',\n",
      "       'slope', 'aspect', 'vegetation_type', 'road_dist', 'river_dist',\n",
      "       'locality_dist', 'techno_obj_dist'],\n",
      "      dtype='object')    is_fire         T       RH  WIND_DIR_STD  WIND_SPEED   APCP   elevation  \\\n",
      "0        1  16.13375  50.9125    129.970944       1.725  0.025  351.109375   \n",
      "\n",
      "      slope      aspect  vegetation_type      road_dist    river_dist  \\\n",
      "0  0.862569  217.516313               18  422363.693609  40989.628659   \n",
      "\n",
      "   locality_dist  techno_obj_dist  \n",
      "0  139923.175317    772714.174606  \n",
      "Index(['T', 'RH', 'WIND_DIR_STD', 'WIND_SPEED', 'APCP', 'elevation', 'slope',\n",
      "       'aspect', 'vegetation_type', 'road_dist', 'river_dist', 'locality_dist',\n",
      "       'techno_obj_dist'],\n",
      "      dtype='object')\n",
      "****************************************************************************************************\n",
      "Normalization\n",
      "          T        RH  WIND_DIR_STD  WIND_SPEED      APCP  elevation  \\\n",
      "0  0.711783 -1.300884      1.749934   -0.896783 -1.162538  -0.871911   \n",
      "1  1.563891 -1.552177      1.352894   -0.424455 -1.162538  -0.836091   \n",
      "\n",
      "      slope    aspect  road_dist  river_dist  locality_dist  techno_obj_dist  \\\n",
      "0 -0.798132  0.430834   0.908555    0.859145       1.242152         3.865852   \n",
      "1 -0.798748  1.403947   0.929442    0.927859       1.258743         3.861017   \n",
      "\n",
      "   vegetation_type  \n",
      "0         0.814911  \n",
      "1         0.814911  \n",
      "0       1\n",
      "1       1\n",
      "2       1\n",
      "3       1\n",
      "4       1\n",
      "       ..\n",
      "1545    0\n",
      "1546    0\n",
      "1547    0\n",
      "1548    0\n",
      "1549    0\n",
      "Name: is_fire, Length: 1550, dtype: int64\n"
     ]
    },
    {
     "data": {
      "image/png": "[encoded data removed]",
      "text/plain": [
       "<Figure size 640x480 with 1 Axes>"
      ]
     },
     "metadata": {},
     "output_type": "display_data"
    }
   ],
   "source": [
    "# prepare the test dataset\n",
    "\n",
    "train_ds_cols = train_ds.columns\n",
    "test_ds_ = test_ds.loc[:, test_ds.columns.isin(train_ds_cols)]\n",
    "print(test_ds_.columns, test_ds_.head(1))\n",
    "test_ds_.is_fire.hist()\n",
    "\n",
    "X_test_ds = test_ds_.loc[:, ~test_ds_.columns.isin([\"is_fire\"])]\n",
    "print(X_test_ds.columns)\n",
    "# arrange X_test_ds so that its columns order corresponds to the X_train_ds (carefull! pd.DataFrame)\n",
    "X_test_ds = X_test_ds.reindex(X_train_ds.columns, axis=\"columns\")\n",
    "# assert that no NaN columns appeared after the reindex\n",
    "assert X_test_ds.isnull().sum().sum() == 0\n",
    "y_test_ds = test_ds_.loc[:, \"is_fire\"]\n",
    "\n",
    "# normalize X_test using z-score (like X_train)\n",
    "# X_test_ds = (X_test_ds - X_test_ds.mean()) / X_test_ds.std()\n",
    "print(\"*\" * 100, \"Normalization\", sep=\"\\n\")\n",
    "without_vt = X_test_ds.loc[:, ~X_test_ds.columns.isin([\"vegetation_type\"])]\n",
    "without_vt = (without_vt - without_vt.mean()) / without_vt.std()\n",
    "vt = X_test_ds.vegetation_type\n",
    "vt = (vt - vt.mean()) / vt.std()\n",
    "X_test_ds = without_vt.join(vt)\n",
    "\n",
    "print(X_test_ds.head(2), y_test_ds, sep=\"\\n\")"
   ]
  },
  {
   "cell_type": "code",
   "execution_count": null,
   "metadata": {
    "id": "W5_54FW6YOXT"
   },
   "outputs": [],
   "source": [
    "# permute test dataset\n",
    "rand_idx_test = np.random.permutation(len(X_test_ds))\n",
    "X_test_ds = X_test_ds.iloc[rand_idx_test]\n",
    "y_test_ds = y_test_ds.iloc[rand_idx_test]"
   ]
  },
  {
   "cell_type": "code",
   "execution_count": null,
   "metadata": {
    "colab": {
     "base_uri": "https://localhost:8080/"
    },
    "id": "h883rYBia3WZ",
    "outputId": "465c6eb2-2d4c-4ff2-8974-3cffc425e05b"
   },
   "outputs": [
    {
     "data": {
      "text/plain": [
       "(             T        RH  WIND_DIR_STD  WIND_SPEED      APCP  elevation  \\\n",
       " 10    1.253791 -1.729603      0.814846   -1.047733 -1.189068  -0.881865   \n",
       " 978   0.648748 -1.129997      1.314481   -0.117685 -0.081443   0.867592   \n",
       " 1546 -1.154693  1.209399     -0.446190    0.559157  0.502216  -0.531506   \n",
       " 863  -0.798752  0.319799     -0.675021    0.174477 -0.459494   0.805337   \n",
       " 185   0.269337 -1.318202      0.032590    1.026616 -0.923769  -0.529685   \n",
       " \n",
       "          slope    aspect  road_dist  river_dist  locality_dist  \\\n",
       " 10   -0.817966 -0.368256   0.954027    0.750301       0.259070   \n",
       " 978  -0.061021 -1.843422   0.664465   -0.276526       1.667625   \n",
       " 1546 -0.819760  1.543758   1.633741    1.551106       0.790505   \n",
       " 863   0.019829  0.699423  -0.453489   -0.480843      -0.417241   \n",
       " 185  -0.411904 -0.618330  -0.805838   -0.284332      -1.105717   \n",
       " \n",
       "       techno_obj_dist  vegetation_type  \n",
       " 10           3.350543         0.814911  \n",
       " 978          0.284463        -1.657739  \n",
       " 1546        -0.079747         0.196748  \n",
       " 863         -0.451895        -0.627468  \n",
       " 185         -0.757202        -0.421414  ,\n",
       " 10      1\n",
       " 978     0\n",
       " 1546    0\n",
       " 863     0\n",
       " 185     1\n",
       " Name: is_fire, dtype: int64)"
      ]
     },
     "execution_count": 18,
     "metadata": {},
     "output_type": "execute_result"
    }
   ],
   "source": [
    "X_test_ds.head(5), y_test_ds.head(5)"
   ]
  },
  {
   "cell_type": "code",
   "execution_count": null,
   "metadata": {
    "colab": {
     "base_uri": "https://localhost:8080/"
    },
    "id": "0lcQwt18VKzJ",
    "outputId": "9495d1d1-71b2-4cb4-efc3-a95288c322f1"
   },
   "outputs": [
    {
     "name": "stdout",
     "output_type": "stream",
     "text": [
      "(15537, 13) (15537,) (1550, 13) (1550,)\n",
      "(15537, 1) (1550, 1)\n"
     ]
    }
   ],
   "source": [
    "# if validation dataset is unavailable\n",
    "# convert x and y train, validation and test datasets to numpy arrays\n",
    "l = [X_train_ds, y_train_ds, X_test_ds, y_test_ds]\n",
    "# !!! Attention: preserve the order, it's important\n",
    "X_train, y_train, X_test, y_test = map(lambda x: x.to_numpy(), l)\n",
    "print(X_train.shape, y_train.shape, X_test.shape, y_test.shape)\n",
    "assert X_train.shape[1] == X_test.shape[1]\n",
    "# transpose y so that it works with the keras methods\n",
    "y_train = y_train.reshape(-1, 1)\n",
    "y_test = y_test.reshape(-1, 1)\n",
    "print(y_train.shape, y_test.shape)"
   ]
  },
  {
   "cell_type": "code",
   "execution_count": null,
   "metadata": {
    "id": "BotMILre0HiA"
   },
   "outputs": [],
   "source": [
    "# comment if the validation dataset is not available\n",
    "\n",
    "# # convert x and y train, validation and test datasets to numpy arrays\n",
    "# l = [X_train_ds, y_train_ds, X_val_ds, y_val_ds, X_test_ds, y_test_ds]\n",
    "# # !!! Attention: preserve the order, it's important\n",
    "# X_train, y_train, X_val, y_val, X_test, y_test = map(lambda x: x.to_numpy(), l)\n",
    "# print(X_train.shape, y_train.shape, X_val.shape, y_val.shape, X_test.shape, y_test.shape)\n",
    "# assert X_train.shape[1] == X_val.shape[1]\n",
    "# assert X_train.shape[1] == X_test.shape[1]\n",
    "# # transpose y so that it works with the keras methods\n",
    "# y_train = y_train.reshape(-1, 1)\n",
    "# y_val = y_val.reshape(-1, 1)\n",
    "# y_test = y_test.reshape(-1, 1)\n",
    "# print(y_train.shape, y_val.shape, y_test.shape)"
   ]
  },
  {
   "cell_type": "code",
   "execution_count": null,
   "metadata": {
    "colab": {
     "base_uri": "https://localhost:8080/"
    },
    "id": "XPfvVcyzG1f3",
    "outputId": "f10e5018-ab14-4d58-b24b-3a1205a1c63f"
   },
   "outputs": [
    {
     "data": {
      "text/plain": [
       "4096"
      ]
     },
     "execution_count": 21,
     "metadata": {},
     "output_type": "execute_result"
    }
   ],
   "source": [
    "512 * 8"
   ]
  },
  {
   "cell_type": "code",
   "execution_count": null,
   "metadata": {
    "colab": {
     "base_uri": "https://localhost:8080/",
     "height": 1000
    },
    "id": "JNKspNgd0HiB",
    "outputId": "266a1a80-bfb9-4a2a-db49-d930a436d7f2"
   },
   "outputs": [
    {
     "name": "stdout",
     "output_type": "stream",
     "text": [
      "Model input shape: (13,)\n"
     ]
    },
    {
     "data": {
      "text/html": [
       "<pre style=\"white-space:pre;overflow-x:auto;line-height:normal;font-family:Menlo,'DejaVu Sans Mono',consolas,'Courier New',monospace\"><span style=\"font-weight: bold\">Model: \"sequential\"</span>\n",
       "</pre>\n"
      ],
      "text/plain": [
       "\u001b[1mModel: \"sequential\"\u001b[0m\n"
      ]
     },
     "metadata": {},
     "output_type": "display_data"
    },
    {
     "data": {
      "text/html": [
       "<pre style=\"white-space:pre;overflow-x:auto;line-height:normal;font-family:Menlo,'DejaVu Sans Mono',consolas,'Courier New',monospace\">┏━━━━━━━━━━━━━━━━━━━━━━━━━━━━━━━━━┳━━━━━━━━━━━━━━━━━━━━━━━━┳━━━━━━━━━━━━━━━┓\n",
       "┃<span style=\"font-weight: bold\"> Layer (type)                    </span>┃<span style=\"font-weight: bold\"> Output Shape           </span>┃<span style=\"font-weight: bold\">       Param # </span>┃\n",
       "┡━━━━━━━━━━━━━━━━━━━━━━━━━━━━━━━━━╇━━━━━━━━━━━━━━━━━━━━━━━━╇━━━━━━━━━━━━━━━┩\n",
       "│ dense (<span style=\"color: #0087ff; text-decoration-color: #0087ff\">Dense</span>)                   │ (<span style=\"color: #00d7ff; text-decoration-color: #00d7ff\">None</span>, <span style=\"color: #00af00; text-decoration-color: #00af00\">512</span>)            │         <span style=\"color: #00af00; text-decoration-color: #00af00\">7,168</span> │\n",
       "├─────────────────────────────────┼────────────────────────┼───────────────┤\n",
       "│ dense_1 (<span style=\"color: #0087ff; text-decoration-color: #0087ff\">Dense</span>)                 │ (<span style=\"color: #00d7ff; text-decoration-color: #00d7ff\">None</span>, <span style=\"color: #00af00; text-decoration-color: #00af00\">64</span>)             │        <span style=\"color: #00af00; text-decoration-color: #00af00\">32,832</span> │\n",
       "├─────────────────────────────────┼────────────────────────┼───────────────┤\n",
       "│ dense_2 (<span style=\"color: #0087ff; text-decoration-color: #0087ff\">Dense</span>)                 │ (<span style=\"color: #00d7ff; text-decoration-color: #00d7ff\">None</span>, <span style=\"color: #00af00; text-decoration-color: #00af00\">8</span>)              │           <span style=\"color: #00af00; text-decoration-color: #00af00\">520</span> │\n",
       "├─────────────────────────────────┼────────────────────────┼───────────────┤\n",
       "│ dense_3 (<span style=\"color: #0087ff; text-decoration-color: #0087ff\">Dense</span>)                 │ (<span style=\"color: #00d7ff; text-decoration-color: #00d7ff\">None</span>, <span style=\"color: #00af00; text-decoration-color: #00af00\">1</span>)              │             <span style=\"color: #00af00; text-decoration-color: #00af00\">9</span> │\n",
       "└─────────────────────────────────┴────────────────────────┴───────────────┘\n",
       "</pre>\n"
      ],
      "text/plain": [
       "┏━━━━━━━━━━━━━━━━━━━━━━━━━━━━━━━━━┳━━━━━━━━━━━━━━━━━━━━━━━━┳━━━━━━━━━━━━━━━┓\n",
       "┃\u001b[1m \u001b[0m\u001b[1mLayer (type)                   \u001b[0m\u001b[1m \u001b[0m┃\u001b[1m \u001b[0m\u001b[1mOutput Shape          \u001b[0m\u001b[1m \u001b[0m┃\u001b[1m \u001b[0m\u001b[1m      Param #\u001b[0m\u001b[1m \u001b[0m┃\n",
       "┡━━━━━━━━━━━━━━━━━━━━━━━━━━━━━━━━━╇━━━━━━━━━━━━━━━━━━━━━━━━╇━━━━━━━━━━━━━━━┩\n",
       "│ dense (\u001b[38;5;33mDense\u001b[0m)                   │ (\u001b[38;5;45mNone\u001b[0m, \u001b[38;5;34m512\u001b[0m)            │         \u001b[38;5;34m7,168\u001b[0m │\n",
       "├─────────────────────────────────┼────────────────────────┼───────────────┤\n",
       "│ dense_1 (\u001b[38;5;33mDense\u001b[0m)                 │ (\u001b[38;5;45mNone\u001b[0m, \u001b[38;5;34m64\u001b[0m)             │        \u001b[38;5;34m32,832\u001b[0m │\n",
       "├─────────────────────────────────┼────────────────────────┼───────────────┤\n",
       "│ dense_2 (\u001b[38;5;33mDense\u001b[0m)                 │ (\u001b[38;5;45mNone\u001b[0m, \u001b[38;5;34m8\u001b[0m)              │           \u001b[38;5;34m520\u001b[0m │\n",
       "├─────────────────────────────────┼────────────────────────┼───────────────┤\n",
       "│ dense_3 (\u001b[38;5;33mDense\u001b[0m)                 │ (\u001b[38;5;45mNone\u001b[0m, \u001b[38;5;34m1\u001b[0m)              │             \u001b[38;5;34m9\u001b[0m │\n",
       "└─────────────────────────────────┴────────────────────────┴───────────────┘\n"
      ]
     },
     "metadata": {},
     "output_type": "display_data"
    },
    {
     "data": {
      "text/html": [
       "<pre style=\"white-space:pre;overflow-x:auto;line-height:normal;font-family:Menlo,'DejaVu Sans Mono',consolas,'Courier New',monospace\"><span style=\"font-weight: bold\"> Total params: </span><span style=\"color: #00af00; text-decoration-color: #00af00\">40,529</span> (158.32 KB)\n",
       "</pre>\n"
      ],
      "text/plain": [
       "\u001b[1m Total params: \u001b[0m\u001b[38;5;34m40,529\u001b[0m (158.32 KB)\n"
      ]
     },
     "metadata": {},
     "output_type": "display_data"
    },
    {
     "data": {
      "text/html": [
       "<pre style=\"white-space:pre;overflow-x:auto;line-height:normal;font-family:Menlo,'DejaVu Sans Mono',consolas,'Courier New',monospace\"><span style=\"font-weight: bold\"> Trainable params: </span><span style=\"color: #00af00; text-decoration-color: #00af00\">40,529</span> (158.32 KB)\n",
       "</pre>\n"
      ],
      "text/plain": [
       "\u001b[1m Trainable params: \u001b[0m\u001b[38;5;34m40,529\u001b[0m (158.32 KB)\n"
      ]
     },
     "metadata": {},
     "output_type": "display_data"
    },
    {
     "data": {
      "text/html": [
       "<pre style=\"white-space:pre;overflow-x:auto;line-height:normal;font-family:Menlo,'DejaVu Sans Mono',consolas,'Courier New',monospace\"><span style=\"font-weight: bold\"> Non-trainable params: </span><span style=\"color: #00af00; text-decoration-color: #00af00\">0</span> (0.00 B)\n",
       "</pre>\n"
      ],
      "text/plain": [
       "\u001b[1m Non-trainable params: \u001b[0m\u001b[38;5;34m0\u001b[0m (0.00 B)\n"
      ]
     },
     "metadata": {},
     "output_type": "display_data"
    },
    {
     "data": {
      "image/png": "[encoded data removed]",
      "text/plain": [
       "<IPython.core.display.Image object>"
      ]
     },
     "execution_count": 22,
     "metadata": {},
     "output_type": "execute_result"
    }
   ],
   "source": [
    "from tensorflow.keras import regularizers as rg\n",
    "\n",
    "\n",
    "input_shape = (X_train.shape[1], )\n",
    "print(\"Model input shape:\", input_shape)\n",
    "model = Sequential()\n",
    "model.add(Input(input_shape))\n",
    "\n",
    "model.add(Dense(512, activation=\"relu\", bias_regularizer=rg.L2(0.01))) #, kernel_regularizer=rg.L2(0.01)))\n",
    "model.add(Dense(64, activation=\"relu\", bias_regularizer=rg.L2(0.01))) #kernel_regularizer=rg.L1L2(l1=0.01, l2=0.01)))\n",
    "model.add(Dense(8, activation=\"relu\", bias_regularizer=rg.L2(0.01))) #kernel_regularizer=rg.L1L2(l1=0.01, l2=0.01)))\n",
    "model.add(Dense(1, activation=\"sigmoid\"))\n",
    "\n",
    "model.summary()\n",
    "model.compile(optimizer=\"adam\", loss=\"binary_crossentropy\", metrics=[\"accuracy\", \"f1_score\", tf.metrics.AUC()]) #, \"precision\", \"recall\", \"f1_score\", \"auc\"])\n",
    "tf.keras.utils.plot_model(\n",
    "    model=model, to_file=\"arch.png\",\n",
    "    show_layer_activations=True, show_layer_names=True, show_shapes=True,\n",
    "    dpi=100\n",
    ")\n",
    "# a = tf.keras.utils.vis_utils.model_to_dot(model=model, show_layer_activations=True, show_layer_names=True, show_shapes=True, )"
   ]
  },
  {
   "cell_type": "code",
   "execution_count": null,
   "metadata": {
    "colab": {
     "base_uri": "https://localhost:8080/"
    },
    "id": "_wh2e38b0HiB",
    "outputId": "45373e6a-d8ff-4146-c082-941d1ae45cac"
   },
   "outputs": [
    {
     "name": "stdout",
     "output_type": "stream",
     "text": [
      "Epoch 1/100\n",
      "\u001b[1m170/170\u001b[0m \u001b[32m━━━━━━━━━━━━━━━━━━━━\u001b[0m\u001b[37m\u001b[0m \u001b[1m4s\u001b[0m 10ms/step - accuracy: 0.7037 - auc: 0.7693 - f1_score: 0.6723 - loss: 0.6004 - val_accuracy: 0.7136 - val_auc: 0.7892 - val_f1_score: 0.6432 - val_loss: 0.5588\n",
      "Epoch 2/100\n",
      "\u001b[1m170/170\u001b[0m \u001b[32m━━━━━━━━━━━━━━━━━━━━\u001b[0m\u001b[37m\u001b[0m \u001b[1m2s\u001b[0m 11ms/step - accuracy: 0.7785 - auc: 0.8597 - f1_score: 0.6590 - loss: 0.4680 - val_accuracy: 0.7415 - val_auc: 0.8200 - val_f1_score: 0.6432 - val_loss: 0.5208\n",
      "Epoch 3/100\n",
      "\u001b[1m170/170\u001b[0m \u001b[32m━━━━━━━━━━━━━━━━━━━━\u001b[0m\u001b[37m\u001b[0m \u001b[1m2s\u001b[0m 5ms/step - accuracy: 0.8049 - auc: 0.8879 - f1_score: 0.6711 - loss: 0.4259 - val_accuracy: 0.7585 - val_auc: 0.8441 - val_f1_score: 0.6432 - val_loss: 0.4927\n",
      "Epoch 4/100\n",
      "\u001b[1m170/170\u001b[0m \u001b[32m━━━━━━━━━━━━━━━━━━━━\u001b[0m\u001b[37m\u001b[0m \u001b[1m1s\u001b[0m 6ms/step - accuracy: 0.8220 - auc: 0.9019 - f1_score: 0.6705 - loss: 0.4006 - val_accuracy: 0.7748 - val_auc: 0.8610 - val_f1_score: 0.6432 - val_loss: 0.4728\n",
      "Epoch 5/100\n",
      "\u001b[1m170/170\u001b[0m \u001b[32m━━━━━━━━━━━━━━━━━━━━\u001b[0m\u001b[37m\u001b[0m \u001b[1m1s\u001b[0m 5ms/step - accuracy: 0.8266 - auc: 0.9091 - f1_score: 0.6678 - loss: 0.3841 - val_accuracy: 0.7769 - val_auc: 0.8650 - val_f1_score: 0.6432 - val_loss: 0.4670\n",
      "Epoch 6/100\n",
      "\u001b[1m170/170\u001b[0m \u001b[32m━━━━━━━━━━━━━━━━━━━━\u001b[0m\u001b[37m\u001b[0m \u001b[1m1s\u001b[0m 6ms/step - accuracy: 0.8312 - auc: 0.9144 - f1_score: 0.6636 - loss: 0.3713 - val_accuracy: 0.7874 - val_auc: 0.8735 - val_f1_score: 0.6432 - val_loss: 0.4515\n",
      "Epoch 7/100\n",
      "\u001b[1m170/170\u001b[0m \u001b[32m━━━━━━━━━━━━━━━━━━━━\u001b[0m\u001b[37m\u001b[0m \u001b[1m1s\u001b[0m 5ms/step - accuracy: 0.8370 - auc: 0.9178 - f1_score: 0.6692 - loss: 0.3632 - val_accuracy: 0.7876 - val_auc: 0.8727 - val_f1_score: 0.6432 - val_loss: 0.4530\n",
      "Epoch 8/100\n",
      "\u001b[1m170/170\u001b[0m \u001b[32m━━━━━━━━━━━━━━━━━━━━\u001b[0m\u001b[37m\u001b[0m \u001b[1m1s\u001b[0m 5ms/step - accuracy: 0.8378 - auc: 0.9184 - f1_score: 0.6636 - loss: 0.3609 - val_accuracy: 0.7904 - val_auc: 0.8741 - val_f1_score: 0.6432 - val_loss: 0.4513\n",
      "Epoch 9/100\n",
      "\u001b[1m170/170\u001b[0m \u001b[32m━━━━━━━━━━━━━━━━━━━━\u001b[0m\u001b[37m\u001b[0m \u001b[1m1s\u001b[0m 6ms/step - accuracy: 0.8399 - auc: 0.9193 - f1_score: 0.6708 - loss: 0.3574 - val_accuracy: 0.7909 - val_auc: 0.8771 - val_f1_score: 0.6432 - val_loss: 0.4481\n",
      "Epoch 10/100\n",
      "\u001b[1m170/170\u001b[0m \u001b[32m━━━━━━━━━━━━━━━━━━━━\u001b[0m\u001b[37m\u001b[0m \u001b[1m1s\u001b[0m 6ms/step - accuracy: 0.8476 - auc: 0.9243 - f1_score: 0.6677 - loss: 0.3478 - val_accuracy: 0.7937 - val_auc: 0.8762 - val_f1_score: 0.6432 - val_loss: 0.4451\n",
      "Epoch 11/100\n",
      "\u001b[1m170/170\u001b[0m \u001b[32m━━━━━━━━━━━━━━━━━━━━\u001b[0m\u001b[37m\u001b[0m \u001b[1m2s\u001b[0m 10ms/step - accuracy: 0.8447 - auc: 0.9229 - f1_score: 0.6632 - loss: 0.3502 - val_accuracy: 0.7868 - val_auc: 0.8741 - val_f1_score: 0.6432 - val_loss: 0.4596\n",
      "Epoch 12/100\n",
      "\u001b[1m170/170\u001b[0m \u001b[32m━━━━━━━━━━━━━━━━━━━━\u001b[0m\u001b[37m\u001b[0m \u001b[1m2s\u001b[0m 9ms/step - accuracy: 0.8462 - auc: 0.9252 - f1_score: 0.6653 - loss: 0.3466 - val_accuracy: 0.7937 - val_auc: 0.8769 - val_f1_score: 0.6432 - val_loss: 0.4513\n",
      "Epoch 13/100\n",
      "\u001b[1m170/170\u001b[0m \u001b[32m━━━━━━━━━━━━━━━━━━━━\u001b[0m\u001b[37m\u001b[0m \u001b[1m1s\u001b[0m 6ms/step - accuracy: 0.8441 - auc: 0.9231 - f1_score: 0.6741 - loss: 0.3493 - val_accuracy: 0.7928 - val_auc: 0.8775 - val_f1_score: 0.6432 - val_loss: 0.4497\n"
     ]
    },
    {
     "data": {
      "text/plain": [
       "<keras.src.callbacks.history.History at 0x7d01c6c9b3d0>"
      ]
     },
     "execution_count": 23,
     "metadata": {},
     "output_type": "execute_result"
    }
   ],
   "source": [
    "model.optimizer.learning_rate.assign(0.0001)\n",
    "callback_ = tf.keras.callbacks.EarlyStopping(monitor=\"val_loss\", patience=3, mode=\"min\", start_from_epoch=3)\n",
    "# to validate provide either the validation_data = (x_val, y_val) or the validation_split = (float)\n",
    "# if both provided the validation_data overrides the validation_split\n",
    "model.fit(\n",
    "    X_train, y_train,\n",
    "    batch_size=64, epochs=100,\n",
    "    validation_split=0.3,\n",
    "    # validation_data=[X_val, y_val],\n",
    "    callbacks=callback_,\n",
    ")"
   ]
  },
  {
   "cell_type": "code",
   "execution_count": null,
   "metadata": {
    "id": "kGqfQLuX0ALi"
   },
   "outputs": [],
   "source": [
    "# X_test = np.concatenate((X_test, X_train[-1000:]), axis=0)\n",
    "# y_test = np.concatenate((y_test, y_train[-1000:]), axis=0)"
   ]
  },
  {
   "cell_type": "code",
   "execution_count": null,
   "metadata": {
    "colab": {
     "base_uri": "https://localhost:8080/"
    },
    "id": "6rxzTjjl0HiC",
    "outputId": "6c8f0dad-b4df-4aba-f5d4-ed127e1088ef"
   },
   "outputs": [
    {
     "name": "stdout",
     "output_type": "stream",
     "text": [
      "\u001b[1m49/49\u001b[0m \u001b[32m━━━━━━━━━━━━━━━━━━━━\u001b[0m\u001b[37m\u001b[0m \u001b[1m0s\u001b[0m 3ms/step - accuracy: 0.8174 - auc: 0.9016 - f1_score: 0.5869 - loss: 0.3907\n"
     ]
    },
    {
     "data": {
      "text/plain": [
       "[0.42037078738212585,\n",
       " 0.8038709759712219,\n",
       " 0.601082980632782,\n",
       " 0.8880013823509216]"
      ]
     },
     "execution_count": 25,
     "metadata": {},
     "output_type": "execute_result"
    }
   ],
   "source": [
    "model.evaluate(X_test, y_test)"
   ]
  },
  {
   "cell_type": "code",
   "execution_count": null,
   "metadata": {
    "colab": {
     "base_uri": "https://localhost:8080/"
    },
    "id": "KVJBTV3CxEIl",
    "outputId": "df2c8f77-5d8e-4929-bdd0-05b5b41b0851"
   },
   "outputs": [
    {
     "data": {
      "text/plain": [
       "['loss', 'compile_metrics']"
      ]
     },
     "execution_count": 26,
     "metadata": {},
     "output_type": "execute_result"
    }
   ],
   "source": [
    "model.metrics_names"
   ]
  },
  {
   "cell_type": "code",
   "execution_count": null,
   "metadata": {
    "colab": {
     "base_uri": "https://localhost:8080/",
     "height": 499
    },
    "collapsed": true,
    "id": "l3VGR-SvqFGx",
    "jupyter": {
     "outputs_hidden": true
    },
    "outputId": "6ccda35e-6c61-4c69-ed91-77089abca21f"
   },
   "outputs": [
    {
     "name": "stdout",
     "output_type": "stream",
     "text": [
      "\u001b[1m49/49\u001b[0m \u001b[32m━━━━━━━━━━━━━━━━━━━━\u001b[0m\u001b[37m\u001b[0m \u001b[1m0s\u001b[0m 3ms/step\n",
      "(1550, 1)\n",
      "AUC score: 0.8878527849116085\n"
     ]
    },
    {
     "data": {
      "text/plain": [
       "[<matplotlib.lines.Line2D at 0x7d01c41e3410>]"
      ]
     },
     "execution_count": 27,
     "metadata": {},
     "output_type": "execute_result"
    },
    {
     "data": {
      "image/png": "[encoded data removed]",
      "text/plain": [
       "<Figure size 640x480 with 1 Axes>"
      ]
     },
     "metadata": {},
     "output_type": "display_data"
    }
   ],
   "source": [
    "y_pred = model.predict(X_test)\n",
    "print(y_pred.shape)\n",
    "print(\"AUC score:\", roc_auc_score(y_test, y_pred))\n",
    "fpr, tpr, thresh = roc_curve(y_test, y_pred)\n",
    "# print(\"Thresh:\", thresh)\n",
    "# print(\"FPR, TPR\", fpr, tpr)\n",
    "plt.plot([0, 1], [0, 1])\n",
    "plt.plot(fpr, tpr)"
   ]
  },
  {
   "cell_type": "code",
   "execution_count": null,
   "metadata": {
    "colab": {
     "base_uri": "https://localhost:8080/"
    },
    "id": "8GtCxGeo0HiC",
    "outputId": "4885bb4e-391b-4e99-fcb3-de658fa3cf3b"
   },
   "outputs": [
    {
     "name": "stdout",
     "output_type": "stream",
     "text": [
      "(1550, 1)\n"
     ]
    },
    {
     "data": {
      "text/plain": [
       "array([0, 1])"
      ]
     },
     "execution_count": 28,
     "metadata": {},
     "output_type": "execute_result"
    }
   ],
   "source": [
    "y_pred = (y_pred > 0.5).astype(int)\n",
    "print(y_pred.shape)\n",
    "np.unique(y_pred)"
   ]
  },
  {
   "cell_type": "code",
   "execution_count": null,
   "metadata": {
    "colab": {
     "base_uri": "https://localhost:8080/",
     "height": 604
    },
    "id": "-wNCing60HiC",
    "outputId": "6bd17622-2b09-492d-95c2-620c887692d6"
   },
   "outputs": [
    {
     "name": "stdout",
     "output_type": "stream",
     "text": [
      "              precision    recall  f1-score   support\n",
      "\n",
      "           0       0.84      0.80      0.82       884\n",
      "           1       0.76      0.80      0.78       666\n",
      "\n",
      "    accuracy                           0.80      1550\n",
      "   macro avg       0.80      0.80      0.80      1550\n",
      "weighted avg       0.81      0.80      0.80      1550\n",
      "\n"
     ]
    },
    {
     "data": {
      "text/plain": [
       "<Axes: >"
      ]
     },
     "execution_count": 29,
     "metadata": {},
     "output_type": "execute_result"
    },
    {
     "data": {
      "image/png": "[encoded data removed]",
      "text/plain": [
       "<Figure size 640x480 with 2 Axes>"
      ]
     },
     "metadata": {},
     "output_type": "display_data"
    }
   ],
   "source": [
    "print(classification_report(y_true=y_test, y_pred=y_pred.astype(int)))\n",
    "cm = confusion_matrix(y_true=y_test, y_pred=y_pred.astype(int))\n",
    "sns.heatmap(cm, annot=True, fmt=\"g\")"
   ]
  },
  {
   "cell_type": "code",
   "execution_count": null,
   "metadata": {
    "id": "AZeCKaku3Diy"
   },
   "outputs": [],
   "source": []
  },
  {
   "cell_type": "code",
   "execution_count": null,
   "metadata": {
    "id": "5e8Eb1sQsoLA"
   },
   "outputs": [],
   "source": []
  },
  {
   "cell_type": "code",
   "execution_count": null,
   "metadata": {
    "id": "-rGWztZ93Ddm"
   },
   "outputs": [],
   "source": []
  }
 ],
 "metadata": {
  "colab": {
   "collapsed_sections": [
    "Xj13KBMDU1N0"
   ],
   "provenance": []
  },
  "kernelspec": {
   "display_name": "Python 3 (ipykernel)",
   "language": "python",
   "name": "python3"
  },
  "language_info": {
   "codemirror_mode": {
    "name": "ipython",
    "version": 3
   },
   "file_extension": ".py",
   "mimetype": "text/x-python",
   "name": "python",
   "nbconvert_exporter": "python",
   "pygments_lexer": "ipython3",
   "version": "3.11.4"
  }
 },
 "nbformat": 4,
 "nbformat_minor": 4
}
