{
 "cells": [
  {
   "cell_type": "code",
   "execution_count": 1,
   "metadata": {
    "id": "ACISDipu4cYB"
   },
   "outputs": [],
   "source": [
    "%%bash\n",
    "data_path=/content/drive/MyDrive/vkr/\n",
    "# unzip $data_path/non_fires.zip\n",
    "# unzip $data_path/forest_fires.zip\n",
    "# cp $data_path/Irkutsk_region.geojson .\n",
    "cp -r $data_path/train_data ."
   ]
  },
  {
   "cell_type": "code",
   "execution_count": 2,
   "metadata": {
    "colab": {
     "base_uri": "https://localhost:8080/"
    },
    "id": "uaf5inNfa1Iz",
    "outputId": "437e8d55-9afd-4521-b141-665e61135555"
   },
   "outputs": [
    {
     "name": "stdout",
     "output_type": "stream",
     "text": [
      "Collecting keras-tuner\n",
      "  Downloading keras_tuner-1.4.7-py3-none-any.whl.metadata (5.4 kB)\n",
      "Requirement already satisfied: keras in /usr/local/lib/python3.11/dist-packages (from keras-tuner) (3.8.0)\n",
      "Requirement already satisfied: packaging in /usr/local/lib/python3.11/dist-packages (from keras-tuner) (24.2)\n",
      "Requirement already satisfied: requests in /usr/local/lib/python3.11/dist-packages (from keras-tuner) (2.32.3)\n",
      "Collecting kt-legacy (from keras-tuner)\n",
      "  Downloading kt_legacy-1.0.5-py3-none-any.whl.metadata (221 bytes)\n",
      "Requirement already satisfied: absl-py in /usr/local/lib/python3.11/dist-packages (from keras->keras-tuner) (1.4.0)\n",
      "Requirement already satisfied: numpy in /usr/local/lib/python3.11/dist-packages (from keras->keras-tuner) (2.0.2)\n",
      "Requirement already satisfied: rich in /usr/local/lib/python3.11/dist-packages (from keras->keras-tuner) (13.9.4)\n",
      "Requirement already satisfied: namex in /usr/local/lib/python3.11/dist-packages (from keras->keras-tuner) (0.0.9)\n",
      "Requirement already satisfied: h5py in /usr/local/lib/python3.11/dist-packages (from keras->keras-tuner) (3.13.0)\n",
      "Requirement already satisfied: optree in /usr/local/lib/python3.11/dist-packages (from keras->keras-tuner) (0.15.0)\n",
      "Requirement already satisfied: ml-dtypes in /usr/local/lib/python3.11/dist-packages (from keras->keras-tuner) (0.4.1)\n",
      "Requirement already satisfied: charset-normalizer<4,>=2 in /usr/local/lib/python3.11/dist-packages (from requests->keras-tuner) (3.4.2)\n",
      "Requirement already satisfied: idna<4,>=2.5 in /usr/local/lib/python3.11/dist-packages (from requests->keras-tuner) (3.10)\n",
      "Requirement already satisfied: urllib3<3,>=1.21.1 in /usr/local/lib/python3.11/dist-packages (from requests->keras-tuner) (2.4.0)\n",
      "Requirement already satisfied: certifi>=2017.4.17 in /usr/local/lib/python3.11/dist-packages (from requests->keras-tuner) (2025.4.26)\n",
      "Requirement already satisfied: typing-extensions>=4.5.0 in /usr/local/lib/python3.11/dist-packages (from optree->keras->keras-tuner) (4.13.2)\n",
      "Requirement already satisfied: markdown-it-py>=2.2.0 in /usr/local/lib/python3.11/dist-packages (from rich->keras->keras-tuner) (3.0.0)\n",
      "Requirement already satisfied: pygments<3.0.0,>=2.13.0 in /usr/local/lib/python3.11/dist-packages (from rich->keras->keras-tuner) (2.19.1)\n",
      "Requirement already satisfied: mdurl~=0.1 in /usr/local/lib/python3.11/dist-packages (from markdown-it-py>=2.2.0->rich->keras->keras-tuner) (0.1.2)\n",
      "Downloading keras_tuner-1.4.7-py3-none-any.whl (129 kB)\n",
      "\u001b[?25l   \u001b[90m━━━━━━━━━━━━━━━━━━━━━━━━━━━━━━━━━━━━━━━━\u001b[0m \u001b[32m0.0/129.1 kB\u001b[0m \u001b[31m?\u001b[0m eta \u001b[36m-:--:--\u001b[0m\r",
      "\u001b[2K   \u001b[90m━━━━━━━━━━━━━━━━━━━━━━━━━━━━━━━━━━━━━━━━\u001b[0m \u001b[32m129.1/129.1 kB\u001b[0m \u001b[31m6.4 MB/s\u001b[0m eta \u001b[36m0:00:00\u001b[0m\n",
      "\u001b[?25hDownloading kt_legacy-1.0.5-py3-none-any.whl (9.6 kB)\n",
      "Installing collected packages: kt-legacy, keras-tuner\n",
      "Successfully installed keras-tuner-1.4.7 kt-legacy-1.0.5\n",
      "Requirement already satisfied: shap in /usr/local/lib/python3.11/dist-packages (0.47.2)\n",
      "Requirement already satisfied: numpy in /usr/local/lib/python3.11/dist-packages (from shap) (2.0.2)\n",
      "Requirement already satisfied: scipy in /usr/local/lib/python3.11/dist-packages (from shap) (1.15.2)\n",
      "Requirement already satisfied: scikit-learn in /usr/local/lib/python3.11/dist-packages (from shap) (1.6.1)\n",
      "Requirement already satisfied: pandas in /usr/local/lib/python3.11/dist-packages (from shap) (2.2.2)\n",
      "Requirement already satisfied: tqdm>=4.27.0 in /usr/local/lib/python3.11/dist-packages (from shap) (4.67.1)\n",
      "Requirement already satisfied: packaging>20.9 in /usr/local/lib/python3.11/dist-packages (from shap) (24.2)\n",
      "Requirement already satisfied: slicer==0.0.8 in /usr/local/lib/python3.11/dist-packages (from shap) (0.0.8)\n",
      "Requirement already satisfied: numba>=0.54 in /usr/local/lib/python3.11/dist-packages (from shap) (0.60.0)\n",
      "Requirement already satisfied: cloudpickle in /usr/local/lib/python3.11/dist-packages (from shap) (3.1.1)\n",
      "Requirement already satisfied: typing-extensions in /usr/local/lib/python3.11/dist-packages (from shap) (4.13.2)\n",
      "Requirement already satisfied: llvmlite<0.44,>=0.43.0dev0 in /usr/local/lib/python3.11/dist-packages (from numba>=0.54->shap) (0.43.0)\n",
      "Requirement already satisfied: python-dateutil>=2.8.2 in /usr/local/lib/python3.11/dist-packages (from pandas->shap) (2.9.0.post0)\n",
      "Requirement already satisfied: pytz>=2020.1 in /usr/local/lib/python3.11/dist-packages (from pandas->shap) (2025.2)\n",
      "Requirement already satisfied: tzdata>=2022.7 in /usr/local/lib/python3.11/dist-packages (from pandas->shap) (2025.2)\n",
      "Requirement already satisfied: joblib>=1.2.0 in /usr/local/lib/python3.11/dist-packages (from scikit-learn->shap) (1.5.0)\n",
      "Requirement already satisfied: threadpoolctl>=3.1.0 in /usr/local/lib/python3.11/dist-packages (from scikit-learn->shap) (3.6.0)\n",
      "Requirement already satisfied: six>=1.5 in /usr/local/lib/python3.11/dist-packages (from python-dateutil>=2.8.2->pandas->shap) (1.17.0)\n"
     ]
    }
   ],
   "source": [
    "!pip install keras-tuner\n",
    "# !pip install shap\n",
    "# !pip install graphviz\n",
    "# !pip install scikit-learn==1.4.2\n",
    "# ! pip list | grep scikit-learn"
   ]
  },
  {
   "cell_type": "code",
   "execution_count": 3,
   "metadata": {
    "id": "YmnpXMqW4mJR"
   },
   "outputs": [],
   "source": [
    "# !pip install mapclassify\n",
    "import geopandas as gpd\n",
    "import folium\n",
    "\n",
    "import pandas as pd\n",
    "import matplotlib.pyplot as plt\n",
    "import numpy as np\n",
    "import seaborn as sns\n",
    "import graphviz\n",
    "\n",
    "from calendar import monthrange\n",
    "import os, json, shutil\n",
    "\n",
    "import tensorflow as tf\n",
    "from tensorflow.keras import Sequential\n",
    "from tensorflow.keras.layers import Input, Dense\n",
    "from tensorflow.keras import regularizers as rg\n",
    "import keras_tuner\n",
    "\n",
    "from sklearn.metrics import classification_report, confusion_matrix, roc_auc_score, roc_curve\n",
    "from sklearn.model_selection import train_test_split\n",
    "import scipy.stats as st\n",
    "import scipy\n",
    "\n",
    "# import shap\n",
    "\n",
    "# from sklearn.preprocessing import MinMaxScaler\n"
   ]
  },
  {
   "cell_type": "code",
   "execution_count": 4,
   "metadata": {
    "id": "uQ23-rqQ5viJ"
   },
   "outputs": [],
   "source": [
    "train_files_path = \"train_data/\""
   ]
  },
  {
   "cell_type": "markdown",
   "metadata": {
    "id": "oByOMJZ5zCXX"
   },
   "source": [
    "##### Train with all features"
   ]
  },
  {
   "cell_type": "code",
   "execution_count": 5,
   "metadata": {
    "colab": {
     "base_uri": "https://localhost:8080/"
    },
    "id": "WyFH2C7A-yJQ",
    "outputId": "cb1e4300-0862-4c54-b079-3b4d33c507e8"
   },
   "outputs": [
    {
     "name": "stdout",
     "output_type": "stream",
     "text": [
      "year                 int64\n",
      "is_fire              int64\n",
      "soilw40_mean       float64\n",
      "soilw40_max        float64\n",
      "soilw40_min        float64\n",
      "                    ...   \n",
      "aspect             float64\n",
      "vegetation_type      int64\n",
      "road_dist          float64\n",
      "river_dist         float64\n",
      "locality_dist      float64\n",
      "Length: 105, dtype: object    year  is_fire  soilw40_mean  soilw40_max  soilw40_min  soilw40_std  \\\n",
      "0  2024        1      0.260000         0.26         0.26     0.000000   \n",
      "1  2024        1      0.275625         0.28         0.27     0.005040   \n",
      "2  2024        1      0.277188         0.28         0.27     0.004568   \n",
      "3  2024        1      0.268438         0.27         0.26     0.003689   \n",
      "4  2024        1      0.301562         0.31         0.29     0.006773   \n",
      "\n",
      "   soilw40_mode_num  soilw40_median  soilw200_mean  soilw200_max  ...  \\\n",
      "0              0.26            0.26           0.45          0.45  ...   \n",
      "1              0.28            0.28           0.45          0.45  ...   \n",
      "2              0.28            0.28           0.43          0.43  ...   \n",
      "3              0.27            0.27           0.43          0.43  ...   \n",
      "4              0.30            0.30           0.45          0.45  ...   \n",
      "\n",
      "   soilw100_std  soilw100_mode_num  soilw100_median   elevation     slope  \\\n",
      "0      0.004568               0.32             0.32  351.109375  0.862569   \n",
      "1      0.006468               0.35             0.35  362.041667  0.860739   \n",
      "2      0.007071               0.36             0.36  283.482759  1.586822   \n",
      "3      0.005070               0.33             0.33  301.443662  1.479039   \n",
      "4      0.002961               0.37             0.37  345.325581  1.416153   \n",
      "\n",
      "       aspect  vegetation_type      road_dist    river_dist  locality_dist  \n",
      "0  341.565063               18  422363.693609  40989.628659  139923.175317  \n",
      "1    2.231178               18  426784.065997  42449.312116  140882.262596  \n",
      "2   88.754639               18  614839.740231   2886.425311  125454.827189  \n",
      "3  281.309937                1  602526.185900      0.000000  119364.982175  \n",
      "4   26.053493               18  403076.886945  49023.719105  136235.692492  \n",
      "\n",
      "[5 rows x 105 columns]\n"
     ]
    }
   ],
   "source": [
    "# read the test dataset and drop columns to correspond to the training dataset\n",
    "test_ds = pd.read_csv(train_files_path + \"test_dataset_2024.csv\", sep=\";\").drop(columns=[\"Unnamed: 0\"])\n",
    "test_ds[\"vegetation_type\"] = test_ds[\"vegetation_type\"].astype(int)\n",
    "print(test_ds.dtypes, test_ds.head(5))"
   ]
  },
  {
   "cell_type": "code",
   "execution_count": 6,
   "metadata": {
    "colab": {
     "base_uri": "https://localhost:8080/",
     "height": 573
    },
    "id": "jq4Z4z9E4mDD",
    "outputId": "e840adc3-0a40-4cd7-c7db-426bf2298834"
   },
   "outputs": [
    {
     "name": "stdout",
     "output_type": "stream",
     "text": [
      "apcp_mean          float64\n",
      "rh_mean            float64\n",
      "t_mean             float64\n",
      "wind_speed_mean    float64\n",
      "wind_dir_std       float64\n",
      "aspect             float64\n",
      "elevation          float64\n",
      "slope              float64\n",
      "locality_dist      float64\n",
      "river_dist         float64\n",
      "road_dist          float64\n",
      "vegetation_type      int64\n",
      "is_fire              int64\n",
      "dtype: object\n",
      "(18279, 13)\n",
      "Index(['apcp_mean', 'rh_mean', 't_mean', 'wind_speed_mean', 'wind_dir_std',\n",
      "       'aspect', 'elevation', 'slope', 'locality_dist', 'river_dist',\n",
      "       'road_dist', 'vegetation_type', 'is_fire'],\n",
      "      dtype='object')\n",
      "RangeIndex(start=0, stop=18279, step=1)\n"
     ]
    },
    {
     "data": {
      "application/vnd.google.colaboratory.intrinsic+json": {
       "summary": "{\n  \"name\": \"train_ds\",\n  \"rows\": 18279,\n  \"fields\": [\n    {\n      \"column\": \"apcp_mean\",\n      \"properties\": {\n        \"dtype\": \"number\",\n        \"std\": 0.9999999999999986,\n        \"min\": -1.0082799466867245,\n        \"max\": 11.38835069829363,\n        \"num_unique_values\": 1782,\n        \"samples\": [\n          1.3005302788593156,\n          0.6947323299283984,\n          3.372858594511152\n        ],\n        \"semantic_type\": \"\",\n        \"description\": \"\"\n      }\n    },\n    {\n      \"column\": \"rh_mean\",\n      \"properties\": {\n        \"dtype\": \"number\",\n        \"std\": 1.0000000000000029,\n        \"min\": -2.533821366146736,\n        \"max\": 1.5810000065412542,\n        \"num_unique_values\": 11664,\n        \"samples\": [\n          -1.0612487174949692,\n          1.324395173716683,\n          0.6044524931609006\n        ],\n        \"semantic_type\": \"\",\n        \"description\": \"\"\n      }\n    },\n    {\n      \"column\": \"t_mean\",\n      \"properties\": {\n        \"dtype\": \"number\",\n        \"std\": 0.9999999999999984,\n        \"min\": -3.425776178500066,\n        \"max\": 1.988754183730414,\n        \"num_unique_values\": 16126,\n        \"samples\": [\n          -0.2050362413462348,\n          -0.7873809573584333,\n          -0.4308650099058919\n        ],\n        \"semantic_type\": \"\",\n        \"description\": \"\"\n      }\n    },\n    {\n      \"column\": \"wind_speed_mean\",\n      \"properties\": {\n        \"dtype\": \"number\",\n        \"std\": 1.0000000000000049,\n        \"min\": -2.389816776091336,\n        \"max\": 6.938321093115816,\n        \"num_unique_values\": 1740,\n        \"samples\": [\n          -0.6842578402422176,\n          -0.1062215072736328,\n          -1.7826598733618764\n        ],\n        \"semantic_type\": \"\",\n        \"description\": \"\"\n      }\n    },\n    {\n      \"column\": \"wind_dir_std\",\n      \"properties\": {\n        \"dtype\": \"number\",\n        \"std\": 1.0000000000000009,\n        \"min\": -3.080997976817803,\n        \"max\": 3.399726838319063,\n        \"num_unique_values\": 17287,\n        \"samples\": [\n          -0.5646977266881843,\n          -1.894764054540111,\n          0.7302175367113577\n        ],\n        \"semantic_type\": \"\",\n        \"description\": \"\"\n      }\n    },\n    {\n      \"column\": \"aspect\",\n      \"properties\": {\n        \"dtype\": \"number\",\n        \"std\": 1.0000000000000033,\n        \"min\": -1.2133476088259325,\n        \"max\": 2.111049191944776,\n        \"num_unique_values\": 11611,\n        \"samples\": [\n          -1.0487661743259429,\n          -0.1185557113285926,\n          -1.1144740510450784\n        ],\n        \"semantic_type\": \"\",\n        \"description\": \"\"\n      }\n    },\n    {\n      \"column\": \"elevation\",\n      \"properties\": {\n        \"dtype\": \"number\",\n        \"std\": 1.0000000000000044,\n        \"min\": -1.5652092992995863,\n        \"max\": 7.060846638392976,\n        \"num_unique_values\": 8055,\n        \"samples\": [\n          0.3827293086055059,\n          -0.4526872088059638,\n          -0.7207168692595913\n        ],\n        \"semantic_type\": \"\",\n        \"description\": \"\"\n      }\n    },\n    {\n      \"column\": \"slope\",\n      \"properties\": {\n        \"dtype\": \"number\",\n        \"std\": 1.0,\n        \"min\": -0.9707051474822822,\n        \"max\": 8.72476736169097,\n        \"num_unique_values\": 14722,\n        \"samples\": [\n          -0.4955339807136045,\n          4.568340757483372,\n          -0.4710567525096172\n        ],\n        \"semantic_type\": \"\",\n        \"description\": \"\"\n      }\n    },\n    {\n      \"column\": \"locality_dist\",\n      \"properties\": {\n        \"dtype\": \"number\",\n        \"std\": 1.0000000000000002,\n        \"min\": -1.0996150428751514,\n        \"max\": 4.207171945387165,\n        \"num_unique_values\": 18279,\n        \"samples\": [\n          -0.0406844958350809,\n          0.3078878445725955,\n          0.264373792818613\n        ],\n        \"semantic_type\": \"\",\n        \"description\": \"\"\n      }\n    },\n    {\n      \"column\": \"river_dist\",\n      \"properties\": {\n        \"dtype\": \"number\",\n        \"std\": 1.0000000000000062,\n        \"min\": -1.1025133169160009,\n        \"max\": 6.158355469035598,\n        \"num_unique_values\": 17447,\n        \"samples\": [\n          0.3109959416564657,\n          0.5478616089864976,\n          -0.8456207266582475\n        ],\n        \"semantic_type\": \"\",\n        \"description\": \"\"\n      }\n    },\n    {\n      \"column\": \"road_dist\",\n      \"properties\": {\n        \"dtype\": \"number\",\n        \"std\": 1.000000000000004,\n        \"min\": -1.0388782450583438,\n        \"max\": 2.996429937776397,\n        \"num_unique_values\": 18119,\n        \"samples\": [\n          0.0193640006435354,\n          0.0009291710916086,\n          -0.4254430918523114\n        ],\n        \"semantic_type\": \"\",\n        \"description\": \"\"\n      }\n    },\n    {\n      \"column\": \"vegetation_type\",\n      \"properties\": {\n        \"dtype\": \"number\",\n        \"std\": 5,\n        \"min\": 1,\n        \"max\": 25,\n        \"num_unique_values\": 12,\n        \"samples\": [\n          10,\n          8,\n          21\n        ],\n        \"semantic_type\": \"\",\n        \"description\": \"\"\n      }\n    },\n    {\n      \"column\": \"is_fire\",\n      \"properties\": {\n        \"dtype\": \"number\",\n        \"std\": 0,\n        \"min\": 0,\n        \"max\": 1,\n        \"num_unique_values\": 2,\n        \"samples\": [\n          0,\n          1\n        ],\n        \"semantic_type\": \"\",\n        \"description\": \"\"\n      }\n    }\n  ]\n}",
       "type": "dataframe",
       "variable_name": "train_ds"
      },
      "text/html": [
       "\n",
       "  <div id=\"df-7b21132e-6a13-4466-bf9d-a87e1c029e1c\" class=\"colab-df-container\">\n",
       "    <div>\n",
       "<style scoped>\n",
       "    .dataframe tbody tr th:only-of-type {\n",
       "        vertical-align: middle;\n",
       "    }\n",
       "\n",
       "    .dataframe tbody tr th {\n",
       "        vertical-align: top;\n",
       "    }\n",
       "\n",
       "    .dataframe thead th {\n",
       "        text-align: right;\n",
       "    }\n",
       "</style>\n",
       "<table border=\"1\" class=\"dataframe\">\n",
       "  <thead>\n",
       "    <tr style=\"text-align: right;\">\n",
       "      <th></th>\n",
       "      <th>apcp_mean</th>\n",
       "      <th>rh_mean</th>\n",
       "      <th>t_mean</th>\n",
       "      <th>wind_speed_mean</th>\n",
       "      <th>wind_dir_std</th>\n",
       "      <th>aspect</th>\n",
       "      <th>elevation</th>\n",
       "      <th>slope</th>\n",
       "      <th>locality_dist</th>\n",
       "      <th>river_dist</th>\n",
       "      <th>road_dist</th>\n",
       "      <th>vegetation_type</th>\n",
       "      <th>is_fire</th>\n",
       "    </tr>\n",
       "  </thead>\n",
       "  <tbody>\n",
       "    <tr>\n",
       "      <th>0</th>\n",
       "      <td>0.933361</td>\n",
       "      <td>-0.478887</td>\n",
       "      <td>1.140627</td>\n",
       "      <td>-0.220611</td>\n",
       "      <td>0.937307</td>\n",
       "      <td>0.376493</td>\n",
       "      <td>0.591430</td>\n",
       "      <td>0.390830</td>\n",
       "      <td>0.925226</td>\n",
       "      <td>-0.130329</td>\n",
       "      <td>-0.108080</td>\n",
       "      <td>21</td>\n",
       "      <td>1</td>\n",
       "    </tr>\n",
       "    <tr>\n",
       "      <th>1</th>\n",
       "      <td>-0.417075</td>\n",
       "      <td>-0.731301</td>\n",
       "      <td>0.907181</td>\n",
       "      <td>-1.324532</td>\n",
       "      <td>1.074557</td>\n",
       "      <td>0.588895</td>\n",
       "      <td>0.725595</td>\n",
       "      <td>0.644836</td>\n",
       "      <td>2.803757</td>\n",
       "      <td>-0.067335</td>\n",
       "      <td>0.070995</td>\n",
       "      <td>1</td>\n",
       "      <td>1</td>\n",
       "    </tr>\n",
       "    <tr>\n",
       "      <th>2</th>\n",
       "      <td>-0.609995</td>\n",
       "      <td>0.364651</td>\n",
       "      <td>-0.918104</td>\n",
       "      <td>-0.021905</td>\n",
       "      <td>1.426540</td>\n",
       "      <td>-1.072641</td>\n",
       "      <td>-0.266290</td>\n",
       "      <td>1.563978</td>\n",
       "      <td>2.143343</td>\n",
       "      <td>-1.025714</td>\n",
       "      <td>0.312379</td>\n",
       "      <td>11</td>\n",
       "      <td>1</td>\n",
       "    </tr>\n",
       "    <tr>\n",
       "      <th>3</th>\n",
       "      <td>-0.560209</td>\n",
       "      <td>0.318359</td>\n",
       "      <td>-0.818766</td>\n",
       "      <td>0.094007</td>\n",
       "      <td>1.704787</td>\n",
       "      <td>-1.139740</td>\n",
       "      <td>-0.262791</td>\n",
       "      <td>0.028229</td>\n",
       "      <td>1.427412</td>\n",
       "      <td>0.043715</td>\n",
       "      <td>0.463729</td>\n",
       "      <td>15</td>\n",
       "      <td>1</td>\n",
       "    </tr>\n",
       "    <tr>\n",
       "      <th>4</th>\n",
       "      <td>-0.288797</td>\n",
       "      <td>-0.648157</td>\n",
       "      <td>1.222554</td>\n",
       "      <td>-0.388158</td>\n",
       "      <td>0.304867</td>\n",
       "      <td>0.648565</td>\n",
       "      <td>1.093033</td>\n",
       "      <td>1.090195</td>\n",
       "      <td>1.716589</td>\n",
       "      <td>-0.405877</td>\n",
       "      <td>0.482076</td>\n",
       "      <td>1</td>\n",
       "      <td>1</td>\n",
       "    </tr>\n",
       "  </tbody>\n",
       "</table>\n",
       "</div>\n",
       "    <div class=\"colab-df-buttons\">\n",
       "\n",
       "  <div class=\"colab-df-container\">\n",
       "    <button class=\"colab-df-convert\" onclick=\"convertToInteractive('df-7b21132e-6a13-4466-bf9d-a87e1c029e1c')\"\n",
       "            title=\"Convert this dataframe to an interactive table.\"\n",
       "            style=\"display:none;\">\n",
       "\n",
       "  <svg xmlns=\"http://www.w3.org/2000/svg\" height=\"24px\" viewBox=\"0 -960 960 960\">\n",
       "    <path d=\"M120-120v-720h720v720H120Zm60-500h600v-160H180v160Zm220 220h160v-160H400v160Zm0 220h160v-160H400v160ZM180-400h160v-160H180v160Zm440 0h160v-160H620v160ZM180-180h160v-160H180v160Zm440 0h160v-160H620v160Z\"/>\n",
       "  </svg>\n",
       "    </button>\n",
       "\n",
       "  <style>\n",
       "    .colab-df-container {\n",
       "      display:flex;\n",
       "      gap: 12px;\n",
       "    }\n",
       "\n",
       "    .colab-df-convert {\n",
       "      background-color: #E8F0FE;\n",
       "      border: none;\n",
       "      border-radius: 50%;\n",
       "      cursor: pointer;\n",
       "      display: none;\n",
       "      fill: #1967D2;\n",
       "      height: 32px;\n",
       "      padding: 0 0 0 0;\n",
       "      width: 32px;\n",
       "    }\n",
       "\n",
       "    .colab-df-convert:hover {\n",
       "      background-color: #E2EBFA;\n",
       "      box-shadow: 0px 1px 2px rgba(60, 64, 67, 0.3), 0px 1px 3px 1px rgba(60, 64, 67, 0.15);\n",
       "      fill: #174EA6;\n",
       "    }\n",
       "\n",
       "    .colab-df-buttons div {\n",
       "      margin-bottom: 4px;\n",
       "    }\n",
       "\n",
       "    [theme=dark] .colab-df-convert {\n",
       "      background-color: #3B4455;\n",
       "      fill: #D2E3FC;\n",
       "    }\n",
       "\n",
       "    [theme=dark] .colab-df-convert:hover {\n",
       "      background-color: #434B5C;\n",
       "      box-shadow: 0px 1px 3px 1px rgba(0, 0, 0, 0.15);\n",
       "      filter: drop-shadow(0px 1px 2px rgba(0, 0, 0, 0.3));\n",
       "      fill: #FFFFFF;\n",
       "    }\n",
       "  </style>\n",
       "\n",
       "    <script>\n",
       "      const buttonEl =\n",
       "        document.querySelector('#df-7b21132e-6a13-4466-bf9d-a87e1c029e1c button.colab-df-convert');\n",
       "      buttonEl.style.display =\n",
       "        google.colab.kernel.accessAllowed ? 'block' : 'none';\n",
       "\n",
       "      async function convertToInteractive(key) {\n",
       "        const element = document.querySelector('#df-7b21132e-6a13-4466-bf9d-a87e1c029e1c');\n",
       "        const dataTable =\n",
       "          await google.colab.kernel.invokeFunction('convertToInteractive',\n",
       "                                                    [key], {});\n",
       "        if (!dataTable) return;\n",
       "\n",
       "        const docLinkHtml = 'Like what you see? Visit the ' +\n",
       "          '<a target=\"_blank\" href=https://colab.research.google.com/notebooks/data_table.ipynb>data table notebook</a>'\n",
       "          + ' to learn more about interactive tables.';\n",
       "        element.innerHTML = '';\n",
       "        dataTable['output_type'] = 'display_data';\n",
       "        await google.colab.output.renderOutput(dataTable, element);\n",
       "        const docLink = document.createElement('div');\n",
       "        docLink.innerHTML = docLinkHtml;\n",
       "        element.appendChild(docLink);\n",
       "      }\n",
       "    </script>\n",
       "  </div>\n",
       "\n",
       "\n",
       "    <div id=\"df-40bae444-d350-4d4b-becc-7778973d33da\">\n",
       "      <button class=\"colab-df-quickchart\" onclick=\"quickchart('df-40bae444-d350-4d4b-becc-7778973d33da')\"\n",
       "                title=\"Suggest charts\"\n",
       "                style=\"display:none;\">\n",
       "\n",
       "<svg xmlns=\"http://www.w3.org/2000/svg\" height=\"24px\"viewBox=\"0 0 24 24\"\n",
       "     width=\"24px\">\n",
       "    <g>\n",
       "        <path d=\"M19 3H5c-1.1 0-2 .9-2 2v14c0 1.1.9 2 2 2h14c1.1 0 2-.9 2-2V5c0-1.1-.9-2-2-2zM9 17H7v-7h2v7zm4 0h-2V7h2v10zm4 0h-2v-4h2v4z\"/>\n",
       "    </g>\n",
       "</svg>\n",
       "      </button>\n",
       "\n",
       "<style>\n",
       "  .colab-df-quickchart {\n",
       "      --bg-color: #E8F0FE;\n",
       "      --fill-color: #1967D2;\n",
       "      --hover-bg-color: #E2EBFA;\n",
       "      --hover-fill-color: #174EA6;\n",
       "      --disabled-fill-color: #AAA;\n",
       "      --disabled-bg-color: #DDD;\n",
       "  }\n",
       "\n",
       "  [theme=dark] .colab-df-quickchart {\n",
       "      --bg-color: #3B4455;\n",
       "      --fill-color: #D2E3FC;\n",
       "      --hover-bg-color: #434B5C;\n",
       "      --hover-fill-color: #FFFFFF;\n",
       "      --disabled-bg-color: #3B4455;\n",
       "      --disabled-fill-color: #666;\n",
       "  }\n",
       "\n",
       "  .colab-df-quickchart {\n",
       "    background-color: var(--bg-color);\n",
       "    border: none;\n",
       "    border-radius: 50%;\n",
       "    cursor: pointer;\n",
       "    display: none;\n",
       "    fill: var(--fill-color);\n",
       "    height: 32px;\n",
       "    padding: 0;\n",
       "    width: 32px;\n",
       "  }\n",
       "\n",
       "  .colab-df-quickchart:hover {\n",
       "    background-color: var(--hover-bg-color);\n",
       "    box-shadow: 0 1px 2px rgba(60, 64, 67, 0.3), 0 1px 3px 1px rgba(60, 64, 67, 0.15);\n",
       "    fill: var(--button-hover-fill-color);\n",
       "  }\n",
       "\n",
       "  .colab-df-quickchart-complete:disabled,\n",
       "  .colab-df-quickchart-complete:disabled:hover {\n",
       "    background-color: var(--disabled-bg-color);\n",
       "    fill: var(--disabled-fill-color);\n",
       "    box-shadow: none;\n",
       "  }\n",
       "\n",
       "  .colab-df-spinner {\n",
       "    border: 2px solid var(--fill-color);\n",
       "    border-color: transparent;\n",
       "    border-bottom-color: var(--fill-color);\n",
       "    animation:\n",
       "      spin 1s steps(1) infinite;\n",
       "  }\n",
       "\n",
       "  @keyframes spin {\n",
       "    0% {\n",
       "      border-color: transparent;\n",
       "      border-bottom-color: var(--fill-color);\n",
       "      border-left-color: var(--fill-color);\n",
       "    }\n",
       "    20% {\n",
       "      border-color: transparent;\n",
       "      border-left-color: var(--fill-color);\n",
       "      border-top-color: var(--fill-color);\n",
       "    }\n",
       "    30% {\n",
       "      border-color: transparent;\n",
       "      border-left-color: var(--fill-color);\n",
       "      border-top-color: var(--fill-color);\n",
       "      border-right-color: var(--fill-color);\n",
       "    }\n",
       "    40% {\n",
       "      border-color: transparent;\n",
       "      border-right-color: var(--fill-color);\n",
       "      border-top-color: var(--fill-color);\n",
       "    }\n",
       "    60% {\n",
       "      border-color: transparent;\n",
       "      border-right-color: var(--fill-color);\n",
       "    }\n",
       "    80% {\n",
       "      border-color: transparent;\n",
       "      border-right-color: var(--fill-color);\n",
       "      border-bottom-color: var(--fill-color);\n",
       "    }\n",
       "    90% {\n",
       "      border-color: transparent;\n",
       "      border-bottom-color: var(--fill-color);\n",
       "    }\n",
       "  }\n",
       "</style>\n",
       "\n",
       "      <script>\n",
       "        async function quickchart(key) {\n",
       "          const quickchartButtonEl =\n",
       "            document.querySelector('#' + key + ' button');\n",
       "          quickchartButtonEl.disabled = true;  // To prevent multiple clicks.\n",
       "          quickchartButtonEl.classList.add('colab-df-spinner');\n",
       "          try {\n",
       "            const charts = await google.colab.kernel.invokeFunction(\n",
       "                'suggestCharts', [key], {});\n",
       "          } catch (error) {\n",
       "            console.error('Error during call to suggestCharts:', error);\n",
       "          }\n",
       "          quickchartButtonEl.classList.remove('colab-df-spinner');\n",
       "          quickchartButtonEl.classList.add('colab-df-quickchart-complete');\n",
       "        }\n",
       "        (() => {\n",
       "          let quickchartButtonEl =\n",
       "            document.querySelector('#df-40bae444-d350-4d4b-becc-7778973d33da button');\n",
       "          quickchartButtonEl.style.display =\n",
       "            google.colab.kernel.accessAllowed ? 'block' : 'none';\n",
       "        })();\n",
       "      </script>\n",
       "    </div>\n",
       "    </div>\n",
       "  </div>\n"
      ],
      "text/plain": [
       "   apcp_mean   rh_mean    t_mean  wind_speed_mean  wind_dir_std    aspect  \\\n",
       "0   0.933361 -0.478887  1.140627        -0.220611      0.937307  0.376493   \n",
       "1  -0.417075 -0.731301  0.907181        -1.324532      1.074557  0.588895   \n",
       "2  -0.609995  0.364651 -0.918104        -0.021905      1.426540 -1.072641   \n",
       "3  -0.560209  0.318359 -0.818766         0.094007      1.704787 -1.139740   \n",
       "4  -0.288797 -0.648157  1.222554        -0.388158      0.304867  0.648565   \n",
       "\n",
       "   elevation     slope  locality_dist  river_dist  road_dist  vegetation_type  \\\n",
       "0   0.591430  0.390830       0.925226   -0.130329  -0.108080               21   \n",
       "1   0.725595  0.644836       2.803757   -0.067335   0.070995                1   \n",
       "2  -0.266290  1.563978       2.143343   -1.025714   0.312379               11   \n",
       "3  -0.262791  0.028229       1.427412    0.043715   0.463729               15   \n",
       "4   1.093033  1.090195       1.716589   -0.405877   0.482076                1   \n",
       "\n",
       "   is_fire  \n",
       "0        1  \n",
       "1        1  \n",
       "2        1  \n",
       "3        1  \n",
       "4        1  "
      ]
     },
     "execution_count": 6,
     "metadata": {},
     "output_type": "execute_result"
    }
   ],
   "source": [
    "train_ds = pd.read_csv(train_files_path + \"dataset.csv\", sep=\";\").drop(columns=[\"Unnamed: 0\"])\n",
    "print(train_ds.dtypes, train_ds.shape, train_ds.columns, train_ds.index, sep=\"\\n\")\n",
    "train_ds.head(5)"
   ]
  },
  {
   "cell_type": "code",
   "execution_count": 7,
   "metadata": {
    "colab": {
     "base_uri": "https://localhost:8080/",
     "height": 621
    },
    "id": "50Db7Q8BzKZs",
    "outputId": "9a780005-3a1c-4541-8ed0-cc8130654620"
   },
   "outputs": [
    {
     "name": "stdout",
     "output_type": "stream",
     "text": [
      "Index([ 1093,  1094,  1095,  1096,  1097,  1098,  1099,  1100,  1101,  1102,\n",
      "       ...\n",
      "       18269, 18270, 18271, 18272, 18273, 18274, 18275, 18276, 18277, 18278],\n",
      "      dtype='int64', length=10649)\n",
      "2804 18279\n",
      "(2804,)\n"
     ]
    },
    {
     "data": {
      "text/plain": [
       "(is_fire\n",
       " 0    7845\n",
       " 1    7630\n",
       " Name: count, dtype: int64,\n",
       " <Axes: >)"
      ]
     },
     "execution_count": 7,
     "metadata": {},
     "output_type": "execute_result"
    },
    {
     "data": {
      "image/png": "[encoded data removed]",
      "text/plain": [
       "<Figure size 640x480 with 1 Axes>"
      ]
     },
     "metadata": {},
     "output_type": "display_data"
    }
   ],
   "source": [
    "# drop nonfires\n",
    "drop_nonfires_idx = train_ds[(train_ds.is_fire == 0)].index\n",
    "assert drop_nonfires_idx.duplicated().sum() == 0\n",
    "print(drop_nonfires_idx)\n",
    "idx = drop_nonfires_idx.to_numpy()\n",
    "np.random.shuffle(idx)\n",
    "vc = train_ds.is_fire.value_counts()\n",
    "a = -215\n",
    "diff = vc[0] - vc[1] + a\n",
    "print(diff, train_ds.shape[0])\n",
    "drop_idx = idx[:diff]\n",
    "print(drop_idx.shape)\n",
    "\n",
    "train_ds = train_ds.drop(index=drop_idx)\n",
    "train_ds.is_fire.value_counts(), train_ds.is_fire.hist()"
   ]
  },
  {
   "cell_type": "code",
   "execution_count": 8,
   "metadata": {
    "id": "BkVkmTdH0hzp"
   },
   "outputs": [],
   "source": [
    "# exclude cols in train_ds\n",
    "# ex_cols = [\"aspect\"]\n",
    "# train_ds = train_ds.loc[:, ~train_ds.columns.isin(ex_cols)]"
   ]
  },
  {
   "cell_type": "code",
   "execution_count": 9,
   "metadata": {
    "colab": {
     "base_uri": "https://localhost:8080/",
     "height": 777
    },
    "id": "hAEfnV__E-nz",
    "outputId": "0c65c4dd-cbc5-424e-c59c-fc5661fdaffe"
   },
   "outputs": [
    {
     "data": {
      "text/plain": [
       "(   apcp_mean   rh_mean    t_mean  wind_speed_mean  wind_dir_std    aspect  \\\n",
       " 0   0.933361 -0.478887  1.140627        -0.220611      0.937307  0.376493   \n",
       " 1  -0.417075 -0.731301  0.907181        -1.324532      1.074557  0.588895   \n",
       " 2  -0.609995  0.364651 -0.918104        -0.021905      1.426540 -1.072641   \n",
       " 3  -0.560209  0.318359 -0.818766         0.094007      1.704787 -1.139740   \n",
       " 4  -0.288797 -0.648157  1.222554        -0.388158      0.304867  0.648565   \n",
       " \n",
       "    elevation     slope  locality_dist  river_dist  road_dist  vegetation_type  \n",
       " 0   0.591430  0.390830       0.925226   -0.130329  -0.108080               21  \n",
       " 1   0.725595  0.644836       2.803757   -0.067335   0.070995                1  \n",
       " 2  -0.266290  1.563978       2.143343   -1.025714   0.312379               11  \n",
       " 3  -0.262791  0.028229       1.427412    0.043715   0.463729               15  \n",
       " 4   1.093033  1.090195       1.716589   -0.405877   0.482076                1  ,\n",
       " 0    1\n",
       " 1    1\n",
       " 2    1\n",
       " 3    1\n",
       " 4    1\n",
       " Name: is_fire, dtype: int64,\n",
       " <Axes: >)"
      ]
     },
     "execution_count": 9,
     "metadata": {},
     "output_type": "execute_result"
    },
    {
     "data": {
      "image/png": "[encoded data removed]",
      "text/plain": [
       "<Figure size 640x480 with 1 Axes>"
      ]
     },
     "metadata": {},
     "output_type": "display_data"
    }
   ],
   "source": [
    "features = train_ds.loc[:, ~train_ds.columns.isin([\"is_fire\"])]\n",
    "target = train_ds[\"is_fire\"]\n",
    "features = features.reset_index(drop=True)\n",
    "target = target.reset_index(drop=True)\n",
    "features.head(5), target.head(5), target.hist()"
   ]
  },
  {
   "cell_type": "code",
   "execution_count": 10,
   "metadata": {
    "colab": {
     "base_uri": "https://localhost:8080/"
    },
    "id": "jJXbmN0dHynT",
    "outputId": "d1ca3bed-9be4-4422-a30e-e7d8fabc55e5"
   },
   "outputs": [
    {
     "data": {
      "text/plain": [
       "(Index(['apcp_mean', 'rh_mean', 't_mean', 'wind_speed_mean', 'wind_dir_std',\n",
       "        'aspect', 'elevation', 'slope', 'locality_dist', 'river_dist',\n",
       "        'road_dist', 'vegetation_type'],\n",
       "       dtype='object'),)"
      ]
     },
     "execution_count": 10,
     "metadata": {},
     "output_type": "execute_result"
    }
   ],
   "source": [
    "# lets test if vegetation type normalization works\n",
    "\n",
    "# # plt.hist(features.vegetation_type)\n",
    "# sc = MinMaxScaler()\n",
    "# vt = features.vegetation_type.to_numpy().reshape(-1, 1)\n",
    "# tr = sc.fit_transform(vt).reshape(1, -1)[0]\n",
    "# transform_ = tr\n",
    "\n",
    "# transform_ = scipy.special.boxcox1p(tr, 3)\n",
    "# print(transform_)\n",
    "# plt.hist(transform_)\n",
    "\n",
    "# normalize vegetation_type\n",
    "vt = features.vegetation_type\n",
    "transform_ = (vt - vt.mean()) / vt.std()\n",
    "# transform_ = vt\n",
    "\n",
    "# ex_cols = [\"RH\", \"techno_obj_dist\"]\n",
    "# features_ex = features.loc[:, ~features.columns.isin(ex_cols)]\n",
    "features_ex = features.copy()\n",
    "features_ex.vegetation_type = transform_\n",
    "features_ex.columns, #features_ex.vegetation_type"
   ]
  },
  {
   "cell_type": "code",
   "execution_count": 11,
   "metadata": {
    "id": "NbVMucd-T44p"
   },
   "outputs": [],
   "source": [
    "# randomly permute train dataset if needed\n",
    "# rand_idx = np.random.permutation(len(features_ex))\n",
    "# print(rand_idx)\n",
    "# # Carefull !!! iloc, that doesn't mean that the index will correspond, check if it's the RangeIndex or not\n",
    "# features_ex = features_ex.iloc[rand_idx]\n",
    "# target = target.iloc[rand_idx]"
   ]
  },
  {
   "cell_type": "code",
   "execution_count": 12,
   "metadata": {
    "colab": {
     "base_uri": "https://localhost:8080/"
    },
    "id": "Vj_pMatQadSh",
    "outputId": "ffd3f1cb-1aed-4e03-8b6f-2466471b369a"
   },
   "outputs": [
    {
     "data": {
      "text/plain": [
       "(       apcp_mean   rh_mean    t_mean  wind_speed_mean  wind_dir_std    aspect  \\\n",
       " 0       0.933361 -0.478887  1.140627        -0.220611      0.937307  0.376493   \n",
       " 1      -0.417075 -0.731301  0.907181        -1.324532      1.074557  0.588895   \n",
       " 2      -0.609995  0.364651 -0.918104        -0.021905      1.426540 -1.072641   \n",
       " 3      -0.560209  0.318359 -0.818766         0.094007      1.704787 -1.139740   \n",
       " 4      -0.288797 -0.648157  1.222554        -0.388158      0.304867  0.648565   \n",
       " ...          ...       ...       ...              ...           ...       ...   \n",
       " 15470   1.817057  0.096997 -0.648548         0.651487     -0.835641  1.669601   \n",
       " 15471  -0.256678  1.024166 -1.347439         1.495987     -0.196686  1.393571   \n",
       " 15472   0.199022  0.549818 -0.487639         1.335919     -0.534805  1.172937   \n",
       " 15473  -0.609995 -1.642848  0.900869         0.342389      0.850181  0.887994   \n",
       " 15474   0.827566 -0.968665  0.383727        -0.391719      0.981907  0.455829   \n",
       " \n",
       "        elevation     slope  locality_dist  river_dist  road_dist  \\\n",
       " 0       0.591430  0.390830       0.925226   -0.130329  -0.108080   \n",
       " 1       0.725595  0.644836       2.803757   -0.067335   0.070995   \n",
       " 2      -0.266290  1.563978       2.143343   -1.025714   0.312379   \n",
       " 3      -0.262791  0.028229       1.427412    0.043715   0.463729   \n",
       " 4       1.093033  1.090195       1.716589   -0.405877   0.482076   \n",
       " ...          ...       ...            ...         ...        ...   \n",
       " 15470   1.860717  0.478961       0.771360   -1.076719  -0.294391   \n",
       " 15471  -0.571376 -0.014478      -0.462846    0.855889  -0.772129   \n",
       " 15472   0.167001 -0.813340      -0.816189    0.342279  -0.820233   \n",
       " 15473  -0.585373 -0.827317      -0.444245   -0.995542  -0.851034   \n",
       " 15474  -0.728849 -0.545242      -1.038431   -0.925759  -0.977889   \n",
       " \n",
       "        vegetation_type  \n",
       " 0             1.471653  \n",
       " 1            -2.370346  \n",
       " 2            -0.449346  \n",
       " 3             0.319054  \n",
       " 4            -2.370346  \n",
       " ...                ...  \n",
       " 15470        -0.257246  \n",
       " 15471         0.895354  \n",
       " 15472        -0.257246  \n",
       " 15473        -0.257246  \n",
       " 15474        -0.257246  \n",
       " \n",
       " [15475 rows x 12 columns],\n",
       " 0        1\n",
       " 1        1\n",
       " 2        1\n",
       " 3        1\n",
       " 4        1\n",
       "         ..\n",
       " 15470    0\n",
       " 15471    0\n",
       " 15472    0\n",
       " 15473    0\n",
       " 15474    0\n",
       " Name: is_fire, Length: 15475, dtype: int64)"
      ]
     },
     "execution_count": 12,
     "metadata": {},
     "output_type": "execute_result"
    }
   ],
   "source": [
    "features_ex, target"
   ]
  },
  {
   "cell_type": "code",
   "execution_count": 13,
   "metadata": {
    "colab": {
     "base_uri": "https://localhost:8080/",
     "height": 812
    },
    "id": "0m03VDYS0Hh6",
    "outputId": "178badde-e03e-4420-cbd7-830e00ee9b3e"
   },
   "outputs": [
    {
     "data": {
      "text/plain": [
       "(   apcp_mean   rh_mean    t_mean  wind_speed_mean  wind_dir_std    aspect  \\\n",
       " 0   0.933361 -0.478887  1.140627        -0.220611      0.937307  0.376493   \n",
       " 1  -0.417075 -0.731301  0.907181        -1.324532      1.074557  0.588895   \n",
       " 2  -0.609995  0.364651 -0.918104        -0.021905      1.426540 -1.072641   \n",
       " 3  -0.560209  0.318359 -0.818766         0.094007      1.704787 -1.139740   \n",
       " 4  -0.288797 -0.648157  1.222554        -0.388158      0.304867  0.648565   \n",
       " \n",
       "    elevation     slope  locality_dist  river_dist  road_dist  vegetation_type  \n",
       " 0   0.591430  0.390830       0.925226   -0.130329  -0.108080         1.471653  \n",
       " 1   0.725595  0.644836       2.803757   -0.067335   0.070995        -2.370346  \n",
       " 2  -0.266290  1.563978       2.143343   -1.025714   0.312379        -0.449346  \n",
       " 3  -0.262791  0.028229       1.427412    0.043715   0.463729         0.319054  \n",
       " 4   1.093033  1.090195       1.716589   -0.405877   0.482076        -2.370346  ,\n",
       " 0    1\n",
       " 1    1\n",
       " 2    1\n",
       " 3    1\n",
       " 4    1\n",
       " Name: is_fire, dtype: int64,\n",
       " (15475, 12),\n",
       " (15475,),\n",
       " <Axes: >)"
      ]
     },
     "execution_count": 13,
     "metadata": {},
     "output_type": "execute_result"
    },
    {
     "data": {
      "image/png": "[encoded data removed]",
      "text/plain": [
       "<Figure size 640x480 with 1 Axes>"
      ]
     },
     "metadata": {},
     "output_type": "display_data"
    }
   ],
   "source": [
    "# X_train_ds, X_val_ds, y_train_ds, y_val_ds = train_test_split(features_ex, target, test_size=0.1, random_state=4)\n",
    "X_train_ds = features_ex.copy()\n",
    "y_train_ds = target.copy()\n",
    "X_train_ds.head(5), y_train_ds.head(5), X_train_ds.shape, y_train_ds.shape, y_train_ds.hist()"
   ]
  },
  {
   "cell_type": "markdown",
   "metadata": {
    "id": "qnewxDinO_Ut"
   },
   "source": [
    "Prepare the test dataset so that it corresponds to the train ds"
   ]
  },
  {
   "cell_type": "code",
   "execution_count": 14,
   "metadata": {
    "colab": {
     "base_uri": "https://localhost:8080/",
     "height": 812
    },
    "id": "QLCNcuXg0Hh_",
    "outputId": "b5bf215d-3a5a-4f2a-e26f-86ec4548ee4a"
   },
   "outputs": [
    {
     "name": "stdout",
     "output_type": "stream",
     "text": [
      "Is the X train and X test columns order equal? True\n",
      "The target name: is_fire\n",
      "   apcp_mean   rh_mean    t_mean  wind_speed_mean  wind_dir_std    aspect  \\\n",
      "0  -1.156820 -1.322714  0.720074        -0.879516      1.799650  1.924821   \n",
      "1  -1.055476 -1.510908  1.561793        -0.535203      1.375015 -1.175196   \n",
      "\n",
      "   elevation     slope  locality_dist  river_dist  road_dist  vegetation_type  \n",
      "0  -0.872223 -0.797969       1.240938    0.859338   0.907259         0.814251  \n",
      "1  -0.836417 -0.798585       1.257532    0.928062   0.928147         0.814251  \n",
      "0       1\n",
      "1       1\n",
      "2       1\n",
      "3       1\n",
      "4       1\n",
      "       ..\n",
      "1543    0\n",
      "1544    0\n",
      "1545    0\n",
      "1546    0\n",
      "1547    0\n",
      "Name: is_fire, Length: 1548, dtype: int64\n"
     ]
    },
    {
     "data": {
      "text/plain": [
       "<Axes: >"
      ]
     },
     "execution_count": 14,
     "metadata": {},
     "output_type": "execute_result"
    },
    {
     "data": {
      "image/png": "[encoded data removed]",
      "text/plain": [
       "<Figure size 640x480 with 1 Axes>"
      ]
     },
     "metadata": {},
     "output_type": "display_data"
    }
   ],
   "source": [
    "# prepare the test dataset\n",
    "\n",
    "target_col = target.name\n",
    "train_ds_cols = X_train_ds.columns.to_list() + [target_col]\n",
    "test_ds_ = test_ds.loc[:, test_ds.columns.isin(train_ds_cols)]\n",
    "# print(test_ds_.columns) #, test_ds_.head(1))\n",
    "# test_ds_.is_fire.hist()\n",
    "\n",
    "X_test_ds = test_ds_.loc[:, ~test_ds_.columns.isin([target_col])]\n",
    "# # arrange X_test_ds so that its columns order corresponds to the X_train_ds (carefull! pd.DataFrame)\n",
    "X_test_ds = X_test_ds.reindex(X_train_ds.columns, axis=\"columns\")\n",
    "# # assert that no NaN columns appeared after the reindex\n",
    "assert X_test_ds.isnull().sum().sum() == 0\n",
    "y_test_ds = test_ds_.loc[:, target_col]\n",
    "print(\"Is the X train and X test columns order equal?\", (X_train_ds.columns == X_test_ds.columns).all(), )\n",
    "print(\"The target name:\", y_test_ds.name)\n",
    "# print(X_train_ds.head(2), X_test_ds.head(2), sep=\"\\n\")\n",
    "\n",
    "# normalize X_test using z-score (like X_train)\n",
    "# print(\"*\" * 100, \"Normalizing the test dataset\", sep=\"\\n\")\n",
    "X_test_ds = (X_test_ds - X_test_ds.mean()) / X_test_ds.std()\n",
    "print(X_test_ds.head(2), y_test_ds, sep=\"\\n\")\n",
    "y_test_ds.hist()"
   ]
  },
  {
   "cell_type": "code",
   "execution_count": 15,
   "metadata": {
    "id": "W5_54FW6YOXT"
   },
   "outputs": [],
   "source": [
    "# permute the test dataset\n",
    "rand_idx_test = np.random.permutation(len(X_test_ds))\n",
    "X_test_ds = X_test_ds.iloc[rand_idx_test]\n",
    "y_test_ds = y_test_ds.iloc[rand_idx_test]"
   ]
  },
  {
   "cell_type": "code",
   "execution_count": 16,
   "metadata": {
    "colab": {
     "base_uri": "https://localhost:8080/"
    },
    "id": "h883rYBia3WZ",
    "outputId": "42bd2261-3000-4d2e-aa71-07a11aa1775c"
   },
   "outputs": [
    {
     "data": {
      "text/plain": [
       "(      apcp_mean   rh_mean    t_mean  wind_speed_mean  wind_dir_std    aspect  \\\n",
       " 59    -0.023040 -1.224487  0.402905         0.000941      1.727768 -0.995373   \n",
       " 1453  -0.542425  0.545694 -1.270833         0.251797     -0.595632  1.087980   \n",
       " 1159  -0.016706  0.843888 -0.780748         0.532166      0.291124  1.138251   \n",
       " 1037  -0.453750  1.127496 -1.766052         0.640378     -0.724743  0.699824   \n",
       " 1275  -0.935131 -1.534630  0.432369         0.222284     -0.332026  0.104469   \n",
       " \n",
       "       elevation     slope  locality_dist  river_dist  road_dist  \\\n",
       " 59    -0.535958 -0.136945      -0.859974   -0.117873  -0.240211   \n",
       " 1453  -0.410770 -0.037226      -1.144309   -0.166332  -0.868723   \n",
       " 1159  -0.548331 -0.980306      -1.079183   -0.239590  -1.027809   \n",
       " 1037   0.876403 -0.869970      -1.012548   -0.613827  -0.693477   \n",
       " 1275  -1.000316 -0.657374       0.164107    1.691501  -0.905273   \n",
       " \n",
       "       vegetation_type  \n",
       " 59          -0.424328  \n",
       " 1453        -0.630758  \n",
       " 1159        -0.424328  \n",
       " 1037        -0.424328  \n",
       " 1275        -0.424328  ,\n",
       " 59      1\n",
       " 1453    0\n",
       " 1159    0\n",
       " 1037    0\n",
       " 1275    0\n",
       " Name: is_fire, dtype: int64)"
      ]
     },
     "execution_count": 16,
     "metadata": {},
     "output_type": "execute_result"
    }
   ],
   "source": [
    "X_test_ds.head(5), y_test_ds.head(5)"
   ]
  },
  {
   "cell_type": "markdown",
   "metadata": {
    "id": "ZA5WCrIpWQD_"
   },
   "source": [
    "Convert the datasets to the numpy arrays"
   ]
  },
  {
   "cell_type": "code",
   "execution_count": 17,
   "metadata": {
    "colab": {
     "base_uri": "https://localhost:8080/"
    },
    "id": "0lcQwt18VKzJ",
    "outputId": "e246bd32-ced3-490e-86d1-6eb6fefcc2ce"
   },
   "outputs": [
    {
     "name": "stdout",
     "output_type": "stream",
     "text": [
      "The datasets shape: (15475, 12) (15475,) (1548, 12) (1548,)\n",
      "The target train and test arrays after the reshape: (15475, 1) (1548, 1)\n"
     ]
    }
   ],
   "source": [
    "# if validation dataset is unavailable\n",
    "# convert x and y train, validation and test datasets to numpy arrays\n",
    "l = [X_train_ds, y_train_ds, X_test_ds, y_test_ds]\n",
    "# !!! Attention: preserve the order, it's important\n",
    "X_train, y_train, X_test, y_test = map(lambda x: x.to_numpy(), l)\n",
    "print(\"The datasets shape:\", X_train.shape, y_train.shape, X_test.shape, y_test.shape)\n",
    "assert X_train.shape[1] == X_test.shape[1]\n",
    "# transpose y so that it works with the keras methods\n",
    "y_train = y_train.reshape(-1, 1)\n",
    "y_test = y_test.reshape(-1, 1)\n",
    "print(\"The target train and test arrays after the reshape:\", y_train.shape, y_test.shape)"
   ]
  },
  {
   "cell_type": "code",
   "execution_count": 18,
   "metadata": {
    "id": "BotMILre0HiA"
   },
   "outputs": [],
   "source": [
    "# comment if you don't need the validation dataset\n",
    "\n",
    "# # convert x and y train, validation and test datasets to numpy arrays\n",
    "# l = [X_train_ds, y_train_ds, X_val_ds, y_val_ds, X_test_ds, y_test_ds]\n",
    "# # !!! Attention: preserve the order, it's important\n",
    "# X_train, y_train, X_val, y_val, X_test, y_test = map(lambda x: x.to_numpy(), l)\n",
    "# print(X_train.shape, y_train.shape, X_val.shape, y_val.shape, X_test.shape, y_test.shape)\n",
    "# assert X_train.shape[1] == X_val.shape[1]\n",
    "# assert X_train.shape[1] == X_test.shape[1]\n",
    "# # transpose y so that it works with the keras methods\n",
    "# y_train = y_train.reshape(-1, 1)\n",
    "# y_val = y_val.reshape(-1, 1)\n",
    "# y_test = y_test.reshape(-1, 1)\n",
    "# print(y_train.shape, y_val.shape, y_test.shape)"
   ]
  },
  {
   "cell_type": "code",
   "execution_count": 19,
   "metadata": {
    "id": "BZzgC8QuuO97"
   },
   "outputs": [],
   "source": [
    "# def build_model(layers: int=3):\n",
    "#   \"\"\"\n",
    "#   Description: build the model to use GridSearch\n",
    "#   Params: the model params we want to tune\n",
    "#   Returns: the tf.model\n",
    "#   \"\"\"\n",
    "#   input_shape = (X_train.shape[1], )\n",
    "#   print(\"Model input shape:\", input_shape)\n",
    "#   model = Sequential()\n",
    "#   model.add(Input(input_shape))\n",
    "\n",
    "#   model.add(Dense(512, activation=\"relu\", bias_regularizer=rg.L2(0.01))) #, kernel_regularizer=rg.L2(0.01)))\n",
    "#   model.add(Dense(64, activation=\"relu\", bias_regularizer=rg.L2(0.01))) #kernel_regularizer=rg.L1L2(l1=0.01, l2=0.01)))\n",
    "#   model.add(Dense(8, activation=\"relu\", bias_regularizer=rg.L2(0.01))) #kernel_regularizer=rg.L1L2(l1=0.01, l2=0.01)))\n",
    "#   model.add(Dense(1, activation=\"sigmoid\"))\n",
    "\n",
    "#   model.compile(optimizer=\"adam\", loss=\"binary_crossentropy\", metrics=[\"accuracy\", \"f1_score\", tf.metrics.AUC()]) #, \"precision\", \"recall\", \"f1_score\", \"auc\"])\n",
    "\n",
    "#   return model"
   ]
  },
  {
   "cell_type": "markdown",
   "metadata": {
    "id": "lbNukg-CXY6U"
   },
   "source": [
    "Build and train the model"
   ]
  },
  {
   "cell_type": "code",
   "execution_count": 20,
   "metadata": {
    "id": "CUkIBXGJN5XO"
   },
   "outputs": [],
   "source": [
    "# example tuner\n",
    "# tuner = keras_tuner.RandomSearch(\n",
    "#     hypermodel=tune_params,\n",
    "#     objective = \"val_loss\",\n",
    "#     max_trials = 10,\n",
    "#     executions_per_trial = 1,\n",
    "#     overwrite = True,\n",
    "#     directory = hp_tuner_path,\n",
    "#     project_name = \"fires\"\n",
    "# )\n",
    "# tuner.search_space_summary()"
   ]
  },
  {
   "cell_type": "code",
   "execution_count": 21,
   "metadata": {
    "id": "zci5R0kuTBJh"
   },
   "outputs": [],
   "source": [
    "class ANNModel(keras_tuner.HyperModel):\n",
    "  \"\"\"\n",
    "  The hypermodel class that builds the tf.keras.Sequential model and tunes its hyperparameters\n",
    "  Params:\n",
    "  input_shape: tuple - the shape of the train dataset in the following form: (n, ), where n is the\n",
    "  number of train features\n",
    "  \"\"\"\n",
    "\n",
    "  def __init__(self, input_shape: tuple) -> None:\n",
    "    self.input_shape = input_shape\n",
    "\n",
    "\n",
    "  def build_model(self, n_layers: int, n_units: int, learning_rate: float, ) -> tf.keras.Sequential:\n",
    "    \"\"\"\n",
    "    Description: build the model with the defined parameters\n",
    "    Params: the model parameters we want to tune\n",
    "    Returns: tf.keras.Sequential model\n",
    "    \"\"\"\n",
    "\n",
    "    print(f\"I'm in build_model and I have the following params: {n_layers, n_units, learning_rate}\")\n",
    "\n",
    "    model = Sequential()\n",
    "    model.add(Input(self.input_shape))\n",
    "\n",
    "    for i in range(n_layers):\n",
    "      model.add(Dense(units=n_units, activation=\"relu\", bias_regularizer=rg.L2(0.01))) #, kernel_regularizer=rg.L2(0.01)))\n",
    "\n",
    "    # model.add(Dense(64, activation=\"relu\", bias_regularizer=rg.L2(0.01))) #kernel_regularizer=rg.L1L2(l1=0.01, l2=0.01)))\n",
    "    # model.add(Dense(8, activation=\"relu\", bias_regularizer=rg.L2(0.01))) #kernel_regularizer=rg.L1L2(l1=0.01, l2=0.01)))\n",
    "\n",
    "    model.add(Dense(1, activation=\"sigmoid\"))\n",
    "    model.compile(\n",
    "        optimizer=tf.optimizers.Adam(learning_rate=learning_rate),\n",
    "        loss=\"binary_crossentropy\",\n",
    "        metrics=[\"accuracy\", \"f1_score\", tf.metrics.AUC()] #, \"precision\", \"recall\"])\n",
    "    )\n",
    "\n",
    "    return model\n",
    "\n",
    "\n",
    "  def build(self, hp):\n",
    "    \"\"\"\n",
    "    Description: build the model\n",
    "    Params:\n",
    "    hp - the hyperparameters class: keras_tuner.HyperParameters()\n",
    "    Returns: the built model\n",
    "    \"\"\"\n",
    "    # n_layers = hp.Int(\"n_layers\", min_value=3, max_value=12, step=1)\n",
    "    n_layers = hp.Int(\"n_layers\", min_value=3, max_value=12, step=1)\n",
    "    # l_rate = hp.Float(\"l_rate\", min_value=1e-8, max_value=1e-5, sampling=\"log\")\n",
    "    l_rate = hp.Float(\"l_rate\", min_value=1e-5, max_value=1e-2, step=10, sampling=\"log\")\n",
    "    n_units = hp.Int(\"n_units\", min_value=32, max_value=1024, step=2, sampling=\"log\")\n",
    "    # n_layers = 11\n",
    "    # l_rate = 7.04032e-6\n",
    "    # n_units = 64\n",
    "    model = self.build_model(n_layers, n_units, l_rate)\n",
    "    return model\n",
    "\n",
    "\n",
    "  def fit(self, hp, model, x, y, batch_size = None, validation_split = None, **kwargs):\n",
    "    \"\"\"\n",
    "    Description: fit the model\n",
    "    Params:\n",
    "    hp - the hyperparameters class: keras_tuner.HyperParameters()\n",
    "    model - the model to fit (get in build)\n",
    "    x, y - train features and train target respectively\n",
    "    batch_size - the batch size\n",
    "    validation_split - the validation split\n",
    "    **kwargs - all the parameters that tf.keras.Model.fit method has\n",
    "    \"\"\"\n",
    "\n",
    "    if batch_size is None:\n",
    "      batch_size = hp.Choice(\"b_size\", [32, 64, 128, 256, 512])\n",
    "    print(\"I'm in fit and the batch size is\", batch_size)\n",
    "\n",
    "    if validation_split is None:\n",
    "      validation_split = hp.Choice(\"val_split\", [0.2, 0.15, 0.1, 0.25, 0.33])\n",
    "    print(\"I'm in fit and the validation split is\", validation_split)\n",
    "\n",
    "    return model.fit(\n",
    "        x, y,\n",
    "        batch_size = batch_size,\n",
    "        validation_split = validation_split,\n",
    "        **kwargs,\n",
    "    )\n",
    "\n",
    "# usage\n",
    "# input_shape = (X_train.shape[1], )\n",
    "# hp = keras_tuner.HyperParameters()\n",
    "# model = ANNModel(input_shape)\n",
    "# m = model.build(hp)\n",
    "# model.fit(hp, m, x=X_train, y=y_train)\n",
    "# m.summary()"
   ]
  },
  {
   "cell_type": "code",
   "execution_count": 22,
   "metadata": {
    "colab": {
     "base_uri": "https://localhost:8080/"
    },
    "id": "j8cF2AAApN2z",
    "outputId": "c80b96fd-6ec2-47f2-ec2b-34b988931dd1"
   },
   "outputs": [
    {
     "name": "stdout",
     "output_type": "stream",
     "text": [
      "Creating the directory for the tuner. Path: tuner_dir\n"
     ]
    }
   ],
   "source": [
    "# create a path for the tuner\n",
    "hp_tuner_path = \"tuner_dir\"\n",
    "if not os.path.exists(hp_tuner_path):\n",
    "  print(\"Creating the directory for the tuner. Path:\", hp_tuner_path)\n",
    "  os.mkdir(hp_tuner_path)\n",
    "\n",
    "# a couple of variables to use in search and fit\n",
    "callback_ = tf.keras.callbacks.EarlyStopping(monitor=\"val_loss\", patience=3, mode=\"min\", start_from_epoch=3)\n",
    "# if the values are None, tuner will use random search, else the specified value\n",
    "batch_size_ = None\n",
    "val_split_ = None"
   ]
  },
  {
   "cell_type": "code",
   "execution_count": 23,
   "metadata": {
    "colab": {
     "base_uri": "https://localhost:8080/"
    },
    "id": "T-T7SEb8TBHG",
    "outputId": "de95836d-5b38-4b9a-e6cc-07e57c006cd8"
   },
   "outputs": [
    {
     "name": "stdout",
     "output_type": "stream",
     "text": [
      "Trial 20 Complete [00h 00m 12s]\n",
      "val_loss: 0.45605435967445374\n",
      "\n",
      "Best val_loss So Far: 0.4117600619792938\n",
      "Total elapsed time: 00h 10m 05s\n"
     ]
    }
   ],
   "source": [
    "input_shape = (X_train.shape[1], )\n",
    "rs_tuner = keras_tuner.RandomSearch(\n",
    "    ANNModel(input_shape),\n",
    "    objective=\"val_loss\",\n",
    "    max_trials=20,\n",
    "    executions_per_trial = 1,\n",
    "    overwrite = True,\n",
    "    directory = hp_tuner_path,\n",
    "    project_name = \"fires\"\n",
    ")\n",
    "rs_tuner.search(X_train, y_train, epochs=150, batch_size=batch_size_, validation_split=val_split_, callbacks=[callback_])"
   ]
  },
  {
   "cell_type": "code",
   "execution_count": 24,
   "metadata": {
    "colab": {
     "base_uri": "https://localhost:8080/",
     "height": 1000
    },
    "id": "5LK4OMvOTBCM",
    "outputId": "725b9ff2-2047-42b6-96a0-c9e7f9261079"
   },
   "outputs": [
    {
     "name": "stdout",
     "output_type": "stream",
     "text": [
      "Results summary\n",
      "Results in tuner_dir/fires\n",
      "Showing 10 best trials\n",
      "Objective(name=\"val_loss\", direction=\"min\")\n",
      "\n",
      "Trial 12 summary\n",
      "Hyperparameters:\n",
      "n_layers: 3\n",
      "l_rate: 0.01\n",
      "n_units: 32\n",
      "b_size: 32\n",
      "val_split: 0.15\n",
      "Score: 0.4117600619792938\n",
      "\n",
      "Trial 09 summary\n",
      "Hyperparameters:\n",
      "n_layers: 8\n",
      "l_rate: 0.01\n",
      "n_units: 256\n",
      "b_size: 64\n",
      "val_split: 0.15\n",
      "Score: 0.42462581396102905\n",
      "\n",
      "Trial 16 summary\n",
      "Hyperparameters:\n",
      "n_layers: 4\n",
      "l_rate: 0.0001\n",
      "n_units: 1024\n",
      "b_size: 32\n",
      "val_split: 0.25\n",
      "Score: 0.42860183119773865\n",
      "\n",
      "Trial 14 summary\n",
      "Hyperparameters:\n",
      "n_layers: 7\n",
      "l_rate: 0.01\n",
      "n_units: 512\n",
      "b_size: 128\n",
      "val_split: 0.33\n",
      "Score: 0.4363406300544739\n",
      "\n",
      "Trial 10 summary\n",
      "Hyperparameters:\n",
      "n_layers: 11\n",
      "l_rate: 0.0001\n",
      "n_units: 512\n",
      "b_size: 32\n",
      "val_split: 0.1\n",
      "Score: 0.43711185455322266\n",
      "\n",
      "Trial 13 summary\n",
      "Hyperparameters:\n",
      "n_layers: 12\n",
      "l_rate: 0.001\n",
      "n_units: 256\n",
      "b_size: 512\n",
      "val_split: 0.25\n",
      "Score: 0.44324982166290283\n",
      "\n",
      "Trial 08 summary\n",
      "Hyperparameters:\n",
      "n_layers: 12\n",
      "l_rate: 0.001\n",
      "n_units: 512\n",
      "b_size: 128\n",
      "val_split: 0.1\n",
      "Score: 0.4435376822948456\n",
      "\n",
      "Trial 04 summary\n",
      "Hyperparameters:\n",
      "n_layers: 11\n",
      "l_rate: 0.01\n",
      "n_units: 32\n",
      "b_size: 256\n",
      "val_split: 0.25\n",
      "Score: 0.4463801681995392\n",
      "\n",
      "Trial 11 summary\n",
      "Hyperparameters:\n",
      "n_layers: 8\n",
      "l_rate: 0.0001\n",
      "n_units: 128\n",
      "b_size: 256\n",
      "val_split: 0.25\n",
      "Score: 0.4510733485221863\n",
      "\n",
      "Trial 18 summary\n",
      "Hyperparameters:\n",
      "n_layers: 4\n",
      "l_rate: 0.01\n",
      "n_units: 256\n",
      "b_size: 512\n",
      "val_split: 0.25\n",
      "Score: 0.4519549012184143\n",
      "I'm in build_model and I have the following params: (3, 32, 0.01)\n"
     ]
    },
    {
     "name": "stderr",
     "output_type": "stream",
     "text": [
      "/usr/local/lib/python3.11/dist-packages/keras/src/saving/saving_lib.py:757: UserWarning: Skipping variable loading for optimizer 'adam', because it has 2 variables whereas the saved optimizer has 18 variables. \n",
      "  saveable.load_own_variables(weights_store.get(inner_path))\n"
     ]
    },
    {
     "data": {
      "text/html": [
       "<pre style=\"white-space:pre;overflow-x:auto;line-height:normal;font-family:Menlo,'DejaVu Sans Mono',consolas,'Courier New',monospace\"><span style=\"font-weight: bold\">Model: \"sequential\"</span>\n",
       "</pre>\n"
      ],
      "text/plain": [
       "\u001b[1mModel: \"sequential\"\u001b[0m\n"
      ]
     },
     "metadata": {},
     "output_type": "display_data"
    },
    {
     "data": {
      "text/html": [
       "<pre style=\"white-space:pre;overflow-x:auto;line-height:normal;font-family:Menlo,'DejaVu Sans Mono',consolas,'Courier New',monospace\">┏━━━━━━━━━━━━━━━━━━━━━━━━━━━━━━━━━┳━━━━━━━━━━━━━━━━━━━━━━━━┳━━━━━━━━━━━━━━━┓\n",
       "┃<span style=\"font-weight: bold\"> Layer (type)                    </span>┃<span style=\"font-weight: bold\"> Output Shape           </span>┃<span style=\"font-weight: bold\">       Param # </span>┃\n",
       "┡━━━━━━━━━━━━━━━━━━━━━━━━━━━━━━━━━╇━━━━━━━━━━━━━━━━━━━━━━━━╇━━━━━━━━━━━━━━━┩\n",
       "│ dense (<span style=\"color: #0087ff; text-decoration-color: #0087ff\">Dense</span>)                   │ (<span style=\"color: #00d7ff; text-decoration-color: #00d7ff\">None</span>, <span style=\"color: #00af00; text-decoration-color: #00af00\">32</span>)             │           <span style=\"color: #00af00; text-decoration-color: #00af00\">416</span> │\n",
       "├─────────────────────────────────┼────────────────────────┼───────────────┤\n",
       "│ dense_1 (<span style=\"color: #0087ff; text-decoration-color: #0087ff\">Dense</span>)                 │ (<span style=\"color: #00d7ff; text-decoration-color: #00d7ff\">None</span>, <span style=\"color: #00af00; text-decoration-color: #00af00\">32</span>)             │         <span style=\"color: #00af00; text-decoration-color: #00af00\">1,056</span> │\n",
       "├─────────────────────────────────┼────────────────────────┼───────────────┤\n",
       "│ dense_2 (<span style=\"color: #0087ff; text-decoration-color: #0087ff\">Dense</span>)                 │ (<span style=\"color: #00d7ff; text-decoration-color: #00d7ff\">None</span>, <span style=\"color: #00af00; text-decoration-color: #00af00\">32</span>)             │         <span style=\"color: #00af00; text-decoration-color: #00af00\">1,056</span> │\n",
       "├─────────────────────────────────┼────────────────────────┼───────────────┤\n",
       "│ dense_3 (<span style=\"color: #0087ff; text-decoration-color: #0087ff\">Dense</span>)                 │ (<span style=\"color: #00d7ff; text-decoration-color: #00d7ff\">None</span>, <span style=\"color: #00af00; text-decoration-color: #00af00\">1</span>)              │            <span style=\"color: #00af00; text-decoration-color: #00af00\">33</span> │\n",
       "└─────────────────────────────────┴────────────────────────┴───────────────┘\n",
       "</pre>\n"
      ],
      "text/plain": [
       "┏━━━━━━━━━━━━━━━━━━━━━━━━━━━━━━━━━┳━━━━━━━━━━━━━━━━━━━━━━━━┳━━━━━━━━━━━━━━━┓\n",
       "┃\u001b[1m \u001b[0m\u001b[1mLayer (type)                   \u001b[0m\u001b[1m \u001b[0m┃\u001b[1m \u001b[0m\u001b[1mOutput Shape          \u001b[0m\u001b[1m \u001b[0m┃\u001b[1m \u001b[0m\u001b[1m      Param #\u001b[0m\u001b[1m \u001b[0m┃\n",
       "┡━━━━━━━━━━━━━━━━━━━━━━━━━━━━━━━━━╇━━━━━━━━━━━━━━━━━━━━━━━━╇━━━━━━━━━━━━━━━┩\n",
       "│ dense (\u001b[38;5;33mDense\u001b[0m)                   │ (\u001b[38;5;45mNone\u001b[0m, \u001b[38;5;34m32\u001b[0m)             │           \u001b[38;5;34m416\u001b[0m │\n",
       "├─────────────────────────────────┼────────────────────────┼───────────────┤\n",
       "│ dense_1 (\u001b[38;5;33mDense\u001b[0m)                 │ (\u001b[38;5;45mNone\u001b[0m, \u001b[38;5;34m32\u001b[0m)             │         \u001b[38;5;34m1,056\u001b[0m │\n",
       "├─────────────────────────────────┼────────────────────────┼───────────────┤\n",
       "│ dense_2 (\u001b[38;5;33mDense\u001b[0m)                 │ (\u001b[38;5;45mNone\u001b[0m, \u001b[38;5;34m32\u001b[0m)             │         \u001b[38;5;34m1,056\u001b[0m │\n",
       "├─────────────────────────────────┼────────────────────────┼───────────────┤\n",
       "│ dense_3 (\u001b[38;5;33mDense\u001b[0m)                 │ (\u001b[38;5;45mNone\u001b[0m, \u001b[38;5;34m1\u001b[0m)              │            \u001b[38;5;34m33\u001b[0m │\n",
       "└─────────────────────────────────┴────────────────────────┴───────────────┘\n"
      ]
     },
     "metadata": {},
     "output_type": "display_data"
    },
    {
     "data": {
      "text/html": [
       "<pre style=\"white-space:pre;overflow-x:auto;line-height:normal;font-family:Menlo,'DejaVu Sans Mono',consolas,'Courier New',monospace\"><span style=\"font-weight: bold\"> Total params: </span><span style=\"color: #00af00; text-decoration-color: #00af00\">2,561</span> (10.00 KB)\n",
       "</pre>\n"
      ],
      "text/plain": [
       "\u001b[1m Total params: \u001b[0m\u001b[38;5;34m2,561\u001b[0m (10.00 KB)\n"
      ]
     },
     "metadata": {},
     "output_type": "display_data"
    },
    {
     "data": {
      "text/html": [
       "<pre style=\"white-space:pre;overflow-x:auto;line-height:normal;font-family:Menlo,'DejaVu Sans Mono',consolas,'Courier New',monospace\"><span style=\"font-weight: bold\"> Trainable params: </span><span style=\"color: #00af00; text-decoration-color: #00af00\">2,561</span> (10.00 KB)\n",
       "</pre>\n"
      ],
      "text/plain": [
       "\u001b[1m Trainable params: \u001b[0m\u001b[38;5;34m2,561\u001b[0m (10.00 KB)\n"
      ]
     },
     "metadata": {},
     "output_type": "display_data"
    },
    {
     "data": {
      "text/html": [
       "<pre style=\"white-space:pre;overflow-x:auto;line-height:normal;font-family:Menlo,'DejaVu Sans Mono',consolas,'Courier New',monospace\"><span style=\"font-weight: bold\"> Non-trainable params: </span><span style=\"color: #00af00; text-decoration-color: #00af00\">0</span> (0.00 B)\n",
       "</pre>\n"
      ],
      "text/plain": [
       "\u001b[1m Non-trainable params: \u001b[0m\u001b[38;5;34m0\u001b[0m (0.00 B)\n"
      ]
     },
     "metadata": {},
     "output_type": "display_data"
    },
    {
     "data": {
      "text/plain": [
       "(None,\n",
       " <keras_tuner.src.engine.hyperparameters.hyperparameters.HyperParameters at 0x7d5578fc7e10>,\n",
       " None)"
      ]
     },
     "execution_count": 24,
     "metadata": {},
     "output_type": "execute_result"
    }
   ],
   "source": [
    "rs_tuner.results_summary(), rs_tuner.get_best_hyperparameters()[0], rs_tuner.get_best_models()[0].summary()"
   ]
  },
  {
   "cell_type": "code",
   "execution_count": 25,
   "metadata": {
    "colab": {
     "base_uri": "https://localhost:8080/"
    },
    "id": "tFspjtzq7v8Q",
    "outputId": "5d5e65e0-4d09-485a-e076-860235cd4058"
   },
   "outputs": [
    {
     "name": "stdout",
     "output_type": "stream",
     "text": [
      "Refitting the model with the best hyperparams {'n_layers': 3, 'l_rate': 0.01, 'n_units': 32, 'b_size': 32, 'val_split': 0.15}\n",
      "I'm in build_model and I have the following params: (3, 32, 0.01)\n",
      "I'm in fit and the batch size is 32\n",
      "I'm in fit and the validation split is 0.15\n",
      "Epoch 1/150\n",
      "\u001b[1m412/412\u001b[0m \u001b[32m━━━━━━━━━━━━━━━━━━━━\u001b[0m\u001b[37m\u001b[0m \u001b[1m6s\u001b[0m 9ms/step - accuracy: 0.7927 - auc_1: 0.8664 - f1_score: 0.6834 - loss: 0.4555 - val_accuracy: 0.7545 - val_auc_1: 0.8267 - val_f1_score: 0.5144 - val_loss: 0.5037\n",
      "Epoch 2/150\n",
      "\u001b[1m412/412\u001b[0m \u001b[32m━━━━━━━━━━━━━━━━━━━━\u001b[0m\u001b[37m\u001b[0m \u001b[1m2s\u001b[0m 3ms/step - accuracy: 0.8153 - auc_1: 0.8932 - f1_score: 0.6838 - loss: 0.4121 - val_accuracy: 0.7722 - val_auc_1: 0.8561 - val_f1_score: 0.5144 - val_loss: 0.4704\n",
      "Epoch 3/150\n",
      "\u001b[1m412/412\u001b[0m \u001b[32m━━━━━━━━━━━━━━━━━━━━\u001b[0m\u001b[37m\u001b[0m \u001b[1m2s\u001b[0m 4ms/step - accuracy: 0.8313 - auc_1: 0.9044 - f1_score: 0.6826 - loss: 0.3911 - val_accuracy: 0.7636 - val_auc_1: 0.8600 - val_f1_score: 0.5144 - val_loss: 0.5001\n",
      "Epoch 4/150\n",
      "\u001b[1m412/412\u001b[0m \u001b[32m━━━━━━━━━━━━━━━━━━━━\u001b[0m\u001b[37m\u001b[0m \u001b[1m3s\u001b[0m 4ms/step - accuracy: 0.8353 - auc_1: 0.9107 - f1_score: 0.6859 - loss: 0.3786 - val_accuracy: 0.7756 - val_auc_1: 0.8690 - val_f1_score: 0.5144 - val_loss: 0.4513\n",
      "Epoch 5/150\n",
      "\u001b[1m412/412\u001b[0m \u001b[32m━━━━━━━━━━━━━━━━━━━━\u001b[0m\u001b[37m\u001b[0m \u001b[1m2s\u001b[0m 3ms/step - accuracy: 0.8370 - auc_1: 0.9116 - f1_score: 0.6871 - loss: 0.3767 - val_accuracy: 0.7812 - val_auc_1: 0.8674 - val_f1_score: 0.5144 - val_loss: 0.4348\n",
      "Epoch 6/150\n",
      "\u001b[1m412/412\u001b[0m \u001b[32m━━━━━━━━━━━━━━━━━━━━\u001b[0m\u001b[37m\u001b[0m \u001b[1m3s\u001b[0m 4ms/step - accuracy: 0.8419 - auc_1: 0.9174 - f1_score: 0.6871 - loss: 0.3648 - val_accuracy: 0.7700 - val_auc_1: 0.8751 - val_f1_score: 0.5144 - val_loss: 0.4581\n",
      "Epoch 7/150\n",
      "\u001b[1m412/412\u001b[0m \u001b[32m━━━━━━━━━━━━━━━━━━━━\u001b[0m\u001b[37m\u001b[0m \u001b[1m3s\u001b[0m 4ms/step - accuracy: 0.8372 - auc_1: 0.9180 - f1_score: 0.6881 - loss: 0.3631 - val_accuracy: 0.7786 - val_auc_1: 0.8633 - val_f1_score: 0.5144 - val_loss: 0.4387\n",
      "Epoch 8/150\n",
      "\u001b[1m412/412\u001b[0m \u001b[32m━━━━━━━━━━━━━━━━━━━━\u001b[0m\u001b[37m\u001b[0m \u001b[1m3s\u001b[0m 4ms/step - accuracy: 0.8480 - auc_1: 0.9236 - f1_score: 0.6840 - loss: 0.3517 - val_accuracy: 0.7812 - val_auc_1: 0.8738 - val_f1_score: 0.5144 - val_loss: 0.4307\n",
      "Epoch 9/150\n",
      "\u001b[1m412/412\u001b[0m \u001b[32m━━━━━━━━━━━━━━━━━━━━\u001b[0m\u001b[37m\u001b[0m \u001b[1m2s\u001b[0m 5ms/step - accuracy: 0.8408 - auc_1: 0.9198 - f1_score: 0.6832 - loss: 0.3593 - val_accuracy: 0.7929 - val_auc_1: 0.8831 - val_f1_score: 0.5144 - val_loss: 0.4150\n",
      "Epoch 10/150\n",
      "\u001b[1m412/412\u001b[0m \u001b[32m━━━━━━━━━━━━━━━━━━━━\u001b[0m\u001b[37m\u001b[0m \u001b[1m2s\u001b[0m 4ms/step - accuracy: 0.8516 - auc_1: 0.9257 - f1_score: 0.6843 - loss: 0.3462 - val_accuracy: 0.7967 - val_auc_1: 0.8761 - val_f1_score: 0.5144 - val_loss: 0.4206\n",
      "Epoch 11/150\n",
      "\u001b[1m412/412\u001b[0m \u001b[32m━━━━━━━━━━━━━━━━━━━━\u001b[0m\u001b[37m\u001b[0m \u001b[1m2s\u001b[0m 4ms/step - accuracy: 0.8492 - auc_1: 0.9262 - f1_score: 0.6861 - loss: 0.3439 - val_accuracy: 0.7903 - val_auc_1: 0.8774 - val_f1_score: 0.5144 - val_loss: 0.4199\n",
      "Epoch 12/150\n",
      "\u001b[1m412/412\u001b[0m \u001b[32m━━━━━━━━━━━━━━━━━━━━\u001b[0m\u001b[37m\u001b[0m \u001b[1m1s\u001b[0m 3ms/step - accuracy: 0.8511 - auc_1: 0.9281 - f1_score: 0.6860 - loss: 0.3409 - val_accuracy: 0.7954 - val_auc_1: 0.8719 - val_f1_score: 0.5144 - val_loss: 0.4243\n"
     ]
    },
    {
     "data": {
      "text/plain": [
       "<keras.src.callbacks.history.History at 0x7d55748947d0>"
      ]
     },
     "execution_count": 25,
     "metadata": {},
     "output_type": "execute_result"
    }
   ],
   "source": [
    "hp_model = ANNModel(input_shape)\n",
    "best_hp_params = rs_tuner.get_best_hyperparameters()[0]\n",
    "print(\"Refitting the model with the best hyperparams\", best_hp_params.values)\n",
    "tuned_model = hp_model.build(best_hp_params)\n",
    "hp_model.fit(\n",
    "    best_hp_params, tuned_model,\n",
    "    X_train, y_train, epochs = 150,\n",
    "    batch_size = batch_size_,\n",
    "    validation_split = val_split_,\n",
    "    callbacks = [callback_],\n",
    ")"
   ]
  },
  {
   "cell_type": "code",
   "execution_count": 26,
   "metadata": {
    "colab": {
     "base_uri": "https://localhost:8080/",
     "height": 299
    },
    "id": "Bpe-BRHXuisA",
    "outputId": "a6c6ecae-42bc-4399-a1d3-c9540e2936e8"
   },
   "outputs": [
    {
     "data": {
      "text/html": [
       "<pre style=\"white-space:pre;overflow-x:auto;line-height:normal;font-family:Menlo,'DejaVu Sans Mono',consolas,'Courier New',monospace\"><span style=\"font-weight: bold\">Model: \"sequential_1\"</span>\n",
       "</pre>\n"
      ],
      "text/plain": [
       "\u001b[1mModel: \"sequential_1\"\u001b[0m\n"
      ]
     },
     "metadata": {},
     "output_type": "display_data"
    },
    {
     "data": {
      "text/html": [
       "<pre style=\"white-space:pre;overflow-x:auto;line-height:normal;font-family:Menlo,'DejaVu Sans Mono',consolas,'Courier New',monospace\">┏━━━━━━━━━━━━━━━━━━━━━━━━━━━━━━━━━┳━━━━━━━━━━━━━━━━━━━━━━━━┳━━━━━━━━━━━━━━━┓\n",
       "┃<span style=\"font-weight: bold\"> Layer (type)                    </span>┃<span style=\"font-weight: bold\"> Output Shape           </span>┃<span style=\"font-weight: bold\">       Param # </span>┃\n",
       "┡━━━━━━━━━━━━━━━━━━━━━━━━━━━━━━━━━╇━━━━━━━━━━━━━━━━━━━━━━━━╇━━━━━━━━━━━━━━━┩\n",
       "│ dense_4 (<span style=\"color: #0087ff; text-decoration-color: #0087ff\">Dense</span>)                 │ (<span style=\"color: #00d7ff; text-decoration-color: #00d7ff\">None</span>, <span style=\"color: #00af00; text-decoration-color: #00af00\">32</span>)             │           <span style=\"color: #00af00; text-decoration-color: #00af00\">416</span> │\n",
       "├─────────────────────────────────┼────────────────────────┼───────────────┤\n",
       "│ dense_5 (<span style=\"color: #0087ff; text-decoration-color: #0087ff\">Dense</span>)                 │ (<span style=\"color: #00d7ff; text-decoration-color: #00d7ff\">None</span>, <span style=\"color: #00af00; text-decoration-color: #00af00\">32</span>)             │         <span style=\"color: #00af00; text-decoration-color: #00af00\">1,056</span> │\n",
       "├─────────────────────────────────┼────────────────────────┼───────────────┤\n",
       "│ dense_6 (<span style=\"color: #0087ff; text-decoration-color: #0087ff\">Dense</span>)                 │ (<span style=\"color: #00d7ff; text-decoration-color: #00d7ff\">None</span>, <span style=\"color: #00af00; text-decoration-color: #00af00\">32</span>)             │         <span style=\"color: #00af00; text-decoration-color: #00af00\">1,056</span> │\n",
       "├─────────────────────────────────┼────────────────────────┼───────────────┤\n",
       "│ dense_7 (<span style=\"color: #0087ff; text-decoration-color: #0087ff\">Dense</span>)                 │ (<span style=\"color: #00d7ff; text-decoration-color: #00d7ff\">None</span>, <span style=\"color: #00af00; text-decoration-color: #00af00\">1</span>)              │            <span style=\"color: #00af00; text-decoration-color: #00af00\">33</span> │\n",
       "└─────────────────────────────────┴────────────────────────┴───────────────┘\n",
       "</pre>\n"
      ],
      "text/plain": [
       "┏━━━━━━━━━━━━━━━━━━━━━━━━━━━━━━━━━┳━━━━━━━━━━━━━━━━━━━━━━━━┳━━━━━━━━━━━━━━━┓\n",
       "┃\u001b[1m \u001b[0m\u001b[1mLayer (type)                   \u001b[0m\u001b[1m \u001b[0m┃\u001b[1m \u001b[0m\u001b[1mOutput Shape          \u001b[0m\u001b[1m \u001b[0m┃\u001b[1m \u001b[0m\u001b[1m      Param #\u001b[0m\u001b[1m \u001b[0m┃\n",
       "┡━━━━━━━━━━━━━━━━━━━━━━━━━━━━━━━━━╇━━━━━━━━━━━━━━━━━━━━━━━━╇━━━━━━━━━━━━━━━┩\n",
       "│ dense_4 (\u001b[38;5;33mDense\u001b[0m)                 │ (\u001b[38;5;45mNone\u001b[0m, \u001b[38;5;34m32\u001b[0m)             │           \u001b[38;5;34m416\u001b[0m │\n",
       "├─────────────────────────────────┼────────────────────────┼───────────────┤\n",
       "│ dense_5 (\u001b[38;5;33mDense\u001b[0m)                 │ (\u001b[38;5;45mNone\u001b[0m, \u001b[38;5;34m32\u001b[0m)             │         \u001b[38;5;34m1,056\u001b[0m │\n",
       "├─────────────────────────────────┼────────────────────────┼───────────────┤\n",
       "│ dense_6 (\u001b[38;5;33mDense\u001b[0m)                 │ (\u001b[38;5;45mNone\u001b[0m, \u001b[38;5;34m32\u001b[0m)             │         \u001b[38;5;34m1,056\u001b[0m │\n",
       "├─────────────────────────────────┼────────────────────────┼───────────────┤\n",
       "│ dense_7 (\u001b[38;5;33mDense\u001b[0m)                 │ (\u001b[38;5;45mNone\u001b[0m, \u001b[38;5;34m1\u001b[0m)              │            \u001b[38;5;34m33\u001b[0m │\n",
       "└─────────────────────────────────┴────────────────────────┴───────────────┘\n"
      ]
     },
     "metadata": {},
     "output_type": "display_data"
    },
    {
     "data": {
      "text/html": [
       "<pre style=\"white-space:pre;overflow-x:auto;line-height:normal;font-family:Menlo,'DejaVu Sans Mono',consolas,'Courier New',monospace\"><span style=\"font-weight: bold\"> Total params: </span><span style=\"color: #00af00; text-decoration-color: #00af00\">7,685</span> (30.02 KB)\n",
       "</pre>\n"
      ],
      "text/plain": [
       "\u001b[1m Total params: \u001b[0m\u001b[38;5;34m7,685\u001b[0m (30.02 KB)\n"
      ]
     },
     "metadata": {},
     "output_type": "display_data"
    },
    {
     "data": {
      "text/html": [
       "<pre style=\"white-space:pre;overflow-x:auto;line-height:normal;font-family:Menlo,'DejaVu Sans Mono',consolas,'Courier New',monospace\"><span style=\"font-weight: bold\"> Trainable params: </span><span style=\"color: #00af00; text-decoration-color: #00af00\">2,561</span> (10.00 KB)\n",
       "</pre>\n"
      ],
      "text/plain": [
       "\u001b[1m Trainable params: \u001b[0m\u001b[38;5;34m2,561\u001b[0m (10.00 KB)\n"
      ]
     },
     "metadata": {},
     "output_type": "display_data"
    },
    {
     "data": {
      "text/html": [
       "<pre style=\"white-space:pre;overflow-x:auto;line-height:normal;font-family:Menlo,'DejaVu Sans Mono',consolas,'Courier New',monospace\"><span style=\"font-weight: bold\"> Non-trainable params: </span><span style=\"color: #00af00; text-decoration-color: #00af00\">0</span> (0.00 B)\n",
       "</pre>\n"
      ],
      "text/plain": [
       "\u001b[1m Non-trainable params: \u001b[0m\u001b[38;5;34m0\u001b[0m (0.00 B)\n"
      ]
     },
     "metadata": {},
     "output_type": "display_data"
    },
    {
     "data": {
      "text/html": [
       "<pre style=\"white-space:pre;overflow-x:auto;line-height:normal;font-family:Menlo,'DejaVu Sans Mono',consolas,'Courier New',monospace\"><span style=\"font-weight: bold\"> Optimizer params: </span><span style=\"color: #00af00; text-decoration-color: #00af00\">5,124</span> (20.02 KB)\n",
       "</pre>\n"
      ],
      "text/plain": [
       "\u001b[1m Optimizer params: \u001b[0m\u001b[38;5;34m5,124\u001b[0m (20.02 KB)\n"
      ]
     },
     "metadata": {},
     "output_type": "display_data"
    }
   ],
   "source": [
    "tuned_model.summary()\n",
    "# tf.keras.utils.plot_model(\n",
    "#     model=tuned_model, to_file=\"arch.png\",\n",
    "#     show_layer_activations=True, show_layer_names=True, show_shapes=True,\n",
    "#     dpi=70\n",
    "# )"
   ]
  },
  {
   "cell_type": "markdown",
   "metadata": {
    "id": "a2ccP6EwX1jt"
   },
   "source": [
    "Evaluate the results"
   ]
  },
  {
   "cell_type": "code",
   "execution_count": 27,
   "metadata": {
    "id": "kGqfQLuX0ALi"
   },
   "outputs": [],
   "source": [
    "# X_test = np.concatenate((X_test, X_train[-1000:]), axis=0)\n",
    "# y_test = np.concatenate((y_test, y_train[-1000:]), axis=0)"
   ]
  },
  {
   "cell_type": "code",
   "execution_count": 28,
   "metadata": {
    "id": "6rxzTjjl0HiC"
   },
   "outputs": [],
   "source": [
    "print(tuned_model.evaluate(X_test, y_test))\n",
    "model.metrics_names"
   ]
  },
  {
   "cell_type": "code",
   "execution_count": 38,
   "metadata": {
    "colab": {
     "base_uri": "https://localhost:8080/",
     "height": 499
    },
    "collapsed": true,
    "id": "l3VGR-SvqFGx",
    "jupyter": {
     "outputs_hidden": true
    },
    "outputId": "badced2b-5c4e-417f-d5a9-56d61e17b99c"
   },
   "outputs": [
    {
     "name": "stdout",
     "output_type": "stream",
     "text": [
      "\u001b[1m49/49\u001b[0m \u001b[32m━━━━━━━━━━━━━━━━━━━━\u001b[0m\u001b[37m\u001b[0m \u001b[1m0s\u001b[0m 2ms/step\n",
      "(1548, 1)\n",
      "AUC score: 0.8872798887859129\n"
     ]
    },
    {
     "data": {
      "text/plain": [
       "[<matplotlib.lines.Line2D at 0x7d5564668b50>]"
      ]
     },
     "execution_count": 38,
     "metadata": {},
     "output_type": "execute_result"
    },
    {
     "data": {
      "image/png": "[encoded data removed]",
      "text/plain": [
       "<Figure size 640x480 with 1 Axes>"
      ]
     },
     "metadata": {},
     "output_type": "display_data"
    }
   ],
   "source": [
    "y_pred = tuned_model.predict(X_test)\n",
    "print(y_pred.shape)\n",
    "print(\"AUC score:\", roc_auc_score(y_test, y_pred))\n",
    "fpr, tpr, thresh = roc_curve(y_test, y_pred)\n",
    "# print(\"Thresh:\", thresh)\n",
    "# print(\"FPR, TPR\", fpr, tpr)\n",
    "plt.plot([0, 1], [0, 1])\n",
    "plt.plot(fpr, tpr)"
   ]
  },
  {
   "cell_type": "code",
   "execution_count": 30,
   "metadata": {
    "colab": {
     "base_uri": "https://localhost:8080/"
    },
    "id": "8GtCxGeo0HiC",
    "outputId": "22c380e7-4ab0-49a7-c55c-d7a1aa362a99"
   },
   "outputs": [
    {
     "name": "stdout",
     "output_type": "stream",
     "text": [
      "(1548, 1)\n"
     ]
    },
    {
     "data": {
      "text/plain": [
       "array([0, 1])"
      ]
     },
     "execution_count": 30,
     "metadata": {},
     "output_type": "execute_result"
    }
   ],
   "source": [
    "y_pred = (y_pred > 0.5).astype(int)\n",
    "print(y_pred.shape)\n",
    "np.unique(y_pred)"
   ]
  },
  {
   "cell_type": "code",
   "execution_count": 31,
   "metadata": {
    "colab": {
     "base_uri": "https://localhost:8080/",
     "height": 604
    },
    "id": "-wNCing60HiC",
    "outputId": "9dc367ba-0f1b-4c10-ad8d-a35322be7169"
   },
   "outputs": [
    {
     "name": "stdout",
     "output_type": "stream",
     "text": [
      "              precision    recall  f1-score   support\n",
      "\n",
      "           0       0.85      0.81      0.83       884\n",
      "           1       0.76      0.80      0.78       664\n",
      "\n",
      "    accuracy                           0.81      1548\n",
      "   macro avg       0.80      0.81      0.80      1548\n",
      "weighted avg       0.81      0.81      0.81      1548\n",
      "\n"
     ]
    },
    {
     "data": {
      "text/plain": [
       "<Axes: >"
      ]
     },
     "execution_count": 31,
     "metadata": {},
     "output_type": "execute_result"
    },
    {
     "data": {
      "image/png": "[encoded data removed]",
      "text/plain": [
       "<Figure size 640x480 with 2 Axes>"
      ]
     },
     "metadata": {},
     "output_type": "display_data"
    }
   ],
   "source": [
    "print(classification_report(y_true=y_test, y_pred=y_pred.astype(int)))\n",
    "cm = confusion_matrix(y_true=y_test, y_pred=y_pred.astype(int))\n",
    "sns.heatmap(cm, annot=True, fmt=\"g\")"
   ]
  },
  {
   "cell_type": "code",
   "execution_count": 33,
   "metadata": {
    "colab": {
     "base_uri": "https://localhost:8080/",
     "height": 726
    },
    "id": "5e8Eb1sQsoLA",
    "outputId": "a7e19d55-998d-453d-a7e8-767ac3d604d4"
   },
   "outputs": [
    {
     "name": "stderr",
     "output_type": "stream",
     "text": [
      "PermutationExplainer explainer: 1549it [03:46,  6.67it/s]\n",
      "<ipython-input-33-b671294f73c2>:5: FutureWarning: The NumPy global RNG was seeded by calling `np.random.seed`. In a future version this function will no longer use the global RNG. Pass `rng` explicitly to opt-in to the new behaviour and silence this warning.\n",
      "  shap.summary_plot(shap_values=shap_val, features=X_test, feature_names=X_train_ds.columns)\n"
     ]
    },
    {
     "name": "stdout",
     "output_type": "stream",
     "text": [
      "(1548, 12)\n"
     ]
    },
    {
     "data": {
      "image/png": "[encoded data removed]",
      "text/plain": [
       "<Figure size 800x630 with 2 Axes>"
      ]
     },
     "metadata": {},
     "output_type": "display_data"
    }
   ],
   "source": [
    "# features importance\n",
    "# exp = shap.Explainer(tuned_model, X_train[1000:2000], feature_names=X_train_ds.columns)\n",
    "# shap_val = exp(X_test)\n",
    "# print(shap_val.shape)\n",
    "# shap.summary_plot(shap_values=shap_val, features=X_test, feature_names=X_train_ds.columns)"
   ]
  },
  {
   "cell_type": "code",
   "execution_count": 34,
   "metadata": {
    "colab": {
     "base_uri": "https://localhost:8080/"
    },
    "id": "LcP0rDiR7v5q",
    "outputId": "072f8dbb-a67e-49d8-c251-0fcb3c7c19d7"
   },
   "outputs": [
    {
     "name": "stdout",
     "output_type": "stream",
     "text": [
      "Removing the hp tuner directory. Path: tuner_dir\n"
     ]
    }
   ],
   "source": [
    "# remove the keras_tuner folder\n",
    "if os.path.exists(hp_tuner_path):\n",
    "  print(\"Removing the hp tuner directory. Path:\", hp_tuner_path)\n",
    "  try:\n",
    "    shutil.rmtree(hp_tuner_path)\n",
    "  except Exception as e:\n",
    "    print(e)"
   ]
  },
  {
   "cell_type": "code",
   "execution_count": 53,
   "metadata": {
    "id": "-96T5O0vGPvh"
   },
   "outputs": [],
   "source": []
  },
  {
   "cell_type": "markdown",
   "metadata": {
    "id": "JOj6f_TXGpSH"
   },
   "source": [
    "Save and load model"
   ]
  },
  {
   "cell_type": "code",
   "execution_count": 54,
   "metadata": {
    "id": "wb7Zld5bgHYk"
   },
   "outputs": [],
   "source": [
    "# examples, don't touch\n",
    "\n",
    "# # create a path for the saved models\n",
    "# model_dir_path = \"trained_models/\"\n",
    "# if not os.path.exists(model_dir_path):\n",
    "#   os.mkdir(model_dir_path)\n",
    "\n",
    "\n",
    "# model_path = model_dir_path + f\"model{idx}.keras\"\n",
    "# best_m.save(model_path, include_optimizer=True)\n",
    "\n",
    "# m1 = tf.keras.models.load_model(model_dir_path, compile=True)"
   ]
  },
  {
   "cell_type": "code",
   "execution_count": null,
   "metadata": {
    "id": "bWG_MfM5Hboi"
   },
   "outputs": [],
   "source": [
    "# tuned_model.save(\"model.keras\", include_optimizer=True)"
   ]
  },
  {
   "cell_type": "code",
   "execution_count": 55,
   "metadata": {
    "id": "YYn08QrIV4Ay"
   },
   "outputs": [],
   "source": [
    "# loaded_model = tf.keras.models.load_model(\"model.keras\", compile=True)\n",
    "# loaded_model.summary()"
   ]
  },
  {
   "cell_type": "code",
   "execution_count": 56,
   "metadata": {
    "id": "IErKYDYZF8qG"
   },
   "outputs": [],
   "source": [
    "# y_pred = loaded_model.predict(X_test)\n",
    "# print(y_pred.shape)\n",
    "# print(\"AUC score:\", roc_auc_score(y_test, y_pred))\n",
    "# fpr, tpr, thresh = roc_curve(y_test, y_pred)\n",
    "# # print(\"Thresh:\", thresh)\n",
    "# # print(\"FPR, TPR\", fpr, tpr)\n",
    "# plt.plot([0, 1], [0, 1])\n",
    "# plt.plot(fpr, tpr)"
   ]
  },
  {
   "cell_type": "code",
   "execution_count": 57,
   "metadata": {
    "id": "eFZCgcpNF8jK"
   },
   "outputs": [],
   "source": [
    "# y_pred = (y_pred > 0.5).astype(int)\n",
    "# print(y_pred.shape)\n",
    "# print(np.unique(y_pred))\n",
    "\n",
    "# print(classification_report(y_true=y_test, y_pred=y_pred.astype(int)))\n",
    "# cm = confusion_matrix(y_true=y_test, y_pred=y_pred.astype(int))\n",
    "# sns.heatmap(cm, annot=True, fmt=\"g\")"
   ]
  },
  {
   "cell_type": "code",
   "execution_count": 57,
   "metadata": {
    "id": "jqzFCSwGF8bM"
   },
   "outputs": [],
   "source": []
  },
  {
   "cell_type": "code",
   "execution_count": 57,
   "metadata": {
    "id": "d1aktMnwGuth"
   },
   "outputs": [],
   "source": []
  },
  {
   "cell_type": "code",
   "execution_count": 57,
   "metadata": {
    "id": "U_Mp32H8GvUS"
   },
   "outputs": [],
   "source": []
  }
 ],
 "metadata": {
  "colab": {
   "provenance": []
  },
  "kernelspec": {
   "display_name": "Python 3 (ipykernel)",
   "language": "python",
   "name": "python3"
  },
  "language_info": {
   "codemirror_mode": {
    "name": "ipython",
    "version": 3
   },
   "file_extension": ".py",
   "mimetype": "text/x-python",
   "name": "python",
   "nbconvert_exporter": "python",
   "pygments_lexer": "ipython3",
   "version": "3.11.4"
  }
 },
 "nbformat": 4,
 "nbformat_minor": 4
}
