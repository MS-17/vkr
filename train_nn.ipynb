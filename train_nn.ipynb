{
  "nbformat": 4,
  "nbformat_minor": 0,
  "metadata": {
    "colab": {
      "provenance": []
    },
    "kernelspec": {
      "name": "python3",
      "display_name": "Python 3"
    },
    "language_info": {
      "name": "python"
    }
  },
  "cells": [
    {
      "cell_type": "code",
      "execution_count": 140,
      "metadata": {
        "id": "ACISDipu4cYB"
      },
      "outputs": [],
      "source": [
        "%%bash\n",
        "data_path=/content/drive/MyDrive/vkr/\n",
        "# unzip $data_path/non_fires.zip\n",
        "# unzip $data_path/forest_fires.zip\n",
        "# cp $data_path/Irkutsk_region.geojson .\n",
        "cp -r $data_path/train_data ."
      ]
    },
    {
      "cell_type": "code",
      "source": [
        "!pip install keras-tuner\n",
        "# !pip install graphviz\n",
        "# !pip install scikit-learn==1.4.2\n",
        "# ! pip list | grep scikit-learn"
      ],
      "metadata": {
        "id": "uaf5inNfa1Iz",
        "colab": {
          "base_uri": "https://localhost:8080/"
        },
        "outputId": "43599b06-6be2-41c9-b777-19e55d76e544"
      },
      "execution_count": 141,
      "outputs": [
        {
          "output_type": "stream",
          "name": "stdout",
          "text": [
            "Requirement already satisfied: keras-tuner in /usr/local/lib/python3.11/dist-packages (1.4.7)\n",
            "Requirement already satisfied: keras in /usr/local/lib/python3.11/dist-packages (from keras-tuner) (3.8.0)\n",
            "Requirement already satisfied: packaging in /usr/local/lib/python3.11/dist-packages (from keras-tuner) (24.2)\n",
            "Requirement already satisfied: requests in /usr/local/lib/python3.11/dist-packages (from keras-tuner) (2.32.3)\n",
            "Requirement already satisfied: kt-legacy in /usr/local/lib/python3.11/dist-packages (from keras-tuner) (1.0.5)\n",
            "Requirement already satisfied: absl-py in /usr/local/lib/python3.11/dist-packages (from keras->keras-tuner) (1.4.0)\n",
            "Requirement already satisfied: numpy in /usr/local/lib/python3.11/dist-packages (from keras->keras-tuner) (2.0.2)\n",
            "Requirement already satisfied: rich in /usr/local/lib/python3.11/dist-packages (from keras->keras-tuner) (13.9.4)\n",
            "Requirement already satisfied: namex in /usr/local/lib/python3.11/dist-packages (from keras->keras-tuner) (0.0.9)\n",
            "Requirement already satisfied: h5py in /usr/local/lib/python3.11/dist-packages (from keras->keras-tuner) (3.13.0)\n",
            "Requirement already satisfied: optree in /usr/local/lib/python3.11/dist-packages (from keras->keras-tuner) (0.15.0)\n",
            "Requirement already satisfied: ml-dtypes in /usr/local/lib/python3.11/dist-packages (from keras->keras-tuner) (0.4.1)\n",
            "Requirement already satisfied: charset-normalizer<4,>=2 in /usr/local/lib/python3.11/dist-packages (from requests->keras-tuner) (3.4.2)\n",
            "Requirement already satisfied: idna<4,>=2.5 in /usr/local/lib/python3.11/dist-packages (from requests->keras-tuner) (3.10)\n",
            "Requirement already satisfied: urllib3<3,>=1.21.1 in /usr/local/lib/python3.11/dist-packages (from requests->keras-tuner) (2.4.0)\n",
            "Requirement already satisfied: certifi>=2017.4.17 in /usr/local/lib/python3.11/dist-packages (from requests->keras-tuner) (2025.4.26)\n",
            "Requirement already satisfied: typing-extensions>=4.5.0 in /usr/local/lib/python3.11/dist-packages (from optree->keras->keras-tuner) (4.13.2)\n",
            "Requirement already satisfied: markdown-it-py>=2.2.0 in /usr/local/lib/python3.11/dist-packages (from rich->keras->keras-tuner) (3.0.0)\n",
            "Requirement already satisfied: pygments<3.0.0,>=2.13.0 in /usr/local/lib/python3.11/dist-packages (from rich->keras->keras-tuner) (2.19.1)\n",
            "Requirement already satisfied: mdurl~=0.1 in /usr/local/lib/python3.11/dist-packages (from markdown-it-py>=2.2.0->rich->keras->keras-tuner) (0.1.2)\n"
          ]
        }
      ]
    },
    {
      "cell_type": "code",
      "source": [
        "# !pip install mapclassify\n",
        "import geopandas as gpd\n",
        "import folium\n",
        "\n",
        "import pandas as pd\n",
        "import matplotlib.pyplot as plt\n",
        "import numpy as np\n",
        "import seaborn as sns\n",
        "import graphviz\n",
        "\n",
        "from calendar import monthrange\n",
        "import os, json, shutil\n",
        "\n",
        "import tensorflow as tf\n",
        "from tensorflow.keras import Sequential\n",
        "from tensorflow.keras.layers import Input, Dense\n",
        "from tensorflow.keras import regularizers as rg\n",
        "import keras_tuner\n",
        "\n",
        "from sklearn.metrics import classification_report, confusion_matrix, roc_auc_score, roc_curve\n",
        "from sklearn.model_selection import train_test_split\n",
        "import scipy.stats as st\n",
        "import scipy\n",
        "\n",
        "from statsmodels.stats.outliers_influence import variance_inflation_factor\n",
        "\n",
        "# from sklearn.preprocessing import MinMaxScaler\n"
      ],
      "metadata": {
        "id": "YmnpXMqW4mJR"
      },
      "execution_count": 142,
      "outputs": []
    },
    {
      "cell_type": "code",
      "source": [
        "train_files_path = \"train_data/\""
      ],
      "metadata": {
        "id": "uQ23-rqQ5viJ"
      },
      "execution_count": 143,
      "outputs": []
    },
    {
      "cell_type": "markdown",
      "source": [
        "##### Prepare datasets"
      ],
      "metadata": {
        "id": "oByOMJZ5zCXX"
      }
    },
    {
      "cell_type": "code",
      "source": [
        "# read the test dataset and drop columns to correspond to the training dataset\n",
        "test_ds = pd.read_csv(train_files_path + \"test_dataset_2024.csv\", sep=\";\").drop(columns=[\"Unnamed: 0\"])\n",
        "test_ds[\"vegetation_type\"] = test_ds[\"vegetation_type\"].astype(int)\n",
        "print(test_ds.dtypes, test_ds.head(5))"
      ],
      "metadata": {
        "colab": {
          "base_uri": "https://localhost:8080/"
        },
        "id": "WyFH2C7A-yJQ",
        "outputId": "99926584-95e2-44cc-ee8e-60306f84efd5"
      },
      "execution_count": 144,
      "outputs": [
        {
          "output_type": "stream",
          "name": "stdout",
          "text": [
            "year                 int64\n",
            "is_fire              int64\n",
            "soilw40_mean       float64\n",
            "soilw40_max        float64\n",
            "soilw40_min        float64\n",
            "                    ...   \n",
            "aspect             float64\n",
            "vegetation_type      int64\n",
            "road_dist          float64\n",
            "river_dist         float64\n",
            "locality_dist      float64\n",
            "Length: 105, dtype: object    year  is_fire  soilw40_mean  soilw40_max  soilw40_min  soilw40_std  \\\n",
            "0  2024        1      0.260000         0.26         0.26     0.000000   \n",
            "1  2024        1      0.275625         0.28         0.27     0.005040   \n",
            "2  2024        1      0.277188         0.28         0.27     0.004568   \n",
            "3  2024        1      0.268438         0.27         0.26     0.003689   \n",
            "4  2024        1      0.301562         0.31         0.29     0.006773   \n",
            "\n",
            "   soilw40_mode_num  soilw40_median  soilw200_mean  soilw200_max  ...  \\\n",
            "0              0.26            0.26           0.45          0.45  ...   \n",
            "1              0.28            0.28           0.45          0.45  ...   \n",
            "2              0.28            0.28           0.43          0.43  ...   \n",
            "3              0.27            0.27           0.43          0.43  ...   \n",
            "4              0.30            0.30           0.45          0.45  ...   \n",
            "\n",
            "   soilw100_std  soilw100_mode_num  soilw100_median   elevation     slope  \\\n",
            "0      0.004568               0.32             0.32  351.109375  0.862569   \n",
            "1      0.006468               0.35             0.35  362.041667  0.860739   \n",
            "2      0.007071               0.36             0.36  283.482759  1.586822   \n",
            "3      0.005070               0.33             0.33  301.443662  1.479039   \n",
            "4      0.002961               0.37             0.37  345.325581  1.416153   \n",
            "\n",
            "       aspect  vegetation_type      road_dist    river_dist  locality_dist  \n",
            "0  341.565063               18  422363.693609  40989.628659  139923.175317  \n",
            "1    2.231178               18  426784.065997  42449.312116  140882.262596  \n",
            "2   88.754639               18  614839.740231   2886.425311  125454.827189  \n",
            "3  281.309937                1  602526.185900      0.000000  119364.982175  \n",
            "4   26.053493               18  403076.886945  49023.719105  136235.692492  \n",
            "\n",
            "[5 rows x 105 columns]\n"
          ]
        }
      ]
    },
    {
      "cell_type": "code",
      "source": [
        "train_ds = pd.read_csv(train_files_path + \"dataset.csv\", sep=\";\").drop(columns=[\"Unnamed: 0\"])\n",
        "print(train_ds.dtypes, train_ds.shape, train_ds.columns, train_ds.index, sep=\"\\n\")\n",
        "train_ds.head(5)"
      ],
      "metadata": {
        "colab": {
          "base_uri": "https://localhost:8080/",
          "height": 660
        },
        "id": "jq4Z4z9E4mDD",
        "outputId": "b8415e29-dead-4a56-b203-4368c4cf7ebb"
      },
      "execution_count": 145,
      "outputs": [
        {
          "output_type": "stream",
          "name": "stdout",
          "text": [
            "apcp_mean          float64\n",
            "rh_mean            float64\n",
            "t_mean             float64\n",
            "wind_speed_mean    float64\n",
            "wind_dir_std       float64\n",
            "aspect             float64\n",
            "elevation          float64\n",
            "slope              float64\n",
            "locality_dist      float64\n",
            "river_dist         float64\n",
            "road_dist          float64\n",
            "rh_min             float64\n",
            "t_max              float64\n",
            "soilw10_mean       float64\n",
            "tmpgr10_mean       float64\n",
            "vegetation_type      int64\n",
            "is_fire              int64\n",
            "dtype: object\n",
            "(18279, 17)\n",
            "Index(['apcp_mean', 'rh_mean', 't_mean', 'wind_speed_mean', 'wind_dir_std',\n",
            "       'aspect', 'elevation', 'slope', 'locality_dist', 'river_dist',\n",
            "       'road_dist', 'rh_min', 't_max', 'soilw10_mean', 'tmpgr10_mean',\n",
            "       'vegetation_type', 'is_fire'],\n",
            "      dtype='object')\n",
            "RangeIndex(start=0, stop=18279, step=1)\n"
          ]
        },
        {
          "output_type": "execute_result",
          "data": {
            "text/plain": [
              "   apcp_mean   rh_mean    t_mean  wind_speed_mean  wind_dir_std    aspect  \\\n",
              "0   0.933361 -0.478887  1.140627        -0.220611      0.937307  0.376493   \n",
              "1  -0.417075 -0.731301  0.907181        -1.324532      1.074557  0.588895   \n",
              "2  -0.609995  0.364651 -0.918104        -0.021905      1.426540 -1.072641   \n",
              "3  -0.560209  0.318359 -0.818766         0.094007      1.704787 -1.139740   \n",
              "4  -0.288797 -0.648157  1.222554        -0.388158      0.304867  0.648565   \n",
              "\n",
              "   elevation     slope  locality_dist  river_dist  road_dist    rh_min  \\\n",
              "0   0.591430  0.390830       0.925226   -0.130329  -0.108080 -0.663992   \n",
              "1   0.725595  0.644836       2.803757   -0.067335   0.070995 -1.038884   \n",
              "2  -0.266290  1.563978       2.143343   -1.025714   0.312379 -0.325235   \n",
              "3  -0.262791  0.028229       1.427412    0.043715   0.463729 -0.248450   \n",
              "4   1.093033  1.090195       1.716589   -0.405877   0.482076 -1.011783   \n",
              "\n",
              "      t_max  soilw10_mean  tmpgr10_mean  vegetation_type  is_fire  \n",
              "0  1.069226     -0.884840      1.195401               21        1  \n",
              "1  0.960534     -1.341301      0.972866                1        1  \n",
              "2 -0.842687      0.451065     -0.859766               11        1  \n",
              "3 -0.782996      0.388242     -0.762269               15        1  \n",
              "4  1.550322     -0.956173      1.221843                1        1  "
            ],
            "text/html": [
              "\n",
              "  <div id=\"df-3b87abb2-5185-4bde-8052-6dec90e9db68\" class=\"colab-df-container\">\n",
              "    <div>\n",
              "<style scoped>\n",
              "    .dataframe tbody tr th:only-of-type {\n",
              "        vertical-align: middle;\n",
              "    }\n",
              "\n",
              "    .dataframe tbody tr th {\n",
              "        vertical-align: top;\n",
              "    }\n",
              "\n",
              "    .dataframe thead th {\n",
              "        text-align: right;\n",
              "    }\n",
              "</style>\n",
              "<table border=\"1\" class=\"dataframe\">\n",
              "  <thead>\n",
              "    <tr style=\"text-align: right;\">\n",
              "      <th></th>\n",
              "      <th>apcp_mean</th>\n",
              "      <th>rh_mean</th>\n",
              "      <th>t_mean</th>\n",
              "      <th>wind_speed_mean</th>\n",
              "      <th>wind_dir_std</th>\n",
              "      <th>aspect</th>\n",
              "      <th>elevation</th>\n",
              "      <th>slope</th>\n",
              "      <th>locality_dist</th>\n",
              "      <th>river_dist</th>\n",
              "      <th>road_dist</th>\n",
              "      <th>rh_min</th>\n",
              "      <th>t_max</th>\n",
              "      <th>soilw10_mean</th>\n",
              "      <th>tmpgr10_mean</th>\n",
              "      <th>vegetation_type</th>\n",
              "      <th>is_fire</th>\n",
              "    </tr>\n",
              "  </thead>\n",
              "  <tbody>\n",
              "    <tr>\n",
              "      <th>0</th>\n",
              "      <td>0.933361</td>\n",
              "      <td>-0.478887</td>\n",
              "      <td>1.140627</td>\n",
              "      <td>-0.220611</td>\n",
              "      <td>0.937307</td>\n",
              "      <td>0.376493</td>\n",
              "      <td>0.591430</td>\n",
              "      <td>0.390830</td>\n",
              "      <td>0.925226</td>\n",
              "      <td>-0.130329</td>\n",
              "      <td>-0.108080</td>\n",
              "      <td>-0.663992</td>\n",
              "      <td>1.069226</td>\n",
              "      <td>-0.884840</td>\n",
              "      <td>1.195401</td>\n",
              "      <td>21</td>\n",
              "      <td>1</td>\n",
              "    </tr>\n",
              "    <tr>\n",
              "      <th>1</th>\n",
              "      <td>-0.417075</td>\n",
              "      <td>-0.731301</td>\n",
              "      <td>0.907181</td>\n",
              "      <td>-1.324532</td>\n",
              "      <td>1.074557</td>\n",
              "      <td>0.588895</td>\n",
              "      <td>0.725595</td>\n",
              "      <td>0.644836</td>\n",
              "      <td>2.803757</td>\n",
              "      <td>-0.067335</td>\n",
              "      <td>0.070995</td>\n",
              "      <td>-1.038884</td>\n",
              "      <td>0.960534</td>\n",
              "      <td>-1.341301</td>\n",
              "      <td>0.972866</td>\n",
              "      <td>1</td>\n",
              "      <td>1</td>\n",
              "    </tr>\n",
              "    <tr>\n",
              "      <th>2</th>\n",
              "      <td>-0.609995</td>\n",
              "      <td>0.364651</td>\n",
              "      <td>-0.918104</td>\n",
              "      <td>-0.021905</td>\n",
              "      <td>1.426540</td>\n",
              "      <td>-1.072641</td>\n",
              "      <td>-0.266290</td>\n",
              "      <td>1.563978</td>\n",
              "      <td>2.143343</td>\n",
              "      <td>-1.025714</td>\n",
              "      <td>0.312379</td>\n",
              "      <td>-0.325235</td>\n",
              "      <td>-0.842687</td>\n",
              "      <td>0.451065</td>\n",
              "      <td>-0.859766</td>\n",
              "      <td>11</td>\n",
              "      <td>1</td>\n",
              "    </tr>\n",
              "    <tr>\n",
              "      <th>3</th>\n",
              "      <td>-0.560209</td>\n",
              "      <td>0.318359</td>\n",
              "      <td>-0.818766</td>\n",
              "      <td>0.094007</td>\n",
              "      <td>1.704787</td>\n",
              "      <td>-1.139740</td>\n",
              "      <td>-0.262791</td>\n",
              "      <td>0.028229</td>\n",
              "      <td>1.427412</td>\n",
              "      <td>0.043715</td>\n",
              "      <td>0.463729</td>\n",
              "      <td>-0.248450</td>\n",
              "      <td>-0.782996</td>\n",
              "      <td>0.388242</td>\n",
              "      <td>-0.762269</td>\n",
              "      <td>15</td>\n",
              "      <td>1</td>\n",
              "    </tr>\n",
              "    <tr>\n",
              "      <th>4</th>\n",
              "      <td>-0.288797</td>\n",
              "      <td>-0.648157</td>\n",
              "      <td>1.222554</td>\n",
              "      <td>-0.388158</td>\n",
              "      <td>0.304867</td>\n",
              "      <td>0.648565</td>\n",
              "      <td>1.093033</td>\n",
              "      <td>1.090195</td>\n",
              "      <td>1.716589</td>\n",
              "      <td>-0.405877</td>\n",
              "      <td>0.482076</td>\n",
              "      <td>-1.011783</td>\n",
              "      <td>1.550322</td>\n",
              "      <td>-0.956173</td>\n",
              "      <td>1.221843</td>\n",
              "      <td>1</td>\n",
              "      <td>1</td>\n",
              "    </tr>\n",
              "  </tbody>\n",
              "</table>\n",
              "</div>\n",
              "    <div class=\"colab-df-buttons\">\n",
              "\n",
              "  <div class=\"colab-df-container\">\n",
              "    <button class=\"colab-df-convert\" onclick=\"convertToInteractive('df-3b87abb2-5185-4bde-8052-6dec90e9db68')\"\n",
              "            title=\"Convert this dataframe to an interactive table.\"\n",
              "            style=\"display:none;\">\n",
              "\n",
              "  <svg xmlns=\"http://www.w3.org/2000/svg\" height=\"24px\" viewBox=\"0 -960 960 960\">\n",
              "    <path d=\"M120-120v-720h720v720H120Zm60-500h600v-160H180v160Zm220 220h160v-160H400v160Zm0 220h160v-160H400v160ZM180-400h160v-160H180v160Zm440 0h160v-160H620v160ZM180-180h160v-160H180v160Zm440 0h160v-160H620v160Z\"/>\n",
              "  </svg>\n",
              "    </button>\n",
              "\n",
              "  <style>\n",
              "    .colab-df-container {\n",
              "      display:flex;\n",
              "      gap: 12px;\n",
              "    }\n",
              "\n",
              "    .colab-df-convert {\n",
              "      background-color: #E8F0FE;\n",
              "      border: none;\n",
              "      border-radius: 50%;\n",
              "      cursor: pointer;\n",
              "      display: none;\n",
              "      fill: #1967D2;\n",
              "      height: 32px;\n",
              "      padding: 0 0 0 0;\n",
              "      width: 32px;\n",
              "    }\n",
              "\n",
              "    .colab-df-convert:hover {\n",
              "      background-color: #E2EBFA;\n",
              "      box-shadow: 0px 1px 2px rgba(60, 64, 67, 0.3), 0px 1px 3px 1px rgba(60, 64, 67, 0.15);\n",
              "      fill: #174EA6;\n",
              "    }\n",
              "\n",
              "    .colab-df-buttons div {\n",
              "      margin-bottom: 4px;\n",
              "    }\n",
              "\n",
              "    [theme=dark] .colab-df-convert {\n",
              "      background-color: #3B4455;\n",
              "      fill: #D2E3FC;\n",
              "    }\n",
              "\n",
              "    [theme=dark] .colab-df-convert:hover {\n",
              "      background-color: #434B5C;\n",
              "      box-shadow: 0px 1px 3px 1px rgba(0, 0, 0, 0.15);\n",
              "      filter: drop-shadow(0px 1px 2px rgba(0, 0, 0, 0.3));\n",
              "      fill: #FFFFFF;\n",
              "    }\n",
              "  </style>\n",
              "\n",
              "    <script>\n",
              "      const buttonEl =\n",
              "        document.querySelector('#df-3b87abb2-5185-4bde-8052-6dec90e9db68 button.colab-df-convert');\n",
              "      buttonEl.style.display =\n",
              "        google.colab.kernel.accessAllowed ? 'block' : 'none';\n",
              "\n",
              "      async function convertToInteractive(key) {\n",
              "        const element = document.querySelector('#df-3b87abb2-5185-4bde-8052-6dec90e9db68');\n",
              "        const dataTable =\n",
              "          await google.colab.kernel.invokeFunction('convertToInteractive',\n",
              "                                                    [key], {});\n",
              "        if (!dataTable) return;\n",
              "\n",
              "        const docLinkHtml = 'Like what you see? Visit the ' +\n",
              "          '<a target=\"_blank\" href=https://colab.research.google.com/notebooks/data_table.ipynb>data table notebook</a>'\n",
              "          + ' to learn more about interactive tables.';\n",
              "        element.innerHTML = '';\n",
              "        dataTable['output_type'] = 'display_data';\n",
              "        await google.colab.output.renderOutput(dataTable, element);\n",
              "        const docLink = document.createElement('div');\n",
              "        docLink.innerHTML = docLinkHtml;\n",
              "        element.appendChild(docLink);\n",
              "      }\n",
              "    </script>\n",
              "  </div>\n",
              "\n",
              "\n",
              "    <div id=\"df-0f829114-696f-4b98-a15c-5eef81742fb6\">\n",
              "      <button class=\"colab-df-quickchart\" onclick=\"quickchart('df-0f829114-696f-4b98-a15c-5eef81742fb6')\"\n",
              "                title=\"Suggest charts\"\n",
              "                style=\"display:none;\">\n",
              "\n",
              "<svg xmlns=\"http://www.w3.org/2000/svg\" height=\"24px\"viewBox=\"0 0 24 24\"\n",
              "     width=\"24px\">\n",
              "    <g>\n",
              "        <path d=\"M19 3H5c-1.1 0-2 .9-2 2v14c0 1.1.9 2 2 2h14c1.1 0 2-.9 2-2V5c0-1.1-.9-2-2-2zM9 17H7v-7h2v7zm4 0h-2V7h2v10zm4 0h-2v-4h2v4z\"/>\n",
              "    </g>\n",
              "</svg>\n",
              "      </button>\n",
              "\n",
              "<style>\n",
              "  .colab-df-quickchart {\n",
              "      --bg-color: #E8F0FE;\n",
              "      --fill-color: #1967D2;\n",
              "      --hover-bg-color: #E2EBFA;\n",
              "      --hover-fill-color: #174EA6;\n",
              "      --disabled-fill-color: #AAA;\n",
              "      --disabled-bg-color: #DDD;\n",
              "  }\n",
              "\n",
              "  [theme=dark] .colab-df-quickchart {\n",
              "      --bg-color: #3B4455;\n",
              "      --fill-color: #D2E3FC;\n",
              "      --hover-bg-color: #434B5C;\n",
              "      --hover-fill-color: #FFFFFF;\n",
              "      --disabled-bg-color: #3B4455;\n",
              "      --disabled-fill-color: #666;\n",
              "  }\n",
              "\n",
              "  .colab-df-quickchart {\n",
              "    background-color: var(--bg-color);\n",
              "    border: none;\n",
              "    border-radius: 50%;\n",
              "    cursor: pointer;\n",
              "    display: none;\n",
              "    fill: var(--fill-color);\n",
              "    height: 32px;\n",
              "    padding: 0;\n",
              "    width: 32px;\n",
              "  }\n",
              "\n",
              "  .colab-df-quickchart:hover {\n",
              "    background-color: var(--hover-bg-color);\n",
              "    box-shadow: 0 1px 2px rgba(60, 64, 67, 0.3), 0 1px 3px 1px rgba(60, 64, 67, 0.15);\n",
              "    fill: var(--button-hover-fill-color);\n",
              "  }\n",
              "\n",
              "  .colab-df-quickchart-complete:disabled,\n",
              "  .colab-df-quickchart-complete:disabled:hover {\n",
              "    background-color: var(--disabled-bg-color);\n",
              "    fill: var(--disabled-fill-color);\n",
              "    box-shadow: none;\n",
              "  }\n",
              "\n",
              "  .colab-df-spinner {\n",
              "    border: 2px solid var(--fill-color);\n",
              "    border-color: transparent;\n",
              "    border-bottom-color: var(--fill-color);\n",
              "    animation:\n",
              "      spin 1s steps(1) infinite;\n",
              "  }\n",
              "\n",
              "  @keyframes spin {\n",
              "    0% {\n",
              "      border-color: transparent;\n",
              "      border-bottom-color: var(--fill-color);\n",
              "      border-left-color: var(--fill-color);\n",
              "    }\n",
              "    20% {\n",
              "      border-color: transparent;\n",
              "      border-left-color: var(--fill-color);\n",
              "      border-top-color: var(--fill-color);\n",
              "    }\n",
              "    30% {\n",
              "      border-color: transparent;\n",
              "      border-left-color: var(--fill-color);\n",
              "      border-top-color: var(--fill-color);\n",
              "      border-right-color: var(--fill-color);\n",
              "    }\n",
              "    40% {\n",
              "      border-color: transparent;\n",
              "      border-right-color: var(--fill-color);\n",
              "      border-top-color: var(--fill-color);\n",
              "    }\n",
              "    60% {\n",
              "      border-color: transparent;\n",
              "      border-right-color: var(--fill-color);\n",
              "    }\n",
              "    80% {\n",
              "      border-color: transparent;\n",
              "      border-right-color: var(--fill-color);\n",
              "      border-bottom-color: var(--fill-color);\n",
              "    }\n",
              "    90% {\n",
              "      border-color: transparent;\n",
              "      border-bottom-color: var(--fill-color);\n",
              "    }\n",
              "  }\n",
              "</style>\n",
              "\n",
              "      <script>\n",
              "        async function quickchart(key) {\n",
              "          const quickchartButtonEl =\n",
              "            document.querySelector('#' + key + ' button');\n",
              "          quickchartButtonEl.disabled = true;  // To prevent multiple clicks.\n",
              "          quickchartButtonEl.classList.add('colab-df-spinner');\n",
              "          try {\n",
              "            const charts = await google.colab.kernel.invokeFunction(\n",
              "                'suggestCharts', [key], {});\n",
              "          } catch (error) {\n",
              "            console.error('Error during call to suggestCharts:', error);\n",
              "          }\n",
              "          quickchartButtonEl.classList.remove('colab-df-spinner');\n",
              "          quickchartButtonEl.classList.add('colab-df-quickchart-complete');\n",
              "        }\n",
              "        (() => {\n",
              "          let quickchartButtonEl =\n",
              "            document.querySelector('#df-0f829114-696f-4b98-a15c-5eef81742fb6 button');\n",
              "          quickchartButtonEl.style.display =\n",
              "            google.colab.kernel.accessAllowed ? 'block' : 'none';\n",
              "        })();\n",
              "      </script>\n",
              "    </div>\n",
              "    </div>\n",
              "  </div>\n"
            ],
            "application/vnd.google.colaboratory.intrinsic+json": {
              "type": "dataframe",
              "variable_name": "train_ds",
              "summary": "{\n  \"name\": \"train_ds\",\n  \"rows\": 18279,\n  \"fields\": [\n    {\n      \"column\": \"apcp_mean\",\n      \"properties\": {\n        \"dtype\": \"number\",\n        \"std\": 0.9999999999999986,\n        \"min\": -1.0082799466867245,\n        \"max\": 11.38835069829363,\n        \"num_unique_values\": 1782,\n        \"samples\": [\n          1.3005302788593156,\n          0.6947323299283984,\n          3.372858594511152\n        ],\n        \"semantic_type\": \"\",\n        \"description\": \"\"\n      }\n    },\n    {\n      \"column\": \"rh_mean\",\n      \"properties\": {\n        \"dtype\": \"number\",\n        \"std\": 1.0000000000000029,\n        \"min\": -2.533821366146736,\n        \"max\": 1.5810000065412542,\n        \"num_unique_values\": 11664,\n        \"samples\": [\n          -1.0612487174949692,\n          1.324395173716683,\n          0.6044524931609006\n        ],\n        \"semantic_type\": \"\",\n        \"description\": \"\"\n      }\n    },\n    {\n      \"column\": \"t_mean\",\n      \"properties\": {\n        \"dtype\": \"number\",\n        \"std\": 0.9999999999999984,\n        \"min\": -3.425776178500066,\n        \"max\": 1.988754183730414,\n        \"num_unique_values\": 16126,\n        \"samples\": [\n          -0.2050362413462348,\n          -0.7873809573584333,\n          -0.4308650099058919\n        ],\n        \"semantic_type\": \"\",\n        \"description\": \"\"\n      }\n    },\n    {\n      \"column\": \"wind_speed_mean\",\n      \"properties\": {\n        \"dtype\": \"number\",\n        \"std\": 1.0000000000000049,\n        \"min\": -2.389816776091336,\n        \"max\": 6.938321093115816,\n        \"num_unique_values\": 1740,\n        \"samples\": [\n          -0.6842578402422176,\n          -0.1062215072736328,\n          -1.7826598733618764\n        ],\n        \"semantic_type\": \"\",\n        \"description\": \"\"\n      }\n    },\n    {\n      \"column\": \"wind_dir_std\",\n      \"properties\": {\n        \"dtype\": \"number\",\n        \"std\": 1.0000000000000009,\n        \"min\": -3.080997976817803,\n        \"max\": 3.399726838319063,\n        \"num_unique_values\": 17287,\n        \"samples\": [\n          -0.5646977266881843,\n          -1.894764054540111,\n          0.7302175367113577\n        ],\n        \"semantic_type\": \"\",\n        \"description\": \"\"\n      }\n    },\n    {\n      \"column\": \"aspect\",\n      \"properties\": {\n        \"dtype\": \"number\",\n        \"std\": 1.0000000000000033,\n        \"min\": -1.2133476088259325,\n        \"max\": 2.111049191944776,\n        \"num_unique_values\": 11611,\n        \"samples\": [\n          -1.0487661743259429,\n          -0.1185557113285926,\n          -1.1144740510450784\n        ],\n        \"semantic_type\": \"\",\n        \"description\": \"\"\n      }\n    },\n    {\n      \"column\": \"elevation\",\n      \"properties\": {\n        \"dtype\": \"number\",\n        \"std\": 1.0000000000000044,\n        \"min\": -1.5652092992995863,\n        \"max\": 7.060846638392976,\n        \"num_unique_values\": 8055,\n        \"samples\": [\n          0.3827293086055059,\n          -0.4526872088059638,\n          -0.7207168692595913\n        ],\n        \"semantic_type\": \"\",\n        \"description\": \"\"\n      }\n    },\n    {\n      \"column\": \"slope\",\n      \"properties\": {\n        \"dtype\": \"number\",\n        \"std\": 1.0,\n        \"min\": -0.9707051474822822,\n        \"max\": 8.72476736169097,\n        \"num_unique_values\": 14722,\n        \"samples\": [\n          -0.4955339807136045,\n          4.568340757483372,\n          -0.4710567525096172\n        ],\n        \"semantic_type\": \"\",\n        \"description\": \"\"\n      }\n    },\n    {\n      \"column\": \"locality_dist\",\n      \"properties\": {\n        \"dtype\": \"number\",\n        \"std\": 1.0000000000000002,\n        \"min\": -1.0996150428751514,\n        \"max\": 4.207171945387165,\n        \"num_unique_values\": 18279,\n        \"samples\": [\n          -0.0406844958350809,\n          0.3078878445725955,\n          0.264373792818613\n        ],\n        \"semantic_type\": \"\",\n        \"description\": \"\"\n      }\n    },\n    {\n      \"column\": \"river_dist\",\n      \"properties\": {\n        \"dtype\": \"number\",\n        \"std\": 1.0000000000000062,\n        \"min\": -1.1025133169160009,\n        \"max\": 6.158355469035598,\n        \"num_unique_values\": 17447,\n        \"samples\": [\n          0.3109959416564657,\n          0.5478616089864976,\n          -0.8456207266582475\n        ],\n        \"semantic_type\": \"\",\n        \"description\": \"\"\n      }\n    },\n    {\n      \"column\": \"road_dist\",\n      \"properties\": {\n        \"dtype\": \"number\",\n        \"std\": 1.000000000000004,\n        \"min\": -1.0388782450583438,\n        \"max\": 2.996429937776397,\n        \"num_unique_values\": 18119,\n        \"samples\": [\n          0.0193640006435354,\n          0.0009291710916086,\n          -0.4254430918523114\n        ],\n        \"semantic_type\": \"\",\n        \"description\": \"\"\n      }\n    },\n    {\n      \"column\": \"rh_min\",\n      \"properties\": {\n        \"dtype\": \"number\",\n        \"std\": 1.0000000000000042,\n        \"min\": -1.4679758563213332,\n        \"max\": 2.606142198207648,\n        \"num_unique_values\": 886,\n        \"samples\": [\n          -0.6594757102451827,\n          1.201429653907744,\n          -1.364090362691437\n        ],\n        \"semantic_type\": \"\",\n        \"description\": \"\"\n      }\n    },\n    {\n      \"column\": \"t_max\",\n      \"properties\": {\n        \"dtype\": \"number\",\n        \"std\": 0.9999999999999986,\n        \"min\": -2.7341091837985374,\n        \"max\": 2.010927760016592,\n        \"num_unique_values\": 4101,\n        \"samples\": [\n          -0.1112423489146204,\n          -0.2867534788304259,\n          -1.948318236662799\n        ],\n        \"semantic_type\": \"\",\n        \"description\": \"\"\n      }\n    },\n    {\n      \"column\": \"soilw10_mean\",\n      \"properties\": {\n        \"dtype\": \"number\",\n        \"std\": 0.9999999999999958,\n        \"min\": -1.8899052250277864,\n        \"max\": 2.264363156988501,\n        \"num_unique_values\": 1827,\n        \"samples\": [\n          0.643702655969457,\n          1.2802303781545916,\n          0.7764114294762547\n        ],\n        \"semantic_type\": \"\",\n        \"description\": \"\"\n      }\n    },\n    {\n      \"column\": \"tmpgr10_mean\",\n      \"properties\": {\n        \"dtype\": \"number\",\n        \"std\": 0.9999999999999991,\n        \"min\": -2.711480818909212,\n        \"max\": 1.978850585833671,\n        \"num_unique_values\": 15657,\n        \"samples\": [\n          -0.0622209570003856,\n          -0.7082718852793763,\n          1.1232601517729903\n        ],\n        \"semantic_type\": \"\",\n        \"description\": \"\"\n      }\n    },\n    {\n      \"column\": \"vegetation_type\",\n      \"properties\": {\n        \"dtype\": \"number\",\n        \"std\": 5,\n        \"min\": 1,\n        \"max\": 25,\n        \"num_unique_values\": 12,\n        \"samples\": [\n          10,\n          8,\n          21\n        ],\n        \"semantic_type\": \"\",\n        \"description\": \"\"\n      }\n    },\n    {\n      \"column\": \"is_fire\",\n      \"properties\": {\n        \"dtype\": \"number\",\n        \"std\": 0,\n        \"min\": 0,\n        \"max\": 1,\n        \"num_unique_values\": 2,\n        \"samples\": [\n          0,\n          1\n        ],\n        \"semantic_type\": \"\",\n        \"description\": \"\"\n      }\n    }\n  ]\n}"
            }
          },
          "metadata": {},
          "execution_count": 145
        }
      ]
    },
    {
      "cell_type": "code",
      "source": [
        "# drop nonfires\n",
        "drop_nonfires_idx = train_ds[(train_ds.is_fire == 0)].index\n",
        "assert drop_nonfires_idx.duplicated().sum() == 0\n",
        "print(drop_nonfires_idx)\n",
        "idx = drop_nonfires_idx.to_numpy()\n",
        "np.random.shuffle(idx)\n",
        "vc = train_ds.is_fire.value_counts()\n",
        "a = -215\n",
        "diff = vc[0] - vc[1] + a\n",
        "print(diff, train_ds.shape[0])\n",
        "drop_idx = idx[:diff]\n",
        "print(drop_idx.shape)\n",
        "\n",
        "train_ds = train_ds.drop(index=drop_idx)\n",
        "train_ds.is_fire.value_counts(), train_ds.is_fire.hist()"
      ],
      "metadata": {
        "id": "50Db7Q8BzKZs",
        "colab": {
          "base_uri": "https://localhost:8080/",
          "height": 621
        },
        "outputId": "df2fea4b-a660-4f41-cc86-056ccb4dca73"
      },
      "execution_count": 146,
      "outputs": [
        {
          "output_type": "stream",
          "name": "stdout",
          "text": [
            "Index([ 1093,  1094,  1095,  1096,  1097,  1098,  1099,  1100,  1101,  1102,\n",
            "       ...\n",
            "       18269, 18270, 18271, 18272, 18273, 18274, 18275, 18276, 18277, 18278],\n",
            "      dtype='int64', length=10649)\n",
            "2804 18279\n",
            "(2804,)\n"
          ]
        },
        {
          "output_type": "execute_result",
          "data": {
            "text/plain": [
              "(is_fire\n",
              " 0    7845\n",
              " 1    7630\n",
              " Name: count, dtype: int64,\n",
              " <Axes: >)"
            ]
          },
          "metadata": {},
          "execution_count": 146
        },
        {
          "output_type": "display_data",
          "data": {
            "text/plain": [
              "<Figure size 640x480 with 1 Axes>"
            ],
            "image/png": "[encoded data removed]"
          },
          "metadata": {}
        }
      ]
    },
    {
      "cell_type": "code",
      "source": [
        "# exclude cols in train_ds\n",
        "ex_cols = [\n",
        "  \"rh_min\",\n",
        "  \"t_max\",\n",
        "  # \"t_mean\"\n",
        "  # \"soilw10_mean\",\n",
        "  # \"tmpgr10_mean\",\n",
        "]\n",
        "# soilw10 and tmpgr10 include\n",
        "# using tmpgr10 and t_mean didn't really make a difference, model results were the same\n",
        "# try to take out t_mean and use t_max instead\n",
        "train_ds_ = train_ds.loc[:, ~train_ds.columns.isin(ex_cols)]"
      ],
      "metadata": {
        "id": "BkVkmTdH0hzp"
      },
      "execution_count": 149,
      "outputs": []
    },
    {
      "cell_type": "code",
      "source": [
        "train_ds_vif = train_ds_.loc[:, ~train_ds_.columns.isin([\"is_fire\"])]\n",
        "VIF = pd.DataFrame()\n",
        "VIF[\"feature\"] = list(train_ds_vif.columns)\n",
        "VIF[\"VIF\"] = [variance_inflation_factor(train_ds_vif.values, i) for i in range(train_ds_vif.shape[1])]\n",
        "VIF"
      ],
      "metadata": {
        "colab": {
          "base_uri": "https://localhost:8080/",
          "height": 488
        },
        "id": "ltK0-RHJxca5",
        "outputId": "6f3de1de-c126-409b-f5cb-20ece3bf6772"
      },
      "execution_count": 150,
      "outputs": [
        {
          "output_type": "execute_result",
          "data": {
            "text/plain": [
              "            feature        VIF\n",
              "0         apcp_mean   1.661987\n",
              "1           rh_mean   6.507523\n",
              "2            t_mean  45.212628\n",
              "3   wind_speed_mean   1.620452\n",
              "4      wind_dir_std   1.392073\n",
              "5            aspect   1.069127\n",
              "6         elevation   1.943657\n",
              "7             slope   1.699091\n",
              "8     locality_dist   1.448643\n",
              "9        river_dist   1.025939\n",
              "10        road_dist   1.494785\n",
              "11     soilw10_mean   4.279799\n",
              "12     tmpgr10_mean  40.764615\n",
              "13  vegetation_type   1.009016"
            ],
            "text/html": [
              "\n",
              "  <div id=\"df-13200c22-bdf1-4f47-9297-7d95bb9cf437\" class=\"colab-df-container\">\n",
              "    <div>\n",
              "<style scoped>\n",
              "    .dataframe tbody tr th:only-of-type {\n",
              "        vertical-align: middle;\n",
              "    }\n",
              "\n",
              "    .dataframe tbody tr th {\n",
              "        vertical-align: top;\n",
              "    }\n",
              "\n",
              "    .dataframe thead th {\n",
              "        text-align: right;\n",
              "    }\n",
              "</style>\n",
              "<table border=\"1\" class=\"dataframe\">\n",
              "  <thead>\n",
              "    <tr style=\"text-align: right;\">\n",
              "      <th></th>\n",
              "      <th>feature</th>\n",
              "      <th>VIF</th>\n",
              "    </tr>\n",
              "  </thead>\n",
              "  <tbody>\n",
              "    <tr>\n",
              "      <th>0</th>\n",
              "      <td>apcp_mean</td>\n",
              "      <td>1.661987</td>\n",
              "    </tr>\n",
              "    <tr>\n",
              "      <th>1</th>\n",
              "      <td>rh_mean</td>\n",
              "      <td>6.507523</td>\n",
              "    </tr>\n",
              "    <tr>\n",
              "      <th>2</th>\n",
              "      <td>t_mean</td>\n",
              "      <td>45.212628</td>\n",
              "    </tr>\n",
              "    <tr>\n",
              "      <th>3</th>\n",
              "      <td>wind_speed_mean</td>\n",
              "      <td>1.620452</td>\n",
              "    </tr>\n",
              "    <tr>\n",
              "      <th>4</th>\n",
              "      <td>wind_dir_std</td>\n",
              "      <td>1.392073</td>\n",
              "    </tr>\n",
              "    <tr>\n",
              "      <th>5</th>\n",
              "      <td>aspect</td>\n",
              "      <td>1.069127</td>\n",
              "    </tr>\n",
              "    <tr>\n",
              "      <th>6</th>\n",
              "      <td>elevation</td>\n",
              "      <td>1.943657</td>\n",
              "    </tr>\n",
              "    <tr>\n",
              "      <th>7</th>\n",
              "      <td>slope</td>\n",
              "      <td>1.699091</td>\n",
              "    </tr>\n",
              "    <tr>\n",
              "      <th>8</th>\n",
              "      <td>locality_dist</td>\n",
              "      <td>1.448643</td>\n",
              "    </tr>\n",
              "    <tr>\n",
              "      <th>9</th>\n",
              "      <td>river_dist</td>\n",
              "      <td>1.025939</td>\n",
              "    </tr>\n",
              "    <tr>\n",
              "      <th>10</th>\n",
              "      <td>road_dist</td>\n",
              "      <td>1.494785</td>\n",
              "    </tr>\n",
              "    <tr>\n",
              "      <th>11</th>\n",
              "      <td>soilw10_mean</td>\n",
              "      <td>4.279799</td>\n",
              "    </tr>\n",
              "    <tr>\n",
              "      <th>12</th>\n",
              "      <td>tmpgr10_mean</td>\n",
              "      <td>40.764615</td>\n",
              "    </tr>\n",
              "    <tr>\n",
              "      <th>13</th>\n",
              "      <td>vegetation_type</td>\n",
              "      <td>1.009016</td>\n",
              "    </tr>\n",
              "  </tbody>\n",
              "</table>\n",
              "</div>\n",
              "    <div class=\"colab-df-buttons\">\n",
              "\n",
              "  <div class=\"colab-df-container\">\n",
              "    <button class=\"colab-df-convert\" onclick=\"convertToInteractive('df-13200c22-bdf1-4f47-9297-7d95bb9cf437')\"\n",
              "            title=\"Convert this dataframe to an interactive table.\"\n",
              "            style=\"display:none;\">\n",
              "\n",
              "  <svg xmlns=\"http://www.w3.org/2000/svg\" height=\"24px\" viewBox=\"0 -960 960 960\">\n",
              "    <path d=\"M120-120v-720h720v720H120Zm60-500h600v-160H180v160Zm220 220h160v-160H400v160Zm0 220h160v-160H400v160ZM180-400h160v-160H180v160Zm440 0h160v-160H620v160ZM180-180h160v-160H180v160Zm440 0h160v-160H620v160Z\"/>\n",
              "  </svg>\n",
              "    </button>\n",
              "\n",
              "  <style>\n",
              "    .colab-df-container {\n",
              "      display:flex;\n",
              "      gap: 12px;\n",
              "    }\n",
              "\n",
              "    .colab-df-convert {\n",
              "      background-color: #E8F0FE;\n",
              "      border: none;\n",
              "      border-radius: 50%;\n",
              "      cursor: pointer;\n",
              "      display: none;\n",
              "      fill: #1967D2;\n",
              "      height: 32px;\n",
              "      padding: 0 0 0 0;\n",
              "      width: 32px;\n",
              "    }\n",
              "\n",
              "    .colab-df-convert:hover {\n",
              "      background-color: #E2EBFA;\n",
              "      box-shadow: 0px 1px 2px rgba(60, 64, 67, 0.3), 0px 1px 3px 1px rgba(60, 64, 67, 0.15);\n",
              "      fill: #174EA6;\n",
              "    }\n",
              "\n",
              "    .colab-df-buttons div {\n",
              "      margin-bottom: 4px;\n",
              "    }\n",
              "\n",
              "    [theme=dark] .colab-df-convert {\n",
              "      background-color: #3B4455;\n",
              "      fill: #D2E3FC;\n",
              "    }\n",
              "\n",
              "    [theme=dark] .colab-df-convert:hover {\n",
              "      background-color: #434B5C;\n",
              "      box-shadow: 0px 1px 3px 1px rgba(0, 0, 0, 0.15);\n",
              "      filter: drop-shadow(0px 1px 2px rgba(0, 0, 0, 0.3));\n",
              "      fill: #FFFFFF;\n",
              "    }\n",
              "  </style>\n",
              "\n",
              "    <script>\n",
              "      const buttonEl =\n",
              "        document.querySelector('#df-13200c22-bdf1-4f47-9297-7d95bb9cf437 button.colab-df-convert');\n",
              "      buttonEl.style.display =\n",
              "        google.colab.kernel.accessAllowed ? 'block' : 'none';\n",
              "\n",
              "      async function convertToInteractive(key) {\n",
              "        const element = document.querySelector('#df-13200c22-bdf1-4f47-9297-7d95bb9cf437');\n",
              "        const dataTable =\n",
              "          await google.colab.kernel.invokeFunction('convertToInteractive',\n",
              "                                                    [key], {});\n",
              "        if (!dataTable) return;\n",
              "\n",
              "        const docLinkHtml = 'Like what you see? Visit the ' +\n",
              "          '<a target=\"_blank\" href=https://colab.research.google.com/notebooks/data_table.ipynb>data table notebook</a>'\n",
              "          + ' to learn more about interactive tables.';\n",
              "        element.innerHTML = '';\n",
              "        dataTable['output_type'] = 'display_data';\n",
              "        await google.colab.output.renderOutput(dataTable, element);\n",
              "        const docLink = document.createElement('div');\n",
              "        docLink.innerHTML = docLinkHtml;\n",
              "        element.appendChild(docLink);\n",
              "      }\n",
              "    </script>\n",
              "  </div>\n",
              "\n",
              "\n",
              "    <div id=\"df-be1a4be7-4e90-4824-ae33-30d0349964b8\">\n",
              "      <button class=\"colab-df-quickchart\" onclick=\"quickchart('df-be1a4be7-4e90-4824-ae33-30d0349964b8')\"\n",
              "                title=\"Suggest charts\"\n",
              "                style=\"display:none;\">\n",
              "\n",
              "<svg xmlns=\"http://www.w3.org/2000/svg\" height=\"24px\"viewBox=\"0 0 24 24\"\n",
              "     width=\"24px\">\n",
              "    <g>\n",
              "        <path d=\"M19 3H5c-1.1 0-2 .9-2 2v14c0 1.1.9 2 2 2h14c1.1 0 2-.9 2-2V5c0-1.1-.9-2-2-2zM9 17H7v-7h2v7zm4 0h-2V7h2v10zm4 0h-2v-4h2v4z\"/>\n",
              "    </g>\n",
              "</svg>\n",
              "      </button>\n",
              "\n",
              "<style>\n",
              "  .colab-df-quickchart {\n",
              "      --bg-color: #E8F0FE;\n",
              "      --fill-color: #1967D2;\n",
              "      --hover-bg-color: #E2EBFA;\n",
              "      --hover-fill-color: #174EA6;\n",
              "      --disabled-fill-color: #AAA;\n",
              "      --disabled-bg-color: #DDD;\n",
              "  }\n",
              "\n",
              "  [theme=dark] .colab-df-quickchart {\n",
              "      --bg-color: #3B4455;\n",
              "      --fill-color: #D2E3FC;\n",
              "      --hover-bg-color: #434B5C;\n",
              "      --hover-fill-color: #FFFFFF;\n",
              "      --disabled-bg-color: #3B4455;\n",
              "      --disabled-fill-color: #666;\n",
              "  }\n",
              "\n",
              "  .colab-df-quickchart {\n",
              "    background-color: var(--bg-color);\n",
              "    border: none;\n",
              "    border-radius: 50%;\n",
              "    cursor: pointer;\n",
              "    display: none;\n",
              "    fill: var(--fill-color);\n",
              "    height: 32px;\n",
              "    padding: 0;\n",
              "    width: 32px;\n",
              "  }\n",
              "\n",
              "  .colab-df-quickchart:hover {\n",
              "    background-color: var(--hover-bg-color);\n",
              "    box-shadow: 0 1px 2px rgba(60, 64, 67, 0.3), 0 1px 3px 1px rgba(60, 64, 67, 0.15);\n",
              "    fill: var(--button-hover-fill-color);\n",
              "  }\n",
              "\n",
              "  .colab-df-quickchart-complete:disabled,\n",
              "  .colab-df-quickchart-complete:disabled:hover {\n",
              "    background-color: var(--disabled-bg-color);\n",
              "    fill: var(--disabled-fill-color);\n",
              "    box-shadow: none;\n",
              "  }\n",
              "\n",
              "  .colab-df-spinner {\n",
              "    border: 2px solid var(--fill-color);\n",
              "    border-color: transparent;\n",
              "    border-bottom-color: var(--fill-color);\n",
              "    animation:\n",
              "      spin 1s steps(1) infinite;\n",
              "  }\n",
              "\n",
              "  @keyframes spin {\n",
              "    0% {\n",
              "      border-color: transparent;\n",
              "      border-bottom-color: var(--fill-color);\n",
              "      border-left-color: var(--fill-color);\n",
              "    }\n",
              "    20% {\n",
              "      border-color: transparent;\n",
              "      border-left-color: var(--fill-color);\n",
              "      border-top-color: var(--fill-color);\n",
              "    }\n",
              "    30% {\n",
              "      border-color: transparent;\n",
              "      border-left-color: var(--fill-color);\n",
              "      border-top-color: var(--fill-color);\n",
              "      border-right-color: var(--fill-color);\n",
              "    }\n",
              "    40% {\n",
              "      border-color: transparent;\n",
              "      border-right-color: var(--fill-color);\n",
              "      border-top-color: var(--fill-color);\n",
              "    }\n",
              "    60% {\n",
              "      border-color: transparent;\n",
              "      border-right-color: var(--fill-color);\n",
              "    }\n",
              "    80% {\n",
              "      border-color: transparent;\n",
              "      border-right-color: var(--fill-color);\n",
              "      border-bottom-color: var(--fill-color);\n",
              "    }\n",
              "    90% {\n",
              "      border-color: transparent;\n",
              "      border-bottom-color: var(--fill-color);\n",
              "    }\n",
              "  }\n",
              "</style>\n",
              "\n",
              "      <script>\n",
              "        async function quickchart(key) {\n",
              "          const quickchartButtonEl =\n",
              "            document.querySelector('#' + key + ' button');\n",
              "          quickchartButtonEl.disabled = true;  // To prevent multiple clicks.\n",
              "          quickchartButtonEl.classList.add('colab-df-spinner');\n",
              "          try {\n",
              "            const charts = await google.colab.kernel.invokeFunction(\n",
              "                'suggestCharts', [key], {});\n",
              "          } catch (error) {\n",
              "            console.error('Error during call to suggestCharts:', error);\n",
              "          }\n",
              "          quickchartButtonEl.classList.remove('colab-df-spinner');\n",
              "          quickchartButtonEl.classList.add('colab-df-quickchart-complete');\n",
              "        }\n",
              "        (() => {\n",
              "          let quickchartButtonEl =\n",
              "            document.querySelector('#df-be1a4be7-4e90-4824-ae33-30d0349964b8 button');\n",
              "          quickchartButtonEl.style.display =\n",
              "            google.colab.kernel.accessAllowed ? 'block' : 'none';\n",
              "        })();\n",
              "      </script>\n",
              "    </div>\n",
              "    </div>\n",
              "  </div>\n"
            ],
            "application/vnd.google.colaboratory.intrinsic+json": {
              "type": "dataframe",
              "variable_name": "VIF",
              "summary": "{\n  \"name\": \"VIF\",\n  \"rows\": 14,\n  \"fields\": [\n    {\n      \"column\": \"feature\",\n      \"properties\": {\n        \"dtype\": \"string\",\n        \"num_unique_values\": 14,\n        \"samples\": [\n          \"river_dist\",\n          \"soilw10_mean\",\n          \"apcp_mean\"\n        ],\n        \"semantic_type\": \"\",\n        \"description\": \"\"\n      }\n    },\n    {\n      \"column\": \"VIF\",\n      \"properties\": {\n        \"dtype\": \"number\",\n        \"std\": 14.951238408028033,\n        \"min\": 1.009015786379022,\n        \"max\": 45.212627534639516,\n        \"num_unique_values\": 14,\n        \"samples\": [\n          1.0259387588748123,\n          4.279799273645659,\n          1.661987484968244\n        ],\n        \"semantic_type\": \"\",\n        \"description\": \"\"\n      }\n    }\n  ]\n}"
            }
          },
          "metadata": {},
          "execution_count": 150
        }
      ]
    },
    {
      "cell_type": "code",
      "source": [
        "features = train_ds_.loc[:, ~train_ds_.columns.isin([\"is_fire\"])]\n",
        "target = train_ds_[\"is_fire\"]\n",
        "features = features.reset_index(drop=True)\n",
        "target = target.reset_index(drop=True)\n",
        "features.head(5), target.head(5), target.hist()"
      ],
      "metadata": {
        "colab": {
          "base_uri": "https://localhost:8080/",
          "height": 899
        },
        "id": "hAEfnV__E-nz",
        "outputId": "4091b237-23a5-453a-ec2e-dfe94a34e052"
      },
      "execution_count": 151,
      "outputs": [
        {
          "output_type": "execute_result",
          "data": {
            "text/plain": [
              "(   apcp_mean   rh_mean    t_mean  wind_speed_mean  wind_dir_std    aspect  \\\n",
              " 0   0.933361 -0.478887  1.140627        -0.220611      0.937307  0.376493   \n",
              " 1  -0.417075 -0.731301  0.907181        -1.324532      1.074557  0.588895   \n",
              " 2  -0.609995  0.364651 -0.918104        -0.021905      1.426540 -1.072641   \n",
              " 3  -0.560209  0.318359 -0.818766         0.094007      1.704787 -1.139740   \n",
              " 4  -0.288797 -0.648157  1.222554        -0.388158      0.304867  0.648565   \n",
              " \n",
              "    elevation     slope  locality_dist  river_dist  road_dist  soilw10_mean  \\\n",
              " 0   0.591430  0.390830       0.925226   -0.130329  -0.108080     -0.884840   \n",
              " 1   0.725595  0.644836       2.803757   -0.067335   0.070995     -1.341301   \n",
              " 2  -0.266290  1.563978       2.143343   -1.025714   0.312379      0.451065   \n",
              " 3  -0.262791  0.028229       1.427412    0.043715   0.463729      0.388242   \n",
              " 4   1.093033  1.090195       1.716589   -0.405877   0.482076     -0.956173   \n",
              " \n",
              "    tmpgr10_mean  vegetation_type  \n",
              " 0      1.195401               21  \n",
              " 1      0.972866                1  \n",
              " 2     -0.859766               11  \n",
              " 3     -0.762269               15  \n",
              " 4      1.221843                1  ,\n",
              " 0    1\n",
              " 1    1\n",
              " 2    1\n",
              " 3    1\n",
              " 4    1\n",
              " Name: is_fire, dtype: int64,\n",
              " <Axes: >)"
            ]
          },
          "metadata": {},
          "execution_count": 151
        },
        {
          "output_type": "display_data",
          "data": {
            "text/plain": [
              "<Figure size 640x480 with 1 Axes>"
            ],
            "image/png": "[encoded data removed]"
          },
          "metadata": {}
        }
      ]
    },
    {
      "cell_type": "code",
      "source": [
        "# lets test if vegetation type normalization works\n",
        "\n",
        "# # plt.hist(features.vegetation_type)\n",
        "# sc = MinMaxScaler()\n",
        "# vt = features.vegetation_type.to_numpy().reshape(-1, 1)\n",
        "# tr = sc.fit_transform(vt).reshape(1, -1)[0]\n",
        "# transform_ = tr\n",
        "\n",
        "# transform_ = scipy.special.boxcox1p(tr, 3)\n",
        "# print(transform_)\n",
        "# plt.hist(transform_)\n",
        "\n",
        "# normalize vegetation_type\n",
        "vt = features.vegetation_type\n",
        "transform_ = (vt - vt.mean()) / vt.std()\n",
        "# transform_ = vt\n",
        "\n",
        "features_ex = features.copy()\n",
        "features_ex.vegetation_type = transform_\n",
        "features_ex.columns, #features_ex.vegetation_type"
      ],
      "metadata": {
        "id": "jJXbmN0dHynT",
        "colab": {
          "base_uri": "https://localhost:8080/"
        },
        "outputId": "74b7af31-a348-451a-c37a-16e83dd894ca"
      },
      "execution_count": 152,
      "outputs": [
        {
          "output_type": "execute_result",
          "data": {
            "text/plain": [
              "(Index(['apcp_mean', 'rh_mean', 't_mean', 'wind_speed_mean', 'wind_dir_std',\n",
              "        'aspect', 'elevation', 'slope', 'locality_dist', 'river_dist',\n",
              "        'road_dist', 'soilw10_mean', 'tmpgr10_mean', 'vegetation_type'],\n",
              "       dtype='object'),)"
            ]
          },
          "metadata": {},
          "execution_count": 152
        }
      ]
    },
    {
      "cell_type": "code",
      "source": [
        "# randomly permute train dataset if needed\n",
        "# rand_idx = np.random.permutation(len(features_ex))\n",
        "# print(rand_idx)\n",
        "# # Carefull !!! iloc, that doesn't mean that the index will correspond, check if it's the RangeIndex or not\n",
        "# features_ex = features_ex.iloc[rand_idx]\n",
        "# target = target.iloc[rand_idx]"
      ],
      "metadata": {
        "id": "NbVMucd-T44p"
      },
      "execution_count": 153,
      "outputs": []
    },
    {
      "cell_type": "code",
      "source": [
        "features_ex, target"
      ],
      "metadata": {
        "colab": {
          "base_uri": "https://localhost:8080/"
        },
        "id": "Vj_pMatQadSh",
        "outputId": "b4d677a3-eb5a-4c69-f43a-63fbea765314"
      },
      "execution_count": 154,
      "outputs": [
        {
          "output_type": "execute_result",
          "data": {
            "text/plain": [
              "(       apcp_mean   rh_mean    t_mean  wind_speed_mean  wind_dir_std    aspect  \\\n",
              " 0       0.933361 -0.478887  1.140627        -0.220611      0.937307  0.376493   \n",
              " 1      -0.417075 -0.731301  0.907181        -1.324532      1.074557  0.588895   \n",
              " 2      -0.609995  0.364651 -0.918104        -0.021905      1.426540 -1.072641   \n",
              " 3      -0.560209  0.318359 -0.818766         0.094007      1.704787 -1.139740   \n",
              " 4      -0.288797 -0.648157  1.222554        -0.388158      0.304867  0.648565   \n",
              " ...          ...       ...       ...              ...           ...       ...   \n",
              " 15470   0.659540  0.615350 -0.630528        -1.004395     -1.531618  0.582474   \n",
              " 15471  -0.031236 -1.201648  0.835843        -0.060542      0.457631  0.810278   \n",
              " 15472   0.199022  0.549818 -0.487639         1.335919     -0.534805  1.172937   \n",
              " 15473   0.566192  1.357352 -1.671054         1.253125     -1.067436  0.265000   \n",
              " 15474   0.827566 -0.968665  0.383727        -0.391719      0.981907  0.455829   \n",
              " \n",
              "        elevation     slope  locality_dist  river_dist  road_dist  \\\n",
              " 0       0.591430  0.390830       0.925226   -0.130329  -0.108080   \n",
              " 1       0.725595  0.644836       2.803757   -0.067335   0.070995   \n",
              " 2      -0.266290  1.563978       2.143343   -1.025714   0.312379   \n",
              " 3      -0.262791  0.028229       1.427412    0.043715   0.463729   \n",
              " 4       1.093033  1.090195       1.716589   -0.405877   0.482076   \n",
              " ...          ...       ...            ...         ...        ...   \n",
              " 15470   3.204492  3.812582       2.284740    0.553876  -0.735888   \n",
              " 15471  -0.389406 -0.325377      -1.076058   -1.089387  -0.930474   \n",
              " 15472   0.167001 -0.813340      -0.816189    0.342279  -0.820233   \n",
              " 15473   0.474949  0.266187      -0.638611   -0.385222  -0.667256   \n",
              " 15474  -0.728849 -0.545242      -1.038431   -0.925759  -0.977889   \n",
              " \n",
              "        soilw10_mean  tmpgr10_mean  vegetation_type  \n",
              " 0         -0.884840      1.195401         1.469817  \n",
              " 1         -1.341301      0.972866        -2.365028  \n",
              " 2          0.451065     -0.859766        -0.447605  \n",
              " 3          0.388242     -0.762269         0.319364  \n",
              " 4         -0.956173      1.221843        -2.365028  \n",
              " ...             ...           ...              ...  \n",
              " 15470     -0.369738     -0.560638         1.469817  \n",
              " 15471     -0.780153      0.798472        -2.365028  \n",
              " 15472      0.300305     -0.558556        -0.255863  \n",
              " 15473      2.130354     -1.606914        -2.365028  \n",
              " 15474     -1.002098      0.089230        -0.255863  \n",
              " \n",
              " [15475 rows x 14 columns],\n",
              " 0        1\n",
              " 1        1\n",
              " 2        1\n",
              " 3        1\n",
              " 4        1\n",
              "         ..\n",
              " 15470    0\n",
              " 15471    0\n",
              " 15472    0\n",
              " 15473    0\n",
              " 15474    0\n",
              " Name: is_fire, Length: 15475, dtype: int64)"
            ]
          },
          "metadata": {},
          "execution_count": 154
        }
      ]
    },
    {
      "cell_type": "code",
      "source": [
        "# X_train_ds, X_val_ds, y_train_ds, y_val_ds = train_test_split(features_ex, target, test_size=0.1, random_state=4)\n",
        "X_train_ds = features_ex.copy()\n",
        "y_train_ds = target.copy()\n",
        "X_train_ds.head(5), y_train_ds.head(5), X_train_ds.shape, y_train_ds.shape, y_train_ds.hist()"
      ],
      "metadata": {
        "colab": {
          "base_uri": "https://localhost:8080/",
          "height": 934
        },
        "outputId": "de185cad-e0e1-4b61-ac60-1f016c449fc3",
        "id": "0m03VDYS0Hh6"
      },
      "execution_count": 155,
      "outputs": [
        {
          "output_type": "execute_result",
          "data": {
            "text/plain": [
              "(   apcp_mean   rh_mean    t_mean  wind_speed_mean  wind_dir_std    aspect  \\\n",
              " 0   0.933361 -0.478887  1.140627        -0.220611      0.937307  0.376493   \n",
              " 1  -0.417075 -0.731301  0.907181        -1.324532      1.074557  0.588895   \n",
              " 2  -0.609995  0.364651 -0.918104        -0.021905      1.426540 -1.072641   \n",
              " 3  -0.560209  0.318359 -0.818766         0.094007      1.704787 -1.139740   \n",
              " 4  -0.288797 -0.648157  1.222554        -0.388158      0.304867  0.648565   \n",
              " \n",
              "    elevation     slope  locality_dist  river_dist  road_dist  soilw10_mean  \\\n",
              " 0   0.591430  0.390830       0.925226   -0.130329  -0.108080     -0.884840   \n",
              " 1   0.725595  0.644836       2.803757   -0.067335   0.070995     -1.341301   \n",
              " 2  -0.266290  1.563978       2.143343   -1.025714   0.312379      0.451065   \n",
              " 3  -0.262791  0.028229       1.427412    0.043715   0.463729      0.388242   \n",
              " 4   1.093033  1.090195       1.716589   -0.405877   0.482076     -0.956173   \n",
              " \n",
              "    tmpgr10_mean  vegetation_type  \n",
              " 0      1.195401         1.469817  \n",
              " 1      0.972866        -2.365028  \n",
              " 2     -0.859766        -0.447605  \n",
              " 3     -0.762269         0.319364  \n",
              " 4      1.221843        -2.365028  ,\n",
              " 0    1\n",
              " 1    1\n",
              " 2    1\n",
              " 3    1\n",
              " 4    1\n",
              " Name: is_fire, dtype: int64,\n",
              " (15475, 14),\n",
              " (15475,),\n",
              " <Axes: >)"
            ]
          },
          "metadata": {},
          "execution_count": 155
        },
        {
          "output_type": "display_data",
          "data": {
            "text/plain": [
              "<Figure size 640x480 with 1 Axes>"
            ],
            "image/png": "[encoded data removed]"
          },
          "metadata": {}
        }
      ]
    },
    {
      "cell_type": "markdown",
      "source": [
        "Prepare the test dataset so that it corresponds to the train ds"
      ],
      "metadata": {
        "id": "qnewxDinO_Ut"
      }
    },
    {
      "cell_type": "code",
      "source": [
        "# prepare the test dataset\n",
        "\n",
        "target_col = target.name\n",
        "train_ds_cols = X_train_ds.columns.to_list() + [target_col]\n",
        "test_ds_ = test_ds.loc[:, test_ds.columns.isin(train_ds_cols)]\n",
        "# print(test_ds_.columns) #, test_ds_.head(1))\n",
        "# test_ds_.is_fire.hist()\n",
        "\n",
        "X_test_ds = test_ds_.loc[:, ~test_ds_.columns.isin([target_col])]\n",
        "# # arrange X_test_ds so that its columns order corresponds to the X_train_ds (carefull! pd.DataFrame)\n",
        "X_test_ds = X_test_ds.reindex(X_train_ds.columns, axis=\"columns\")\n",
        "# # assert that no NaN columns appeared after the reindex\n",
        "assert X_test_ds.isnull().sum().sum() == 0\n",
        "y_test_ds = test_ds_.loc[:, target_col]\n",
        "print(\"Is the X train and X test columns order equal?\", (X_train_ds.columns == X_test_ds.columns).all(), )\n",
        "print(\"The target name:\", y_test_ds.name)\n",
        "# print(X_train_ds.head(2), X_test_ds.head(2), sep=\"\\n\")\n",
        "\n",
        "# normalize X_test using z-score (like X_train)\n",
        "# print(\"*\" * 100, \"Normalizing the test dataset\", sep=\"\\n\")\n",
        "X_test_ds = (X_test_ds - X_test_ds.mean()) / X_test_ds.std()\n",
        "print(X_test_ds.head(2), y_test_ds, sep=\"\\n\")\n",
        "y_test_ds.hist()"
      ],
      "metadata": {
        "colab": {
          "base_uri": "https://localhost:8080/",
          "height": 882
        },
        "outputId": "be842458-9fe5-4fb5-8d80-f5d1f6591156",
        "id": "QLCNcuXg0Hh_"
      },
      "execution_count": 156,
      "outputs": [
        {
          "output_type": "stream",
          "name": "stdout",
          "text": [
            "Is the X train and X test columns order equal? True\n",
            "The target name: is_fire\n",
            "   apcp_mean   rh_mean    t_mean  wind_speed_mean  wind_dir_std    aspect  \\\n",
            "0  -1.156820 -1.322714  0.720074        -0.879516      1.799650  1.924821   \n",
            "1  -1.055476 -1.510908  1.561793        -0.535203      1.375015 -1.175196   \n",
            "\n",
            "   elevation     slope  locality_dist  river_dist  road_dist  soilw10_mean  \\\n",
            "0  -0.872223 -0.797969       1.240938    0.859338   0.907259     -1.386089   \n",
            "1  -0.836417 -0.798585       1.257532    0.928062   0.928147     -1.424116   \n",
            "\n",
            "   tmpgr10_mean  vegetation_type  \n",
            "0      0.768893         0.814251  \n",
            "1      1.510521         0.814251  \n",
            "0       1\n",
            "1       1\n",
            "2       1\n",
            "3       1\n",
            "4       1\n",
            "       ..\n",
            "1543    0\n",
            "1544    0\n",
            "1545    0\n",
            "1546    0\n",
            "1547    0\n",
            "Name: is_fire, Length: 1548, dtype: int64\n"
          ]
        },
        {
          "output_type": "execute_result",
          "data": {
            "text/plain": [
              "<Axes: >"
            ]
          },
          "metadata": {},
          "execution_count": 156
        },
        {
          "output_type": "display_data",
          "data": {
            "text/plain": [
              "<Figure size 640x480 with 1 Axes>"
            ],
            "image/png": "[encoded data removed]"
          },
          "metadata": {}
        }
      ]
    },
    {
      "cell_type": "code",
      "source": [
        "# permute the test dataset\n",
        "rand_idx_test = np.random.permutation(len(X_test_ds))\n",
        "X_test_ds = X_test_ds.iloc[rand_idx_test]\n",
        "y_test_ds = y_test_ds.iloc[rand_idx_test]"
      ],
      "metadata": {
        "id": "W5_54FW6YOXT"
      },
      "execution_count": 157,
      "outputs": []
    },
    {
      "cell_type": "code",
      "source": [
        "X_test_ds.head(5), y_test_ds.head(5)"
      ],
      "metadata": {
        "colab": {
          "base_uri": "https://localhost:8080/"
        },
        "id": "h883rYBia3WZ",
        "outputId": "4417f056-eb0b-4b78-bd6e-17482d6a5466"
      },
      "execution_count": 158,
      "outputs": [
        {
          "output_type": "execute_result",
          "data": {
            "text/plain": [
              "(      apcp_mean   rh_mean    t_mean  wind_speed_mean  wind_dir_std    aspect  \\\n",
              " 1186  -0.118050  1.271409 -0.360921         0.945341     -2.083743 -0.299102   \n",
              " 445   -0.479086 -0.440786  1.246323        -0.520447      0.070105 -0.784477   \n",
              " 614    0.572352  1.045085 -0.649693         2.007791     -2.207247 -0.989840   \n",
              " 209    0.762371  0.164211  1.255556        -1.179560      1.560089 -0.541789   \n",
              " 970   -0.548759  1.168263 -1.132380         0.537084     -0.649165  0.662863   \n",
              " \n",
              "       elevation     slope  locality_dist  river_dist  road_dist  soilw10_mean  \\\n",
              " 1186  -0.813626 -0.923966       0.553482    1.132529   1.621271      0.887942   \n",
              " 445   -0.284127 -0.913989       0.880854   -0.453337  -0.318718     -0.450618   \n",
              " 614   -0.927672 -0.807860      -0.382622    1.915525  -0.811849      0.541887   \n",
              " 209   -0.287247 -0.997083      -1.174678    1.981411  -1.047453      0.629356   \n",
              " 970   -1.006866 -0.328324       0.587229    1.680018  -0.530571      1.983127   \n",
              " \n",
              "       tmpgr10_mean  vegetation_type  \n",
              " 1186     -0.302069         0.814251  \n",
              " 445       1.278488        -2.695057  \n",
              " 614      -0.658340        -0.630758  \n",
              " 209       1.313731        -2.695057  \n",
              " 970      -1.181344        -0.630758  ,\n",
              " 1186    0\n",
              " 445     1\n",
              " 614     1\n",
              " 209     1\n",
              " 970     0\n",
              " Name: is_fire, dtype: int64)"
            ]
          },
          "metadata": {},
          "execution_count": 158
        }
      ]
    },
    {
      "cell_type": "markdown",
      "source": [
        "Convert the datasets to the numpy arrays"
      ],
      "metadata": {
        "id": "ZA5WCrIpWQD_"
      }
    },
    {
      "cell_type": "code",
      "source": [
        "# if validation dataset is unavailable\n",
        "# convert x and y train, validation and test datasets to numpy arrays\n",
        "l = [X_train_ds, y_train_ds, X_test_ds, y_test_ds]\n",
        "# !!! Attention: preserve the order, it's important\n",
        "X_train, y_train, X_test, y_test = map(lambda x: x.to_numpy(), l)\n",
        "print(\"The datasets shape:\", X_train.shape, y_train.shape, X_test.shape, y_test.shape)\n",
        "assert X_train.shape[1] == X_test.shape[1]\n",
        "# transpose y so that it works with the keras methods\n",
        "y_train = y_train.reshape(-1, 1)\n",
        "y_test = y_test.reshape(-1, 1)\n",
        "print(\"The target train and test arrays after the reshape:\", y_train.shape, y_test.shape)"
      ],
      "metadata": {
        "colab": {
          "base_uri": "https://localhost:8080/"
        },
        "id": "0lcQwt18VKzJ",
        "outputId": "069caba9-2bc1-4f98-fe84-a5d35aed395f"
      },
      "execution_count": 159,
      "outputs": [
        {
          "output_type": "stream",
          "name": "stdout",
          "text": [
            "The datasets shape: (15475, 14) (15475,) (1548, 14) (1548,)\n",
            "The target train and test arrays after the reshape: (15475, 1) (1548, 1)\n"
          ]
        }
      ]
    },
    {
      "cell_type": "code",
      "source": [
        "# comment if you don't need the validation dataset\n",
        "\n",
        "# # convert x and y train, validation and test datasets to numpy arrays\n",
        "# l = [X_train_ds, y_train_ds, X_val_ds, y_val_ds, X_test_ds, y_test_ds]\n",
        "# # !!! Attention: preserve the order, it's important\n",
        "# X_train, y_train, X_val, y_val, X_test, y_test = map(lambda x: x.to_numpy(), l)\n",
        "# print(X_train.shape, y_train.shape, X_val.shape, y_val.shape, X_test.shape, y_test.shape)\n",
        "# assert X_train.shape[1] == X_val.shape[1]\n",
        "# assert X_train.shape[1] == X_test.shape[1]\n",
        "# # transpose y so that it works with the keras methods\n",
        "# y_train = y_train.reshape(-1, 1)\n",
        "# y_val = y_val.reshape(-1, 1)\n",
        "# y_test = y_test.reshape(-1, 1)\n",
        "# print(y_train.shape, y_val.shape, y_test.shape)"
      ],
      "metadata": {
        "id": "BotMILre0HiA"
      },
      "execution_count": 160,
      "outputs": []
    },
    {
      "cell_type": "markdown",
      "source": [
        "##### Build and train the model"
      ],
      "metadata": {
        "id": "lbNukg-CXY6U"
      }
    },
    {
      "cell_type": "code",
      "source": [
        "class ANNModel(keras_tuner.HyperModel):\n",
        "  \"\"\"\n",
        "  The hypermodel class that builds the tf.keras.Sequential model and tunes its hyperparameters\n",
        "  Params:\n",
        "  input_shape: tuple - the shape of the train dataset in the following form: (n, ), where n is the\n",
        "  number of train features\n",
        "  \"\"\"\n",
        "\n",
        "  def __init__(self, input_shape: tuple) -> None:\n",
        "    self.input_shape = input_shape\n",
        "\n",
        "\n",
        "  def build_model(self, n_layers: int, n_units: int, learning_rate: float, ) -> tf.keras.Sequential:\n",
        "    \"\"\"\n",
        "    Description: build the model with the defined parameters\n",
        "    Params: the model parameters we want to tune\n",
        "    Returns: tf.keras.Sequential model\n",
        "    \"\"\"\n",
        "\n",
        "    print(f\"I'm in build_model and I have the following params: {n_layers, n_units, learning_rate}\")\n",
        "\n",
        "    model = Sequential()\n",
        "    model.add(Input(self.input_shape))\n",
        "\n",
        "    for i in range(n_layers):\n",
        "      model.add(Dense(units=n_units, activation=\"relu\", bias_regularizer=rg.L2(0.01))) #, kernel_regularizer=rg.L2(0.01)))\n",
        "\n",
        "    # model.add(Dense(64, activation=\"relu\", bias_regularizer=rg.L2(0.01))) #kernel_regularizer=rg.L1L2(l1=0.01, l2=0.01)))\n",
        "    # model.add(Dense(8, activation=\"relu\", bias_regularizer=rg.L2(0.01))) #kernel_regularizer=rg.L1L2(l1=0.01, l2=0.01)))\n",
        "\n",
        "    model.add(Dense(1, activation=\"sigmoid\"))\n",
        "    model.compile(\n",
        "        optimizer=tf.optimizers.Adam(learning_rate=learning_rate),\n",
        "        loss=\"binary_crossentropy\",\n",
        "        metrics=[\"accuracy\", \"f1_score\", tf.metrics.AUC()] #, \"precision\", \"recall\"])\n",
        "    )\n",
        "\n",
        "    return model\n",
        "\n",
        "\n",
        "  def build(self, hp):\n",
        "    \"\"\"\n",
        "    Description: build the model\n",
        "    Params:\n",
        "    hp - the hyperparameters class: keras_tuner.HyperParameters()\n",
        "    Returns: the built model\n",
        "    \"\"\"\n",
        "    # n_layers = hp.Int(\"n_layers\", min_value=3, max_value=12, step=1)\n",
        "    # l_rate = hp.Float(\"l_rate\", min_value=1e-5, max_value=1e-2, step=10, sampling=\"log\")\n",
        "    # n_units = hp.Int(\"n_units\", min_value=32, max_value=1024, step=2, sampling=\"log\")\n",
        "\n",
        "    n_layers = hp.Int(\"n_layers\", min_value=3, max_value=8, step=1)\n",
        "    l_rate = hp.Float(\"l_rate\", min_value=1e-5, max_value=1e-2, step=10, sampling=\"log\")\n",
        "    n_units = hp.Int(\"n_units\", min_value=32, max_value=256, step=2, sampling=\"log\")\n",
        "\n",
        "    # n_layers = 11\n",
        "    # l_rate = 7.04032e-6\n",
        "    # n_units = 64\n",
        "    model = self.build_model(n_layers, n_units, l_rate)\n",
        "    return model\n",
        "\n",
        "\n",
        "  def fit(self, hp, model, x, y, batch_size = None, validation_split = None, **kwargs):\n",
        "    \"\"\"\n",
        "    Description: fit the model\n",
        "    Params:\n",
        "    hp - the hyperparameters class: keras_tuner.HyperParameters()\n",
        "    model - the model to fit (get in build)\n",
        "    x, y - train features and train target respectively\n",
        "    batch_size - the batch size\n",
        "    validation_split - the validation split\n",
        "    **kwargs - all the parameters that tf.keras.Model.fit method has\n",
        "    \"\"\"\n",
        "    # b_s = [32, 64, 128, 256, 512]\n",
        "    b_s = [32, 64, 128]\n",
        "    if batch_size is None:\n",
        "      batch_size = hp.Choice(\"b_size\", b_s)\n",
        "    print(\"I'm in fit and the batch size is\", batch_size)\n",
        "\n",
        "    # v_s = [0.2, 0.15, 0.1, 0.25, 0.33]\n",
        "    v_s = [0.2, 0.33]\n",
        "    if validation_split is None:\n",
        "      validation_split = hp.Choice(\"val_split\", v_s)\n",
        "    print(\"I'm in fit and the validation split is\", validation_split)\n",
        "\n",
        "    return model.fit(\n",
        "        x, y,\n",
        "        batch_size = batch_size,\n",
        "        validation_split = validation_split,\n",
        "        **kwargs,\n",
        "    )\n",
        "\n",
        "# usage\n",
        "# input_shape = (X_train.shape[1], )\n",
        "# hp = keras_tuner.HyperParameters()\n",
        "# model = ANNModel(input_shape)\n",
        "# m = model.build(hp)\n",
        "# model.fit(hp, m, x=X_train, y=y_train)\n",
        "# m.summary()"
      ],
      "metadata": {
        "id": "zci5R0kuTBJh"
      },
      "execution_count": 161,
      "outputs": []
    },
    {
      "cell_type": "code",
      "source": [
        "# create a path for the tuner\n",
        "hp_tuner_path = \"tuner_dir\"\n",
        "if not os.path.exists(hp_tuner_path):\n",
        "  print(\"Creating the directory for the tuner. Path:\", hp_tuner_path)\n",
        "  os.mkdir(hp_tuner_path)\n",
        "\n",
        "# a couple of variables to use in search and fit\n",
        "callback_ = tf.keras.callbacks.EarlyStopping(monitor=\"val_loss\", patience=3, mode=\"min\", start_from_epoch=3)\n",
        "# if the values are None, tuner will use random search, else the specified value\n",
        "batch_size_ = None\n",
        "val_split_ = None"
      ],
      "metadata": {
        "colab": {
          "base_uri": "https://localhost:8080/"
        },
        "id": "j8cF2AAApN2z",
        "outputId": "6d51dee1-87b9-415e-8bc1-0a5413e3214a"
      },
      "execution_count": 162,
      "outputs": [
        {
          "output_type": "stream",
          "name": "stdout",
          "text": [
            "Creating the directory for the tuner. Path: tuner_dir\n"
          ]
        }
      ]
    },
    {
      "cell_type": "code",
      "source": [
        "input_shape = (X_train.shape[1], )\n",
        "rs_tuner = keras_tuner.RandomSearch(\n",
        "    ANNModel(input_shape),\n",
        "    objective=\"val_loss\",\n",
        "    max_trials=7,\n",
        "    executions_per_trial = 1,\n",
        "    overwrite = True,\n",
        "    directory = hp_tuner_path,\n",
        "    project_name = \"fires\"\n",
        ")\n",
        "rs_tuner.search(X_train, y_train, epochs=150, batch_size=batch_size_, validation_split=val_split_, callbacks=[callback_])"
      ],
      "metadata": {
        "colab": {
          "base_uri": "https://localhost:8080/"
        },
        "id": "T-T7SEb8TBHG",
        "outputId": "2457397d-5544-488b-a86e-c2516432409e"
      },
      "execution_count": 163,
      "outputs": [
        {
          "output_type": "stream",
          "name": "stdout",
          "text": [
            "Trial 7 Complete [00h 00m 17s]\n",
            "val_loss: 0.46875670552253723\n",
            "\n",
            "Best val_loss So Far: 0.45458003878593445\n",
            "Total elapsed time: 00h 06m 09s\n"
          ]
        }
      ]
    },
    {
      "cell_type": "code",
      "source": [
        "rs_tuner.results_summary(), rs_tuner.get_best_hyperparameters()[0], rs_tuner.get_best_models()[0].summary()"
      ],
      "metadata": {
        "colab": {
          "base_uri": "https://localhost:8080/",
          "height": 1000
        },
        "id": "5LK4OMvOTBCM",
        "outputId": "141f4f62-739a-4457-989c-dac3b6d087e4"
      },
      "execution_count": 164,
      "outputs": [
        {
          "output_type": "stream",
          "name": "stdout",
          "text": [
            "Results summary\n",
            "Results in tuner_dir/fires\n",
            "Showing 10 best trials\n",
            "Objective(name=\"val_loss\", direction=\"min\")\n",
            "\n",
            "Trial 5 summary\n",
            "Hyperparameters:\n",
            "n_layers: 3\n",
            "l_rate: 0.01\n",
            "n_units: 32\n",
            "b_size: 32\n",
            "val_split: 0.33\n",
            "Score: 0.45458003878593445\n",
            "\n",
            "Trial 2 summary\n",
            "Hyperparameters:\n",
            "n_layers: 4\n",
            "l_rate: 1e-05\n",
            "n_units: 128\n",
            "b_size: 128\n",
            "val_split: 0.33\n",
            "Score: 0.4561430811882019\n",
            "\n",
            "Trial 3 summary\n",
            "Hyperparameters:\n",
            "n_layers: 3\n",
            "l_rate: 0.01\n",
            "n_units: 32\n",
            "b_size: 32\n",
            "val_split: 0.2\n",
            "Score: 0.45794156193733215\n",
            "\n",
            "Trial 1 summary\n",
            "Hyperparameters:\n",
            "n_layers: 5\n",
            "l_rate: 0.001\n",
            "n_units: 32\n",
            "b_size: 32\n",
            "val_split: 0.33\n",
            "Score: 0.4628947973251343\n",
            "\n",
            "Trial 6 summary\n",
            "Hyperparameters:\n",
            "n_layers: 3\n",
            "l_rate: 0.0001\n",
            "n_units: 256\n",
            "b_size: 128\n",
            "val_split: 0.2\n",
            "Score: 0.46875670552253723\n",
            "\n",
            "Trial 4 summary\n",
            "Hyperparameters:\n",
            "n_layers: 3\n",
            "l_rate: 1e-05\n",
            "n_units: 128\n",
            "b_size: 128\n",
            "val_split: 0.33\n",
            "Score: 0.47036656737327576\n",
            "\n",
            "Trial 0 summary\n",
            "Hyperparameters:\n",
            "n_layers: 5\n",
            "l_rate: 0.0001\n",
            "n_units: 32\n",
            "b_size: 32\n",
            "val_split: 0.2\n",
            "Score: 0.4946896731853485\n",
            "I'm in build_model and I have the following params: (3, 32, 0.01)\n"
          ]
        },
        {
          "output_type": "stream",
          "name": "stderr",
          "text": [
            "/usr/local/lib/python3.11/dist-packages/keras/src/saving/saving_lib.py:757: UserWarning: Skipping variable loading for optimizer 'adam', because it has 2 variables whereas the saved optimizer has 18 variables. \n",
            "  saveable.load_own_variables(weights_store.get(inner_path))\n"
          ]
        },
        {
          "output_type": "display_data",
          "data": {
            "text/plain": [
              "\u001b[1mModel: \"sequential\"\u001b[0m\n"
            ],
            "text/html": [
              "<pre style=\"white-space:pre;overflow-x:auto;line-height:normal;font-family:Menlo,'DejaVu Sans Mono',consolas,'Courier New',monospace\"><span style=\"font-weight: bold\">Model: \"sequential\"</span>\n",
              "</pre>\n"
            ]
          },
          "metadata": {}
        },
        {
          "output_type": "display_data",
          "data": {
            "text/plain": [
              "┏━━━━━━━━━━━━━━━━━━━━━━━━━━━━━━━━━┳━━━━━━━━━━━━━━━━━━━━━━━━┳━━━━━━━━━━━━━━━┓\n",
              "┃\u001b[1m \u001b[0m\u001b[1mLayer (type)                   \u001b[0m\u001b[1m \u001b[0m┃\u001b[1m \u001b[0m\u001b[1mOutput Shape          \u001b[0m\u001b[1m \u001b[0m┃\u001b[1m \u001b[0m\u001b[1m      Param #\u001b[0m\u001b[1m \u001b[0m┃\n",
              "┡━━━━━━━━━━━━━━━━━━━━━━━━━━━━━━━━━╇━━━━━━━━━━━━━━━━━━━━━━━━╇━━━━━━━━━━━━━━━┩\n",
              "│ dense (\u001b[38;5;33mDense\u001b[0m)                   │ (\u001b[38;5;45mNone\u001b[0m, \u001b[38;5;34m32\u001b[0m)             │           \u001b[38;5;34m480\u001b[0m │\n",
              "├─────────────────────────────────┼────────────────────────┼───────────────┤\n",
              "│ dense_1 (\u001b[38;5;33mDense\u001b[0m)                 │ (\u001b[38;5;45mNone\u001b[0m, \u001b[38;5;34m32\u001b[0m)             │         \u001b[38;5;34m1,056\u001b[0m │\n",
              "├─────────────────────────────────┼────────────────────────┼───────────────┤\n",
              "│ dense_2 (\u001b[38;5;33mDense\u001b[0m)                 │ (\u001b[38;5;45mNone\u001b[0m, \u001b[38;5;34m32\u001b[0m)             │         \u001b[38;5;34m1,056\u001b[0m │\n",
              "├─────────────────────────────────┼────────────────────────┼───────────────┤\n",
              "│ dense_3 (\u001b[38;5;33mDense\u001b[0m)                 │ (\u001b[38;5;45mNone\u001b[0m, \u001b[38;5;34m1\u001b[0m)              │            \u001b[38;5;34m33\u001b[0m │\n",
              "└─────────────────────────────────┴────────────────────────┴───────────────┘\n"
            ],
            "text/html": [
              "<pre style=\"white-space:pre;overflow-x:auto;line-height:normal;font-family:Menlo,'DejaVu Sans Mono',consolas,'Courier New',monospace\">┏━━━━━━━━━━━━━━━━━━━━━━━━━━━━━━━━━┳━━━━━━━━━━━━━━━━━━━━━━━━┳━━━━━━━━━━━━━━━┓\n",
              "┃<span style=\"font-weight: bold\"> Layer (type)                    </span>┃<span style=\"font-weight: bold\"> Output Shape           </span>┃<span style=\"font-weight: bold\">       Param # </span>┃\n",
              "┡━━━━━━━━━━━━━━━━━━━━━━━━━━━━━━━━━╇━━━━━━━━━━━━━━━━━━━━━━━━╇━━━━━━━━━━━━━━━┩\n",
              "│ dense (<span style=\"color: #0087ff; text-decoration-color: #0087ff\">Dense</span>)                   │ (<span style=\"color: #00d7ff; text-decoration-color: #00d7ff\">None</span>, <span style=\"color: #00af00; text-decoration-color: #00af00\">32</span>)             │           <span style=\"color: #00af00; text-decoration-color: #00af00\">480</span> │\n",
              "├─────────────────────────────────┼────────────────────────┼───────────────┤\n",
              "│ dense_1 (<span style=\"color: #0087ff; text-decoration-color: #0087ff\">Dense</span>)                 │ (<span style=\"color: #00d7ff; text-decoration-color: #00d7ff\">None</span>, <span style=\"color: #00af00; text-decoration-color: #00af00\">32</span>)             │         <span style=\"color: #00af00; text-decoration-color: #00af00\">1,056</span> │\n",
              "├─────────────────────────────────┼────────────────────────┼───────────────┤\n",
              "│ dense_2 (<span style=\"color: #0087ff; text-decoration-color: #0087ff\">Dense</span>)                 │ (<span style=\"color: #00d7ff; text-decoration-color: #00d7ff\">None</span>, <span style=\"color: #00af00; text-decoration-color: #00af00\">32</span>)             │         <span style=\"color: #00af00; text-decoration-color: #00af00\">1,056</span> │\n",
              "├─────────────────────────────────┼────────────────────────┼───────────────┤\n",
              "│ dense_3 (<span style=\"color: #0087ff; text-decoration-color: #0087ff\">Dense</span>)                 │ (<span style=\"color: #00d7ff; text-decoration-color: #00d7ff\">None</span>, <span style=\"color: #00af00; text-decoration-color: #00af00\">1</span>)              │            <span style=\"color: #00af00; text-decoration-color: #00af00\">33</span> │\n",
              "└─────────────────────────────────┴────────────────────────┴───────────────┘\n",
              "</pre>\n"
            ]
          },
          "metadata": {}
        },
        {
          "output_type": "display_data",
          "data": {
            "text/plain": [
              "\u001b[1m Total params: \u001b[0m\u001b[38;5;34m2,625\u001b[0m (10.25 KB)\n"
            ],
            "text/html": [
              "<pre style=\"white-space:pre;overflow-x:auto;line-height:normal;font-family:Menlo,'DejaVu Sans Mono',consolas,'Courier New',monospace\"><span style=\"font-weight: bold\"> Total params: </span><span style=\"color: #00af00; text-decoration-color: #00af00\">2,625</span> (10.25 KB)\n",
              "</pre>\n"
            ]
          },
          "metadata": {}
        },
        {
          "output_type": "display_data",
          "data": {
            "text/plain": [
              "\u001b[1m Trainable params: \u001b[0m\u001b[38;5;34m2,625\u001b[0m (10.25 KB)\n"
            ],
            "text/html": [
              "<pre style=\"white-space:pre;overflow-x:auto;line-height:normal;font-family:Menlo,'DejaVu Sans Mono',consolas,'Courier New',monospace\"><span style=\"font-weight: bold\"> Trainable params: </span><span style=\"color: #00af00; text-decoration-color: #00af00\">2,625</span> (10.25 KB)\n",
              "</pre>\n"
            ]
          },
          "metadata": {}
        },
        {
          "output_type": "display_data",
          "data": {
            "text/plain": [
              "\u001b[1m Non-trainable params: \u001b[0m\u001b[38;5;34m0\u001b[0m (0.00 B)\n"
            ],
            "text/html": [
              "<pre style=\"white-space:pre;overflow-x:auto;line-height:normal;font-family:Menlo,'DejaVu Sans Mono',consolas,'Courier New',monospace\"><span style=\"font-weight: bold\"> Non-trainable params: </span><span style=\"color: #00af00; text-decoration-color: #00af00\">0</span> (0.00 B)\n",
              "</pre>\n"
            ]
          },
          "metadata": {}
        },
        {
          "output_type": "execute_result",
          "data": {
            "text/plain": [
              "(None,\n",
              " <keras_tuner.src.engine.hyperparameters.hyperparameters.HyperParameters at 0x7e5a3091da90>,\n",
              " None)"
            ]
          },
          "metadata": {},
          "execution_count": 164
        }
      ]
    },
    {
      "cell_type": "code",
      "source": [
        "hp_model = ANNModel(input_shape)\n",
        "best_hp_params = rs_tuner.get_best_hyperparameters()[0]\n",
        "print(\"Refitting the model with the best hyperparams\", best_hp_params.values)\n",
        "tuned_model = hp_model.build(best_hp_params)\n",
        "hp_model.fit(\n",
        "    best_hp_params, tuned_model,\n",
        "    X_train, y_train, epochs = 150,\n",
        "    batch_size = batch_size_,\n",
        "    validation_split = val_split_,\n",
        "    callbacks = [callback_],\n",
        ")"
      ],
      "metadata": {
        "id": "tFspjtzq7v8Q",
        "colab": {
          "base_uri": "https://localhost:8080/"
        },
        "outputId": "dafb4b44-e6d2-4aea-a851-f7048978ea6e"
      },
      "execution_count": 165,
      "outputs": [
        {
          "output_type": "stream",
          "name": "stdout",
          "text": [
            "Refitting the model with the best hyperparams {'n_layers': 3, 'l_rate': 0.01, 'n_units': 32, 'b_size': 32, 'val_split': 0.33}\n",
            "I'm in build_model and I have the following params: (3, 32, 0.01)\n",
            "I'm in fit and the batch size is 32\n",
            "I'm in fit and the validation split is 0.33\n",
            "Epoch 1/150\n",
            "\u001b[1m324/324\u001b[0m \u001b[32m━━━━━━━━━━━━━━━━━━━━\u001b[0m\u001b[37m\u001b[0m \u001b[1m5s\u001b[0m 6ms/step - accuracy: 0.7755 - auc_1: 0.8582 - f1_score: 0.6944 - loss: 0.4608 - val_accuracy: 0.7754 - val_auc_1: 0.8506 - val_f1_score: 0.6020 - val_loss: 0.4769\n",
            "Epoch 2/150\n",
            "\u001b[1m324/324\u001b[0m \u001b[32m━━━━━━━━━━━━━━━━━━━━\u001b[0m\u001b[37m\u001b[0m \u001b[1m2s\u001b[0m 4ms/step - accuracy: 0.8307 - auc_1: 0.9063 - f1_score: 0.6940 - loss: 0.3810 - val_accuracy: 0.7703 - val_auc_1: 0.8443 - val_f1_score: 0.6020 - val_loss: 0.4917\n",
            "Epoch 3/150\n",
            "\u001b[1m324/324\u001b[0m \u001b[32m━━━━━━━━━━━━━━━━━━━━\u001b[0m\u001b[37m\u001b[0m \u001b[1m2s\u001b[0m 4ms/step - accuracy: 0.8339 - auc_1: 0.9062 - f1_score: 0.6890 - loss: 0.3851 - val_accuracy: 0.7787 - val_auc_1: 0.8547 - val_f1_score: 0.6020 - val_loss: 0.5003\n",
            "Epoch 4/150\n",
            "\u001b[1m324/324\u001b[0m \u001b[32m━━━━━━━━━━━━━━━━━━━━\u001b[0m\u001b[37m\u001b[0m \u001b[1m1s\u001b[0m 4ms/step - accuracy: 0.8298 - auc_1: 0.9125 - f1_score: 0.6951 - loss: 0.3729 - val_accuracy: 0.7762 - val_auc_1: 0.8597 - val_f1_score: 0.6020 - val_loss: 0.4679\n",
            "Epoch 5/150\n",
            "\u001b[1m324/324\u001b[0m \u001b[32m━━━━━━━━━━━━━━━━━━━━\u001b[0m\u001b[37m\u001b[0m \u001b[1m2s\u001b[0m 5ms/step - accuracy: 0.8387 - auc_1: 0.9156 - f1_score: 0.6898 - loss: 0.3659 - val_accuracy: 0.7770 - val_auc_1: 0.8605 - val_f1_score: 0.6020 - val_loss: 0.4772\n",
            "Epoch 6/150\n",
            "\u001b[1m324/324\u001b[0m \u001b[32m━━━━━━━━━━━━━━━━━━━━\u001b[0m\u001b[37m\u001b[0m \u001b[1m3s\u001b[0m 5ms/step - accuracy: 0.8515 - auc_1: 0.9254 - f1_score: 0.6896 - loss: 0.3455 - val_accuracy: 0.7733 - val_auc_1: 0.8541 - val_f1_score: 0.6020 - val_loss: 0.4685\n",
            "Epoch 7/150\n",
            "\u001b[1m324/324\u001b[0m \u001b[32m━━━━━━━━━━━━━━━━━━━━\u001b[0m\u001b[37m\u001b[0m \u001b[1m3s\u001b[0m 6ms/step - accuracy: 0.8484 - auc_1: 0.9221 - f1_score: 0.6975 - loss: 0.3522 - val_accuracy: 0.7858 - val_auc_1: 0.8654 - val_f1_score: 0.6020 - val_loss: 0.4573\n",
            "Epoch 8/150\n",
            "\u001b[1m324/324\u001b[0m \u001b[32m━━━━━━━━━━━━━━━━━━━━\u001b[0m\u001b[37m\u001b[0m \u001b[1m2s\u001b[0m 5ms/step - accuracy: 0.8479 - auc_1: 0.9260 - f1_score: 0.6919 - loss: 0.3446 - val_accuracy: 0.7799 - val_auc_1: 0.8621 - val_f1_score: 0.6020 - val_loss: 0.4807\n",
            "Epoch 9/150\n",
            "\u001b[1m324/324\u001b[0m \u001b[32m━━━━━━━━━━━━━━━━━━━━\u001b[0m\u001b[37m\u001b[0m \u001b[1m2s\u001b[0m 4ms/step - accuracy: 0.8574 - auc_1: 0.9296 - f1_score: 0.6916 - loss: 0.3347 - val_accuracy: 0.7901 - val_auc_1: 0.8671 - val_f1_score: 0.6020 - val_loss: 0.4563\n",
            "Epoch 10/150\n",
            "\u001b[1m324/324\u001b[0m \u001b[32m━━━━━━━━━━━━━━━━━━━━\u001b[0m\u001b[37m\u001b[0m \u001b[1m1s\u001b[0m 4ms/step - accuracy: 0.8475 - auc_1: 0.9261 - f1_score: 0.6813 - loss: 0.3447 - val_accuracy: 0.7868 - val_auc_1: 0.8626 - val_f1_score: 0.6020 - val_loss: 0.4891\n",
            "Epoch 11/150\n",
            "\u001b[1m324/324\u001b[0m \u001b[32m━━━━━━━━━━━━━━━━━━━━\u001b[0m\u001b[37m\u001b[0m \u001b[1m1s\u001b[0m 4ms/step - accuracy: 0.8595 - auc_1: 0.9334 - f1_score: 0.6892 - loss: 0.3266 - val_accuracy: 0.7744 - val_auc_1: 0.8482 - val_f1_score: 0.6020 - val_loss: 0.5468\n",
            "Epoch 12/150\n",
            "\u001b[1m324/324\u001b[0m \u001b[32m━━━━━━━━━━━━━━━━━━━━\u001b[0m\u001b[37m\u001b[0m \u001b[1m3s\u001b[0m 5ms/step - accuracy: 0.8552 - auc_1: 0.9338 - f1_score: 0.6898 - loss: 0.3254 - val_accuracy: 0.7842 - val_auc_1: 0.8666 - val_f1_score: 0.6020 - val_loss: 0.4675\n"
          ]
        },
        {
          "output_type": "execute_result",
          "data": {
            "text/plain": [
              "<keras.src.callbacks.history.History at 0x7e5a3029a690>"
            ]
          },
          "metadata": {},
          "execution_count": 165
        }
      ]
    },
    {
      "cell_type": "code",
      "source": [
        "tuned_model.summary()\n",
        "# tf.keras.utils.plot_model(\n",
        "#     model=tuned_model, to_file=\"arch.png\",\n",
        "#     show_layer_activations=True, show_layer_names=True, show_shapes=True,\n",
        "#     dpi=70\n",
        "# )"
      ],
      "metadata": {
        "colab": {
          "base_uri": "https://localhost:8080/",
          "height": 299
        },
        "id": "Bpe-BRHXuisA",
        "outputId": "80f0eebc-70e7-4eaa-f2bb-b650609346de"
      },
      "execution_count": 166,
      "outputs": [
        {
          "output_type": "display_data",
          "data": {
            "text/plain": [
              "\u001b[1mModel: \"sequential_1\"\u001b[0m\n"
            ],
            "text/html": [
              "<pre style=\"white-space:pre;overflow-x:auto;line-height:normal;font-family:Menlo,'DejaVu Sans Mono',consolas,'Courier New',monospace\"><span style=\"font-weight: bold\">Model: \"sequential_1\"</span>\n",
              "</pre>\n"
            ]
          },
          "metadata": {}
        },
        {
          "output_type": "display_data",
          "data": {
            "text/plain": [
              "┏━━━━━━━━━━━━━━━━━━━━━━━━━━━━━━━━━┳━━━━━━━━━━━━━━━━━━━━━━━━┳━━━━━━━━━━━━━━━┓\n",
              "┃\u001b[1m \u001b[0m\u001b[1mLayer (type)                   \u001b[0m\u001b[1m \u001b[0m┃\u001b[1m \u001b[0m\u001b[1mOutput Shape          \u001b[0m\u001b[1m \u001b[0m┃\u001b[1m \u001b[0m\u001b[1m      Param #\u001b[0m\u001b[1m \u001b[0m┃\n",
              "┡━━━━━━━━━━━━━━━━━━━━━━━━━━━━━━━━━╇━━━━━━━━━━━━━━━━━━━━━━━━╇━━━━━━━━━━━━━━━┩\n",
              "│ dense_4 (\u001b[38;5;33mDense\u001b[0m)                 │ (\u001b[38;5;45mNone\u001b[0m, \u001b[38;5;34m32\u001b[0m)             │           \u001b[38;5;34m480\u001b[0m │\n",
              "├─────────────────────────────────┼────────────────────────┼───────────────┤\n",
              "│ dense_5 (\u001b[38;5;33mDense\u001b[0m)                 │ (\u001b[38;5;45mNone\u001b[0m, \u001b[38;5;34m32\u001b[0m)             │         \u001b[38;5;34m1,056\u001b[0m │\n",
              "├─────────────────────────────────┼────────────────────────┼───────────────┤\n",
              "│ dense_6 (\u001b[38;5;33mDense\u001b[0m)                 │ (\u001b[38;5;45mNone\u001b[0m, \u001b[38;5;34m32\u001b[0m)             │         \u001b[38;5;34m1,056\u001b[0m │\n",
              "├─────────────────────────────────┼────────────────────────┼───────────────┤\n",
              "│ dense_7 (\u001b[38;5;33mDense\u001b[0m)                 │ (\u001b[38;5;45mNone\u001b[0m, \u001b[38;5;34m1\u001b[0m)              │            \u001b[38;5;34m33\u001b[0m │\n",
              "└─────────────────────────────────┴────────────────────────┴───────────────┘\n"
            ],
            "text/html": [
              "<pre style=\"white-space:pre;overflow-x:auto;line-height:normal;font-family:Menlo,'DejaVu Sans Mono',consolas,'Courier New',monospace\">┏━━━━━━━━━━━━━━━━━━━━━━━━━━━━━━━━━┳━━━━━━━━━━━━━━━━━━━━━━━━┳━━━━━━━━━━━━━━━┓\n",
              "┃<span style=\"font-weight: bold\"> Layer (type)                    </span>┃<span style=\"font-weight: bold\"> Output Shape           </span>┃<span style=\"font-weight: bold\">       Param # </span>┃\n",
              "┡━━━━━━━━━━━━━━━━━━━━━━━━━━━━━━━━━╇━━━━━━━━━━━━━━━━━━━━━━━━╇━━━━━━━━━━━━━━━┩\n",
              "│ dense_4 (<span style=\"color: #0087ff; text-decoration-color: #0087ff\">Dense</span>)                 │ (<span style=\"color: #00d7ff; text-decoration-color: #00d7ff\">None</span>, <span style=\"color: #00af00; text-decoration-color: #00af00\">32</span>)             │           <span style=\"color: #00af00; text-decoration-color: #00af00\">480</span> │\n",
              "├─────────────────────────────────┼────────────────────────┼───────────────┤\n",
              "│ dense_5 (<span style=\"color: #0087ff; text-decoration-color: #0087ff\">Dense</span>)                 │ (<span style=\"color: #00d7ff; text-decoration-color: #00d7ff\">None</span>, <span style=\"color: #00af00; text-decoration-color: #00af00\">32</span>)             │         <span style=\"color: #00af00; text-decoration-color: #00af00\">1,056</span> │\n",
              "├─────────────────────────────────┼────────────────────────┼───────────────┤\n",
              "│ dense_6 (<span style=\"color: #0087ff; text-decoration-color: #0087ff\">Dense</span>)                 │ (<span style=\"color: #00d7ff; text-decoration-color: #00d7ff\">None</span>, <span style=\"color: #00af00; text-decoration-color: #00af00\">32</span>)             │         <span style=\"color: #00af00; text-decoration-color: #00af00\">1,056</span> │\n",
              "├─────────────────────────────────┼────────────────────────┼───────────────┤\n",
              "│ dense_7 (<span style=\"color: #0087ff; text-decoration-color: #0087ff\">Dense</span>)                 │ (<span style=\"color: #00d7ff; text-decoration-color: #00d7ff\">None</span>, <span style=\"color: #00af00; text-decoration-color: #00af00\">1</span>)              │            <span style=\"color: #00af00; text-decoration-color: #00af00\">33</span> │\n",
              "└─────────────────────────────────┴────────────────────────┴───────────────┘\n",
              "</pre>\n"
            ]
          },
          "metadata": {}
        },
        {
          "output_type": "display_data",
          "data": {
            "text/plain": [
              "\u001b[1m Total params: \u001b[0m\u001b[38;5;34m7,877\u001b[0m (30.77 KB)\n"
            ],
            "text/html": [
              "<pre style=\"white-space:pre;overflow-x:auto;line-height:normal;font-family:Menlo,'DejaVu Sans Mono',consolas,'Courier New',monospace\"><span style=\"font-weight: bold\"> Total params: </span><span style=\"color: #00af00; text-decoration-color: #00af00\">7,877</span> (30.77 KB)\n",
              "</pre>\n"
            ]
          },
          "metadata": {}
        },
        {
          "output_type": "display_data",
          "data": {
            "text/plain": [
              "\u001b[1m Trainable params: \u001b[0m\u001b[38;5;34m2,625\u001b[0m (10.25 KB)\n"
            ],
            "text/html": [
              "<pre style=\"white-space:pre;overflow-x:auto;line-height:normal;font-family:Menlo,'DejaVu Sans Mono',consolas,'Courier New',monospace\"><span style=\"font-weight: bold\"> Trainable params: </span><span style=\"color: #00af00; text-decoration-color: #00af00\">2,625</span> (10.25 KB)\n",
              "</pre>\n"
            ]
          },
          "metadata": {}
        },
        {
          "output_type": "display_data",
          "data": {
            "text/plain": [
              "\u001b[1m Non-trainable params: \u001b[0m\u001b[38;5;34m0\u001b[0m (0.00 B)\n"
            ],
            "text/html": [
              "<pre style=\"white-space:pre;overflow-x:auto;line-height:normal;font-family:Menlo,'DejaVu Sans Mono',consolas,'Courier New',monospace\"><span style=\"font-weight: bold\"> Non-trainable params: </span><span style=\"color: #00af00; text-decoration-color: #00af00\">0</span> (0.00 B)\n",
              "</pre>\n"
            ]
          },
          "metadata": {}
        },
        {
          "output_type": "display_data",
          "data": {
            "text/plain": [
              "\u001b[1m Optimizer params: \u001b[0m\u001b[38;5;34m5,252\u001b[0m (20.52 KB)\n"
            ],
            "text/html": [
              "<pre style=\"white-space:pre;overflow-x:auto;line-height:normal;font-family:Menlo,'DejaVu Sans Mono',consolas,'Courier New',monospace\"><span style=\"font-weight: bold\"> Optimizer params: </span><span style=\"color: #00af00; text-decoration-color: #00af00\">5,252</span> (20.52 KB)\n",
              "</pre>\n"
            ]
          },
          "metadata": {}
        }
      ]
    },
    {
      "cell_type": "markdown",
      "source": [
        "Evaluate the results"
      ],
      "metadata": {
        "id": "a2ccP6EwX1jt"
      }
    },
    {
      "cell_type": "code",
      "source": [
        "# X_test = np.concatenate((X_test, X_train[-1000:]), axis=0)\n",
        "# y_test = np.concatenate((y_test, y_train[-1000:]), axis=0)"
      ],
      "metadata": {
        "id": "kGqfQLuX0ALi"
      },
      "execution_count": 167,
      "outputs": []
    },
    {
      "cell_type": "code",
      "source": [
        "print(tuned_model.evaluate(X_test, y_test))\n",
        "tuned_model.metrics_names"
      ],
      "metadata": {
        "id": "6rxzTjjl0HiC",
        "colab": {
          "base_uri": "https://localhost:8080/"
        },
        "outputId": "153d4a92-0115-4038-ae91-2a1138a0b8fe"
      },
      "execution_count": 168,
      "outputs": [
        {
          "output_type": "stream",
          "name": "stdout",
          "text": [
            "\u001b[1m49/49\u001b[0m \u001b[32m━━━━━━━━━━━━━━━━━━━━\u001b[0m\u001b[37m\u001b[0m \u001b[1m0s\u001b[0m 5ms/step - accuracy: 0.8137 - auc_1: 0.9016 - f1_score: 0.5961 - loss: 0.3965\n",
            "[0.4096403419971466, 0.8062015771865845, 0.6003616452217102, 0.8932937383651733]\n"
          ]
        },
        {
          "output_type": "execute_result",
          "data": {
            "text/plain": [
              "['loss', 'compile_metrics']"
            ]
          },
          "metadata": {},
          "execution_count": 168
        }
      ]
    },
    {
      "cell_type": "code",
      "source": [
        "y_pred = tuned_model.predict(X_test)\n",
        "print(y_pred.shape)\n",
        "print(\"AUC score:\", roc_auc_score(y_test, y_pred))\n",
        "fpr, tpr, thresh = roc_curve(y_test, y_pred)\n",
        "# print(\"Thresh:\", thresh)\n",
        "# print(\"FPR, TPR\", fpr, tpr)\n",
        "plt.plot([0, 1], [0, 1])\n",
        "plt.plot(fpr, tpr)"
      ],
      "metadata": {
        "colab": {
          "base_uri": "https://localhost:8080/",
          "height": 499
        },
        "id": "l3VGR-SvqFGx",
        "outputId": "28452c2b-84a6-47f3-d795-9a02a15d3da8",
        "collapsed": true
      },
      "execution_count": 169,
      "outputs": [
        {
          "output_type": "stream",
          "name": "stdout",
          "text": [
            "\u001b[1m49/49\u001b[0m \u001b[32m━━━━━━━━━━━━━━━━━━━━\u001b[0m\u001b[37m\u001b[0m \u001b[1m0s\u001b[0m 4ms/step\n",
            "(1548, 1)\n",
            "AUC score: 0.8934675352995692\n"
          ]
        },
        {
          "output_type": "execute_result",
          "data": {
            "text/plain": [
              "[<matplotlib.lines.Line2D at 0x7e5a2d09aa90>]"
            ]
          },
          "metadata": {},
          "execution_count": 169
        },
        {
          "output_type": "display_data",
          "data": {
            "text/plain": [
              "<Figure size 640x480 with 1 Axes>"
            ],
            "image/png": "[encoded data removed]"
          },
          "metadata": {}
        }
      ]
    },
    {
      "cell_type": "code",
      "source": [
        "y_pred = (y_pred > 0.5).astype(int)\n",
        "print(y_pred.shape)\n",
        "np.unique(y_pred)"
      ],
      "metadata": {
        "colab": {
          "base_uri": "https://localhost:8080/"
        },
        "outputId": "b471ea37-9adc-436b-97c5-6c4511bbcdfe",
        "id": "8GtCxGeo0HiC"
      },
      "execution_count": 170,
      "outputs": [
        {
          "output_type": "stream",
          "name": "stdout",
          "text": [
            "(1548, 1)\n"
          ]
        },
        {
          "output_type": "execute_result",
          "data": {
            "text/plain": [
              "array([0, 1])"
            ]
          },
          "metadata": {},
          "execution_count": 170
        }
      ]
    },
    {
      "cell_type": "code",
      "source": [
        "print(classification_report(y_true=y_test, y_pred=y_pred.astype(int)))\n",
        "cm = confusion_matrix(y_true=y_test, y_pred=y_pred.astype(int))\n",
        "sns.heatmap(cm, annot=True, fmt=\"g\")"
      ],
      "metadata": {
        "colab": {
          "base_uri": "https://localhost:8080/",
          "height": 604
        },
        "outputId": "fb45cbeb-7826-4b32-b1e1-0a60529520bd",
        "id": "-wNCing60HiC"
      },
      "execution_count": 171,
      "outputs": [
        {
          "output_type": "stream",
          "name": "stdout",
          "text": [
            "              precision    recall  f1-score   support\n",
            "\n",
            "           0       0.82      0.85      0.83       884\n",
            "           1       0.79      0.75      0.77       664\n",
            "\n",
            "    accuracy                           0.81      1548\n",
            "   macro avg       0.80      0.80      0.80      1548\n",
            "weighted avg       0.81      0.81      0.81      1548\n",
            "\n"
          ]
        },
        {
          "output_type": "execute_result",
          "data": {
            "text/plain": [
              "<Axes: >"
            ]
          },
          "metadata": {},
          "execution_count": 171
        },
        {
          "output_type": "display_data",
          "data": {
            "text/plain": [
              "<Figure size 640x480 with 2 Axes>"
            ],
            "image/png": "[encoded data removed]"
          },
          "metadata": {}
        }
      ]
    },
    {
      "cell_type": "code",
      "source": [
        "# !pip install shap\n",
        "# import shap\n",
        "# features importance\n",
        "# exp = shap.Explainer(tuned_model, X_train[1000:2000], feature_names=X_train_ds.columns)\n",
        "# shap_val = exp(X_test)\n",
        "# print(shap_val.shape)\n",
        "# shap.summary_plot(shap_values=shap_val, features=X_test, feature_names=X_train_ds.columns)"
      ],
      "metadata": {
        "id": "5e8Eb1sQsoLA"
      },
      "execution_count": 172,
      "outputs": []
    },
    {
      "cell_type": "code",
      "source": [
        "# remove the keras_tuner folder\n",
        "if os.path.exists(hp_tuner_path):\n",
        "  print(\"Removing the hp tuner directory. Path:\", hp_tuner_path)\n",
        "  try:\n",
        "    shutil.rmtree(hp_tuner_path)\n",
        "  except Exception as e:\n",
        "    print(e)"
      ],
      "metadata": {
        "id": "LcP0rDiR7v5q",
        "colab": {
          "base_uri": "https://localhost:8080/"
        },
        "outputId": "9708adbb-ac00-4926-f0dd-6b62f8e07cd5"
      },
      "execution_count": 173,
      "outputs": [
        {
          "output_type": "stream",
          "name": "stdout",
          "text": [
            "Removing the hp tuner directory. Path: tuner_dir\n"
          ]
        }
      ]
    },
    {
      "cell_type": "code",
      "source": [],
      "metadata": {
        "id": "-96T5O0vGPvh"
      },
      "execution_count": 173,
      "outputs": []
    },
    {
      "cell_type": "markdown",
      "source": [
        "Save and load model"
      ],
      "metadata": {
        "id": "JOj6f_TXGpSH"
      }
    },
    {
      "cell_type": "code",
      "source": [
        "# examples, don't touch\n",
        "\n",
        "# # create a path for the saved models\n",
        "# model_dir_path = \"trained_models/\"\n",
        "# if not os.path.exists(model_dir_path):\n",
        "#   os.mkdir(model_dir_path)\n",
        "\n",
        "\n",
        "# model_path = model_dir_path + f\"model{idx}.keras\"\n",
        "# best_m.save(model_path, include_optimizer=True)\n",
        "\n",
        "# m1 = tf.keras.models.load_model(model_dir_path, compile=True)"
      ],
      "metadata": {
        "id": "wb7Zld5bgHYk"
      },
      "execution_count": 174,
      "outputs": []
    },
    {
      "cell_type": "code",
      "source": [
        "# tuned_model.save(\"model.keras\", include_optimizer=True)"
      ],
      "metadata": {
        "id": "bWG_MfM5Hboi"
      },
      "execution_count": 175,
      "outputs": []
    },
    {
      "cell_type": "code",
      "source": [
        "# loaded_model = tf.keras.models.load_model(\"model.keras\", compile=True)\n",
        "# loaded_model.summary()"
      ],
      "metadata": {
        "id": "YYn08QrIV4Ay"
      },
      "execution_count": 176,
      "outputs": []
    },
    {
      "cell_type": "code",
      "source": [
        "# y_pred = loaded_model.predict(X_test)\n",
        "# print(y_pred.shape)\n",
        "# print(\"AUC score:\", roc_auc_score(y_test, y_pred))\n",
        "# fpr, tpr, thresh = roc_curve(y_test, y_pred)\n",
        "# # print(\"Thresh:\", thresh)\n",
        "# # print(\"FPR, TPR\", fpr, tpr)\n",
        "# plt.plot([0, 1], [0, 1])\n",
        "# plt.plot(fpr, tpr)"
      ],
      "metadata": {
        "id": "IErKYDYZF8qG"
      },
      "execution_count": 177,
      "outputs": []
    },
    {
      "cell_type": "code",
      "source": [
        "# y_pred = (y_pred > 0.5).astype(int)\n",
        "# print(y_pred.shape)\n",
        "# print(np.unique(y_pred))\n",
        "\n",
        "# print(classification_report(y_true=y_test, y_pred=y_pred.astype(int)))\n",
        "# cm = confusion_matrix(y_true=y_test, y_pred=y_pred.astype(int))\n",
        "# sns.heatmap(cm, annot=True, fmt=\"g\")"
      ],
      "metadata": {
        "id": "eFZCgcpNF8jK"
      },
      "execution_count": 178,
      "outputs": []
    },
    {
      "cell_type": "code",
      "source": [],
      "metadata": {
        "id": "jqzFCSwGF8bM"
      },
      "execution_count": 178,
      "outputs": []
    },
    {
      "cell_type": "code",
      "source": [],
      "metadata": {
        "id": "d1aktMnwGuth"
      },
      "execution_count": 178,
      "outputs": []
    },
    {
      "cell_type": "code",
      "source": [],
      "metadata": {
        "id": "U_Mp32H8GvUS"
      },
      "execution_count": 178,
      "outputs": []
    }
  ]
}